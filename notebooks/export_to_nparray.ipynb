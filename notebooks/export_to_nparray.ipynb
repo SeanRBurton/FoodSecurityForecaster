{
 "cells": [
  {
   "cell_type": "markdown",
   "metadata": {},
   "source": [
    "## Links to geemap syntax & GEE layers"
   ]
  },
  {
   "cell_type": "code",
   "execution_count": null,
   "metadata": {
    "id": "4M7ZxznyqaCy"
   },
   "outputs": [],
   "source": [
    "# geemap DOCUMENTATION:\n",
    "## 1. https://geemap.org/usage/ \n",
    "## 2. https://developers.google.com/earth-engine/guides/image_overview#colab-python\n",
    "## 3. https://www.youtube.com/watch?v=_6JOA-iiEGU&ab_channel=QiushengWu (tutorial)"
   ]
  },
  {
   "cell_type": "markdown",
   "metadata": {
    "id": "ud98of5aqaDI"
   },
   "source": [
    "## Export multiple images as Numpy array"
   ]
  },
  {
   "cell_type": "markdown",
   "metadata": {},
   "source": [
    "### Define region of interest"
   ]
  },
  {
   "cell_type": "code",
   "execution_count": 18,
   "metadata": {},
   "outputs": [
    {
     "name": "stdout",
     "output_type": "stream",
     "text": [
      "Collecting geemap\n",
      "  Using cached geemap-0.16.7-py2.py3-none-any.whl (2.1 MB)\n",
      "Requirement already satisfied: pillow in /home/hassib12/.pyenv/versions/3.8.12/envs/FoodSecurityForecaster/lib/python3.8/site-packages (from geemap) (9.2.0)\n",
      "Collecting pyshp>=2.1.3\n",
      "  Using cached pyshp-2.3.1-py2.py3-none-any.whl (46 kB)\n",
      "Collecting ffmpeg-python\n",
      "  Using cached ffmpeg_python-0.2.0-py3-none-any.whl (25 kB)\n",
      "Requirement already satisfied: matplotlib in /home/hassib12/.pyenv/versions/3.8.12/envs/FoodSecurityForecaster/lib/python3.8/site-packages (from geemap) (3.5.3)\n",
      "Requirement already satisfied: earthengine-api>=0.1.304 in /home/hassib12/.pyenv/versions/3.8.12/envs/FoodSecurityForecaster/lib/python3.8/site-packages (from geemap) (0.1.322)\n",
      "Collecting geojson\n",
      "  Using cached geojson-2.5.0-py2.py3-none-any.whl (14 kB)\n",
      "Collecting xyzservices\n",
      "  Using cached xyzservices-2022.6.0-py3-none-any.whl (36 kB)\n",
      "Collecting ipytree\n",
      "  Using cached ipytree-0.2.2-py2.py3-none-any.whl (1.3 MB)\n",
      "Collecting bqplot\n",
      "  Downloading bqplot-0.12.36-py2.py3-none-any.whl (1.2 MB)\n",
      "\u001b[2K     \u001b[90m━━━━━━━━━━━━━━━━━━━━━━━━━━━━━━━━━━━━━━━━\u001b[0m \u001b[32m1.2/1.2 MB\u001b[0m \u001b[31m5.0 MB/s\u001b[0m eta \u001b[36m0:00:00\u001b[0m00:01\u001b[0m00:01\u001b[0m\n",
      "\u001b[?25hCollecting whiteboxgui>=0.6.0\n",
      "  Using cached whiteboxgui-0.7.0-py2.py3-none-any.whl (99 kB)\n",
      "Collecting ee-extra>=0.0.10\n",
      "  Using cached ee_extra-0.0.14-py3-none-any.whl\n",
      "Requirement already satisfied: jupyterlab>=3 in /home/hassib12/.pyenv/versions/3.8.12/envs/FoodSecurityForecaster/lib/python3.8/site-packages (from geemap) (3.4.5)\n",
      "Collecting ipyfilechooser>=0.6.0\n",
      "  Using cached ipyfilechooser-0.6.0-py3-none-any.whl (11 kB)\n",
      "Collecting geeadd>=0.5.1\n",
      "  Downloading geeadd-0.5.6-py3-none-any.whl (30 kB)\n",
      "Collecting gdown\n",
      "  Using cached gdown-4.5.1-py3-none-any.whl\n",
      "Collecting folium>=0.11.0\n",
      "  Using cached folium-0.12.1.post1-py2.py3-none-any.whl (95 kB)\n",
      "Collecting colour\n",
      "  Using cached colour-0.1.5-py2.py3-none-any.whl (23 kB)\n",
      "Collecting sankee>=0.1.0\n",
      "  Using cached sankee-0.2.0-py3-none-any.whl\n",
      "Requirement already satisfied: pandas in /home/hassib12/.pyenv/versions/3.8.12/envs/FoodSecurityForecaster/lib/python3.8/site-packages (from geemap) (1.4.4)\n",
      "Collecting ipyleaflet>=0.17.0\n",
      "  Using cached ipyleaflet-0.17.1-py3-none-any.whl (3.4 MB)\n",
      "Collecting geocoder\n",
      "  Using cached geocoder-1.38.1-py2.py3-none-any.whl (98 kB)\n",
      "Collecting pycrs\n",
      "  Using cached PyCRS-1.0.2-py3-none-any.whl\n",
      "Collecting scooby\n",
      "  Using cached scooby-0.6.0-py3-none-any.whl (14 kB)\n",
      "Collecting ipyevents\n",
      "  Using cached ipyevents-2.0.1-py2.py3-none-any.whl (130 kB)\n",
      "Requirement already satisfied: numpy in /home/hassib12/.pyenv/versions/3.8.12/envs/FoodSecurityForecaster/lib/python3.8/site-packages (from geemap) (1.23.2)\n",
      "Collecting python-box\n",
      "  Using cached python_box-6.0.2-cp38-cp38-manylinux_2_17_x86_64.manylinux2014_x86_64.whl (3.4 MB)\n",
      "Requirement already satisfied: google-auth>=1.4.1 in /home/hassib12/.pyenv/versions/3.8.12/envs/FoodSecurityForecaster/lib/python3.8/site-packages (from earthengine-api>=0.1.304->geemap) (2.11.0)\n",
      "Requirement already satisfied: google-auth-httplib2>=0.0.3 in /home/hassib12/.pyenv/versions/3.8.12/envs/FoodSecurityForecaster/lib/python3.8/site-packages (from earthengine-api>=0.1.304->geemap) (0.1.0)\n",
      "Requirement already satisfied: httplib2shim in /home/hassib12/.pyenv/versions/3.8.12/envs/FoodSecurityForecaster/lib/python3.8/site-packages (from earthengine-api>=0.1.304->geemap) (0.0.3)\n",
      "Requirement already satisfied: future in /home/hassib12/.pyenv/versions/3.8.12/envs/FoodSecurityForecaster/lib/python3.8/site-packages (from earthengine-api>=0.1.304->geemap) (0.18.2)\n",
      "Requirement already satisfied: google-api-python-client<2,>=1.12.1 in /home/hassib12/.pyenv/versions/3.8.12/envs/FoodSecurityForecaster/lib/python3.8/site-packages (from earthengine-api>=0.1.304->geemap) (1.12.11)\n",
      "Requirement already satisfied: google-cloud-storage in /home/hassib12/.pyenv/versions/3.8.12/envs/FoodSecurityForecaster/lib/python3.8/site-packages (from earthengine-api>=0.1.304->geemap) (2.5.0)\n",
      "Requirement already satisfied: six in /home/hassib12/.pyenv/versions/3.8.12/envs/FoodSecurityForecaster/lib/python3.8/site-packages (from earthengine-api>=0.1.304->geemap) (1.16.0)\n",
      "Requirement already satisfied: httplib2<1dev,>=0.9.2 in /home/hassib12/.pyenv/versions/3.8.12/envs/FoodSecurityForecaster/lib/python3.8/site-packages (from earthengine-api>=0.1.304->geemap) (0.20.4)\n",
      "Requirement already satisfied: requests in /home/hassib12/.pyenv/versions/3.8.12/envs/FoodSecurityForecaster/lib/python3.8/site-packages (from folium>=0.11.0->geemap) (2.28.1)\n",
      "Requirement already satisfied: jinja2>=2.9 in /home/hassib12/.pyenv/versions/3.8.12/envs/FoodSecurityForecaster/lib/python3.8/site-packages (from folium>=0.11.0->geemap) (3.1.2)\n",
      "Collecting branca>=0.3.0\n",
      "  Using cached branca-0.5.0-py3-none-any.whl (24 kB)\n",
      "Collecting logzero>=1.5.0\n",
      "  Using cached logzero-1.7.0-py2.py3-none-any.whl (16 kB)\n",
      "Requirement already satisfied: beautifulsoup4>=4.9.0 in /home/hassib12/.pyenv/versions/3.8.12/envs/FoodSecurityForecaster/lib/python3.8/site-packages (from geeadd>=0.5.1->geemap) (4.11.1)\n",
      "Collecting ipywidgets\n",
      "  Downloading ipywidgets-8.0.2-py3-none-any.whl (134 kB)\n",
      "\u001b[2K     \u001b[90m━━━━━━━━━━━━━━━━━━━━━━━━━━━━━━━━━━━━━━━\u001b[0m \u001b[32m134.4/134.4 kB\u001b[0m \u001b[31m2.3 MB/s\u001b[0m eta \u001b[36m0:00:00\u001b[0m00:01\u001b[0m\n",
      "\u001b[?25hCollecting traittypes<3,>=0.2.1\n",
      "  Using cached traittypes-0.2.1-py2.py3-none-any.whl (8.6 kB)\n",
      "Requirement already satisfied: packaging in /home/hassib12/.pyenv/versions/3.8.12/envs/FoodSecurityForecaster/lib/python3.8/site-packages (from jupyterlab>=3->geemap) (21.3)\n",
      "Requirement already satisfied: jupyter-core in /home/hassib12/.pyenv/versions/3.8.12/envs/FoodSecurityForecaster/lib/python3.8/site-packages (from jupyterlab>=3->geemap) (4.11.1)\n",
      "Requirement already satisfied: jupyter-server~=1.16 in /home/hassib12/.pyenv/versions/3.8.12/envs/FoodSecurityForecaster/lib/python3.8/site-packages (from jupyterlab>=3->geemap) (1.18.1)\n",
      "Requirement already satisfied: jupyterlab-server~=2.10 in /home/hassib12/.pyenv/versions/3.8.12/envs/FoodSecurityForecaster/lib/python3.8/site-packages (from jupyterlab>=3->geemap) (2.15.1)\n",
      "Requirement already satisfied: notebook<7 in /home/hassib12/.pyenv/versions/3.8.12/envs/FoodSecurityForecaster/lib/python3.8/site-packages (from jupyterlab>=3->geemap) (6.4.12)\n",
      "Requirement already satisfied: nbclassic in /home/hassib12/.pyenv/versions/3.8.12/envs/FoodSecurityForecaster/lib/python3.8/site-packages (from jupyterlab>=3->geemap) (0.4.3)\n",
      "Requirement already satisfied: ipython in /home/hassib12/.pyenv/versions/3.8.12/envs/FoodSecurityForecaster/lib/python3.8/site-packages (from jupyterlab>=3->geemap) (8.4.0)\n",
      "Requirement already satisfied: tornado>=6.1.0 in /home/hassib12/.pyenv/versions/3.8.12/envs/FoodSecurityForecaster/lib/python3.8/site-packages (from jupyterlab>=3->geemap) (6.2)\n",
      "Collecting plotly>=5.2.2\n",
      "  Downloading plotly-5.10.0-py2.py3-none-any.whl (15.2 MB)\n",
      "\u001b[2K     \u001b[90m━━━━━━━━━━━━━━━━━━━━━━━━━━━━━━━━━━━━━━━━\u001b[0m \u001b[32m15.2/15.2 MB\u001b[0m \u001b[31m3.7 MB/s\u001b[0m eta \u001b[36m0:00:00\u001b[0m00:01\u001b[0m00:01\u001b[0m\n",
      "\u001b[?25hCollecting whitebox\n",
      "  Using cached whitebox-2.1.4-py2.py3-none-any.whl (75 kB)\n",
      "Requirement already satisfied: traitlets>=4.3.0 in /home/hassib12/.pyenv/versions/3.8.12/envs/FoodSecurityForecaster/lib/python3.8/site-packages (from bqplot->geemap) (5.3.0)\n",
      "Requirement already satisfied: python-dateutil>=2.8.1 in /home/hassib12/.pyenv/versions/3.8.12/envs/FoodSecurityForecaster/lib/python3.8/site-packages (from pandas->geemap) (2.8.2)\n",
      "Requirement already satisfied: pytz>=2020.1 in /home/hassib12/.pyenv/versions/3.8.12/envs/FoodSecurityForecaster/lib/python3.8/site-packages (from pandas->geemap) (2022.2.1)\n",
      "Collecting tqdm\n",
      "  Downloading tqdm-4.64.1-py2.py3-none-any.whl (78 kB)\n",
      "\u001b[2K     \u001b[90m━━━━━━━━━━━━━━━━━━━━━━━━━━━━━━━━━━━━━━━━\u001b[0m \u001b[32m78.5/78.5 kB\u001b[0m \u001b[31m3.4 MB/s\u001b[0m eta \u001b[36m0:00:00\u001b[0m\n",
      "\u001b[?25hCollecting filelock\n",
      "  Using cached filelock-3.8.0-py3-none-any.whl (10 kB)\n",
      "Collecting ratelim\n",
      "  Using cached ratelim-0.1.6-py2.py3-none-any.whl (4.0 kB)\n",
      "Collecting click\n",
      "  Using cached click-8.1.3-py3-none-any.whl (96 kB)\n",
      "Requirement already satisfied: fonttools>=4.22.0 in /home/hassib12/.pyenv/versions/3.8.12/envs/FoodSecurityForecaster/lib/python3.8/site-packages (from matplotlib->geemap) (4.37.1)\n",
      "Requirement already satisfied: kiwisolver>=1.0.1 in /home/hassib12/.pyenv/versions/3.8.12/envs/FoodSecurityForecaster/lib/python3.8/site-packages (from matplotlib->geemap) (1.4.4)\n",
      "Requirement already satisfied: pyparsing>=2.2.1 in /home/hassib12/.pyenv/versions/3.8.12/envs/FoodSecurityForecaster/lib/python3.8/site-packages (from matplotlib->geemap) (3.0.9)\n",
      "Requirement already satisfied: cycler>=0.10 in /home/hassib12/.pyenv/versions/3.8.12/envs/FoodSecurityForecaster/lib/python3.8/site-packages (from matplotlib->geemap) (0.11.0)\n"
     ]
    },
    {
     "name": "stdout",
     "output_type": "stream",
     "text": [
      "Requirement already satisfied: soupsieve>1.2 in /home/hassib12/.pyenv/versions/3.8.12/envs/FoodSecurityForecaster/lib/python3.8/site-packages (from beautifulsoup4>=4.9.0->geeadd>=0.5.1->geemap) (2.3.2.post1)\n",
      "Requirement already satisfied: uritemplate<4dev,>=3.0.0 in /home/hassib12/.pyenv/versions/3.8.12/envs/FoodSecurityForecaster/lib/python3.8/site-packages (from google-api-python-client<2,>=1.12.1->earthengine-api>=0.1.304->geemap) (3.0.1)\n",
      "Requirement already satisfied: google-api-core<3dev,>=1.21.0 in /home/hassib12/.pyenv/versions/3.8.12/envs/FoodSecurityForecaster/lib/python3.8/site-packages (from google-api-python-client<2,>=1.12.1->earthengine-api>=0.1.304->geemap) (2.10.0)\n",
      "Requirement already satisfied: pyasn1-modules>=0.2.1 in /home/hassib12/.pyenv/versions/3.8.12/envs/FoodSecurityForecaster/lib/python3.8/site-packages (from google-auth>=1.4.1->earthengine-api>=0.1.304->geemap) (0.2.8)\n",
      "Requirement already satisfied: cachetools<6.0,>=2.0.0 in /home/hassib12/.pyenv/versions/3.8.12/envs/FoodSecurityForecaster/lib/python3.8/site-packages (from google-auth>=1.4.1->earthengine-api>=0.1.304->geemap) (5.2.0)\n",
      "Requirement already satisfied: rsa<5,>=3.1.4 in /home/hassib12/.pyenv/versions/3.8.12/envs/FoodSecurityForecaster/lib/python3.8/site-packages (from google-auth>=1.4.1->earthengine-api>=0.1.304->geemap) (4.9)\n",
      "Collecting widgetsnbextension~=4.0\n",
      "  Downloading widgetsnbextension-4.0.3-py3-none-any.whl (2.0 MB)\n",
      "\u001b[2K     \u001b[90m━━━━━━━━━━━━━━━━━━━━━━━━━━━━━━━━━━━━━━━━\u001b[0m \u001b[32m2.0/2.0 MB\u001b[0m \u001b[31m5.3 MB/s\u001b[0m eta \u001b[36m0:00:00\u001b[0m00:01\u001b[0m00:01\u001b[0m\n",
      "\u001b[?25hCollecting jupyterlab-widgets~=3.0\n",
      "  Downloading jupyterlab_widgets-3.0.3-py3-none-any.whl (384 kB)\n",
      "\u001b[2K     \u001b[90m━━━━━━━━━━━━━━━━━━━━━━━━━━━━━━━━━━━━━━━\u001b[0m \u001b[32m384.1/384.1 kB\u001b[0m \u001b[31m4.1 MB/s\u001b[0m eta \u001b[36m0:00:00\u001b[0ma \u001b[36m0:00:01\u001b[0m\n",
      "\u001b[?25hRequirement already satisfied: ipykernel>=4.5.1 in /home/hassib12/.pyenv/versions/3.8.12/envs/FoodSecurityForecaster/lib/python3.8/site-packages (from ipywidgets->ipyfilechooser>=0.6.0->geemap) (6.15.2)\n",
      "Requirement already satisfied: jedi>=0.16 in /home/hassib12/.pyenv/versions/3.8.12/envs/FoodSecurityForecaster/lib/python3.8/site-packages (from ipython->jupyterlab>=3->geemap) (0.18.1)\n",
      "Requirement already satisfied: pygments>=2.4.0 in /home/hassib12/.pyenv/versions/3.8.12/envs/FoodSecurityForecaster/lib/python3.8/site-packages (from ipython->jupyterlab>=3->geemap) (2.13.0)\n",
      "Requirement already satisfied: decorator in /home/hassib12/.pyenv/versions/3.8.12/envs/FoodSecurityForecaster/lib/python3.8/site-packages (from ipython->jupyterlab>=3->geemap) (5.1.1)\n",
      "Requirement already satisfied: backcall in /home/hassib12/.pyenv/versions/3.8.12/envs/FoodSecurityForecaster/lib/python3.8/site-packages (from ipython->jupyterlab>=3->geemap) (0.2.0)\n",
      "Requirement already satisfied: stack-data in /home/hassib12/.pyenv/versions/3.8.12/envs/FoodSecurityForecaster/lib/python3.8/site-packages (from ipython->jupyterlab>=3->geemap) (0.5.0)\n",
      "Requirement already satisfied: prompt-toolkit!=3.0.0,!=3.0.1,<3.1.0,>=2.0.0 in /home/hassib12/.pyenv/versions/3.8.12/envs/FoodSecurityForecaster/lib/python3.8/site-packages (from ipython->jupyterlab>=3->geemap) (3.0.31)\n",
      "Requirement already satisfied: setuptools>=18.5 in /home/hassib12/.pyenv/versions/3.8.12/envs/FoodSecurityForecaster/lib/python3.8/site-packages (from ipython->jupyterlab>=3->geemap) (56.0.0)\n",
      "Requirement already satisfied: pickleshare in /home/hassib12/.pyenv/versions/3.8.12/envs/FoodSecurityForecaster/lib/python3.8/site-packages (from ipython->jupyterlab>=3->geemap) (0.7.5)\n",
      "Requirement already satisfied: pexpect>4.3 in /home/hassib12/.pyenv/versions/3.8.12/envs/FoodSecurityForecaster/lib/python3.8/site-packages (from ipython->jupyterlab>=3->geemap) (4.8.0)\n",
      "Requirement already satisfied: matplotlib-inline in /home/hassib12/.pyenv/versions/3.8.12/envs/FoodSecurityForecaster/lib/python3.8/site-packages (from ipython->jupyterlab>=3->geemap) (0.1.6)\n",
      "Requirement already satisfied: MarkupSafe>=2.0 in /home/hassib12/.pyenv/versions/3.8.12/envs/FoodSecurityForecaster/lib/python3.8/site-packages (from jinja2>=2.9->folium>=0.11.0->geemap) (2.1.1)\n",
      "Requirement already satisfied: prometheus-client in /home/hassib12/.pyenv/versions/3.8.12/envs/FoodSecurityForecaster/lib/python3.8/site-packages (from jupyter-server~=1.16->jupyterlab>=3->geemap) (0.14.1)\n",
      "Requirement already satisfied: jupyter-client>=6.1.12 in /home/hassib12/.pyenv/versions/3.8.12/envs/FoodSecurityForecaster/lib/python3.8/site-packages (from jupyter-server~=1.16->jupyterlab>=3->geemap) (7.3.5)\n",
      "Requirement already satisfied: argon2-cffi in /home/hassib12/.pyenv/versions/3.8.12/envs/FoodSecurityForecaster/lib/python3.8/site-packages (from jupyter-server~=1.16->jupyterlab>=3->geemap) (21.3.0)\n",
      "Requirement already satisfied: nbconvert>=6.4.4 in /home/hassib12/.pyenv/versions/3.8.12/envs/FoodSecurityForecaster/lib/python3.8/site-packages (from jupyter-server~=1.16->jupyterlab>=3->geemap) (7.0.0)\n",
      "Requirement already satisfied: anyio<4,>=3.1.0 in /home/hassib12/.pyenv/versions/3.8.12/envs/FoodSecurityForecaster/lib/python3.8/site-packages (from jupyter-server~=1.16->jupyterlab>=3->geemap) (3.6.1)\n",
      "Requirement already satisfied: websocket-client in /home/hassib12/.pyenv/versions/3.8.12/envs/FoodSecurityForecaster/lib/python3.8/site-packages (from jupyter-server~=1.16->jupyterlab>=3->geemap) (1.4.1)\n",
      "Requirement already satisfied: pyzmq>=17 in /home/hassib12/.pyenv/versions/3.8.12/envs/FoodSecurityForecaster/lib/python3.8/site-packages (from jupyter-server~=1.16->jupyterlab>=3->geemap) (23.2.1)\n",
      "Requirement already satisfied: nbformat>=5.2.0 in /home/hassib12/.pyenv/versions/3.8.12/envs/FoodSecurityForecaster/lib/python3.8/site-packages (from jupyter-server~=1.16->jupyterlab>=3->geemap) (5.4.0)\n",
      "Requirement already satisfied: terminado>=0.8.3 in /home/hassib12/.pyenv/versions/3.8.12/envs/FoodSecurityForecaster/lib/python3.8/site-packages (from jupyter-server~=1.16->jupyterlab>=3->geemap) (0.15.0)\n",
      "Requirement already satisfied: Send2Trash in /home/hassib12/.pyenv/versions/3.8.12/envs/FoodSecurityForecaster/lib/python3.8/site-packages (from jupyter-server~=1.16->jupyterlab>=3->geemap) (1.8.0)\n",
      "Requirement already satisfied: json5 in /home/hassib12/.pyenv/versions/3.8.12/envs/FoodSecurityForecaster/lib/python3.8/site-packages (from jupyterlab-server~=2.10->jupyterlab>=3->geemap) (0.9.10)\n",
      "Requirement already satisfied: babel in /home/hassib12/.pyenv/versions/3.8.12/envs/FoodSecurityForecaster/lib/python3.8/site-packages (from jupyterlab-server~=2.10->jupyterlab>=3->geemap) (2.10.3)\n",
      "Requirement already satisfied: jsonschema>=3.0.1 in /home/hassib12/.pyenv/versions/3.8.12/envs/FoodSecurityForecaster/lib/python3.8/site-packages (from jupyterlab-server~=2.10->jupyterlab>=3->geemap) (4.15.0)\n",
      "Requirement already satisfied: importlib-metadata>=3.6 in /home/hassib12/.pyenv/versions/3.8.12/envs/FoodSecurityForecaster/lib/python3.8/site-packages (from jupyterlab-server~=2.10->jupyterlab>=3->geemap) (4.12.0)\n",
      "Requirement already satisfied: ipython-genutils in /home/hassib12/.pyenv/versions/3.8.12/envs/FoodSecurityForecaster/lib/python3.8/site-packages (from notebook<7->jupyterlab>=3->geemap) (0.2.0)\n",
      "Requirement already satisfied: nest-asyncio>=1.5 in /home/hassib12/.pyenv/versions/3.8.12/envs/FoodSecurityForecaster/lib/python3.8/site-packages (from notebook<7->jupyterlab>=3->geemap) (1.5.5)\n",
      "Collecting tenacity>=6.2.0\n",
      "  Using cached tenacity-8.0.1-py3-none-any.whl (24 kB)\n",
      "Requirement already satisfied: idna<4,>=2.5 in /home/hassib12/.pyenv/versions/3.8.12/envs/FoodSecurityForecaster/lib/python3.8/site-packages (from requests->folium>=0.11.0->geemap) (3.3)\n",
      "Requirement already satisfied: charset-normalizer<3,>=2 in /home/hassib12/.pyenv/versions/3.8.12/envs/FoodSecurityForecaster/lib/python3.8/site-packages (from requests->folium>=0.11.0->geemap) (2.1.1)\n",
      "Requirement already satisfied: urllib3<1.27,>=1.21.1 in /home/hassib12/.pyenv/versions/3.8.12/envs/FoodSecurityForecaster/lib/python3.8/site-packages (from requests->folium>=0.11.0->geemap) (1.26.12)\n",
      "Requirement already satisfied: certifi>=2017.4.17 in /home/hassib12/.pyenv/versions/3.8.12/envs/FoodSecurityForecaster/lib/python3.8/site-packages (from requests->folium>=0.11.0->geemap) (2022.6.15)\n"
     ]
    },
    {
     "name": "stdout",
     "output_type": "stream",
     "text": [
      "Requirement already satisfied: google-cloud-core<3.0dev,>=2.3.0 in /home/hassib12/.pyenv/versions/3.8.12/envs/FoodSecurityForecaster/lib/python3.8/site-packages (from google-cloud-storage->earthengine-api>=0.1.304->geemap) (2.3.2)\n",
      "Requirement already satisfied: google-resumable-media>=2.3.2 in /home/hassib12/.pyenv/versions/3.8.12/envs/FoodSecurityForecaster/lib/python3.8/site-packages (from google-cloud-storage->earthengine-api>=0.1.304->geemap) (2.3.3)\n",
      "Requirement already satisfied: notebook-shim>=0.1.0 in /home/hassib12/.pyenv/versions/3.8.12/envs/FoodSecurityForecaster/lib/python3.8/site-packages (from nbclassic->jupyterlab>=3->geemap) (0.1.0)\n",
      "Collecting PySocks!=1.5.7,>=1.5.6\n",
      "  Using cached PySocks-1.7.1-py3-none-any.whl (16 kB)\n",
      "Requirement already satisfied: sniffio>=1.1 in /home/hassib12/.pyenv/versions/3.8.12/envs/FoodSecurityForecaster/lib/python3.8/site-packages (from anyio<4,>=3.1.0->jupyter-server~=1.16->jupyterlab>=3->geemap) (1.3.0)\n",
      "Requirement already satisfied: googleapis-common-protos<2.0dev,>=1.56.2 in /home/hassib12/.pyenv/versions/3.8.12/envs/FoodSecurityForecaster/lib/python3.8/site-packages (from google-api-core<3dev,>=1.21.0->google-api-python-client<2,>=1.12.1->earthengine-api>=0.1.304->geemap) (1.56.4)\n",
      "Requirement already satisfied: protobuf<5.0.0dev,>=3.20.1 in /home/hassib12/.pyenv/versions/3.8.12/envs/FoodSecurityForecaster/lib/python3.8/site-packages (from google-api-core<3dev,>=1.21.0->google-api-python-client<2,>=1.12.1->earthengine-api>=0.1.304->geemap) (4.21.5)\n",
      "Requirement already satisfied: google-crc32c<2.0dev,>=1.0 in /home/hassib12/.pyenv/versions/3.8.12/envs/FoodSecurityForecaster/lib/python3.8/site-packages (from google-resumable-media>=2.3.2->google-cloud-storage->earthengine-api>=0.1.304->geemap) (1.5.0)\n",
      "Requirement already satisfied: zipp>=0.5 in /home/hassib12/.pyenv/versions/3.8.12/envs/FoodSecurityForecaster/lib/python3.8/site-packages (from importlib-metadata>=3.6->jupyterlab-server~=2.10->jupyterlab>=3->geemap) (3.8.1)\n",
      "Requirement already satisfied: psutil in /home/hassib12/.pyenv/versions/3.8.12/envs/FoodSecurityForecaster/lib/python3.8/site-packages (from ipykernel>=4.5.1->ipywidgets->ipyfilechooser>=0.6.0->geemap) (5.9.2)\n",
      "Requirement already satisfied: debugpy>=1.0 in /home/hassib12/.pyenv/versions/3.8.12/envs/FoodSecurityForecaster/lib/python3.8/site-packages (from ipykernel>=4.5.1->ipywidgets->ipyfilechooser>=0.6.0->geemap) (1.6.3)\n",
      "Requirement already satisfied: parso<0.9.0,>=0.8.0 in /home/hassib12/.pyenv/versions/3.8.12/envs/FoodSecurityForecaster/lib/python3.8/site-packages (from jedi>=0.16->ipython->jupyterlab>=3->geemap) (0.8.3)\n",
      "Requirement already satisfied: pyrsistent!=0.17.0,!=0.17.1,!=0.17.2,>=0.14.0 in /home/hassib12/.pyenv/versions/3.8.12/envs/FoodSecurityForecaster/lib/python3.8/site-packages (from jsonschema>=3.0.1->jupyterlab-server~=2.10->jupyterlab>=3->geemap) (0.18.1)\n",
      "Requirement already satisfied: importlib-resources>=1.4.0 in /home/hassib12/.pyenv/versions/3.8.12/envs/FoodSecurityForecaster/lib/python3.8/site-packages (from jsonschema>=3.0.1->jupyterlab-server~=2.10->jupyterlab>=3->geemap) (5.9.0)\n",
      "Requirement already satisfied: attrs>=17.4.0 in /home/hassib12/.pyenv/versions/3.8.12/envs/FoodSecurityForecaster/lib/python3.8/site-packages (from jsonschema>=3.0.1->jupyterlab-server~=2.10->jupyterlab>=3->geemap) (22.1.0)\n",
      "Requirement already satisfied: pkgutil-resolve-name>=1.3.10 in /home/hassib12/.pyenv/versions/3.8.12/envs/FoodSecurityForecaster/lib/python3.8/site-packages (from jsonschema>=3.0.1->jupyterlab-server~=2.10->jupyterlab>=3->geemap) (1.3.10)\n",
      "Requirement already satisfied: entrypoints in /home/hassib12/.pyenv/versions/3.8.12/envs/FoodSecurityForecaster/lib/python3.8/site-packages (from jupyter-client>=6.1.12->jupyter-server~=1.16->jupyterlab>=3->geemap) (0.4)\n",
      "Requirement already satisfied: lxml in /home/hassib12/.pyenv/versions/3.8.12/envs/FoodSecurityForecaster/lib/python3.8/site-packages (from nbconvert>=6.4.4->jupyter-server~=1.16->jupyterlab>=3->geemap) (4.9.1)\n",
      "Requirement already satisfied: defusedxml in /home/hassib12/.pyenv/versions/3.8.12/envs/FoodSecurityForecaster/lib/python3.8/site-packages (from nbconvert>=6.4.4->jupyter-server~=1.16->jupyterlab>=3->geemap) (0.7.1)\n",
      "Requirement already satisfied: mistune<3,>=2.0.3 in /home/hassib12/.pyenv/versions/3.8.12/envs/FoodSecurityForecaster/lib/python3.8/site-packages (from nbconvert>=6.4.4->jupyter-server~=1.16->jupyterlab>=3->geemap) (2.0.4)\n",
      "Requirement already satisfied: pandocfilters>=1.4.1 in /home/hassib12/.pyenv/versions/3.8.12/envs/FoodSecurityForecaster/lib/python3.8/site-packages (from nbconvert>=6.4.4->jupyter-server~=1.16->jupyterlab>=3->geemap) (1.5.0)\n",
      "Requirement already satisfied: jupyterlab-pygments in /home/hassib12/.pyenv/versions/3.8.12/envs/FoodSecurityForecaster/lib/python3.8/site-packages (from nbconvert>=6.4.4->jupyter-server~=1.16->jupyterlab>=3->geemap) (0.2.2)\n",
      "Requirement already satisfied: nbclient>=0.5.0 in /home/hassib12/.pyenv/versions/3.8.12/envs/FoodSecurityForecaster/lib/python3.8/site-packages (from nbconvert>=6.4.4->jupyter-server~=1.16->jupyterlab>=3->geemap) (0.6.7)\n",
      "Requirement already satisfied: tinycss2 in /home/hassib12/.pyenv/versions/3.8.12/envs/FoodSecurityForecaster/lib/python3.8/site-packages (from nbconvert>=6.4.4->jupyter-server~=1.16->jupyterlab>=3->geemap) (1.1.1)\n",
      "Requirement already satisfied: bleach in /home/hassib12/.pyenv/versions/3.8.12/envs/FoodSecurityForecaster/lib/python3.8/site-packages (from nbconvert>=6.4.4->jupyter-server~=1.16->jupyterlab>=3->geemap) (5.0.1)\n",
      "Requirement already satisfied: fastjsonschema in /home/hassib12/.pyenv/versions/3.8.12/envs/FoodSecurityForecaster/lib/python3.8/site-packages (from nbformat>=5.2.0->jupyter-server~=1.16->jupyterlab>=3->geemap) (2.16.1)\n",
      "Requirement already satisfied: ptyprocess>=0.5 in /home/hassib12/.pyenv/versions/3.8.12/envs/FoodSecurityForecaster/lib/python3.8/site-packages (from pexpect>4.3->ipython->jupyterlab>=3->geemap) (0.7.0)\n",
      "Requirement already satisfied: wcwidth in /home/hassib12/.pyenv/versions/3.8.12/envs/FoodSecurityForecaster/lib/python3.8/site-packages (from prompt-toolkit!=3.0.0,!=3.0.1,<3.1.0,>=2.0.0->ipython->jupyterlab>=3->geemap) (0.2.5)\n",
      "Requirement already satisfied: pyasn1<0.5.0,>=0.4.6 in /home/hassib12/.pyenv/versions/3.8.12/envs/FoodSecurityForecaster/lib/python3.8/site-packages (from pyasn1-modules>=0.2.1->google-auth>=1.4.1->earthengine-api>=0.1.304->geemap) (0.4.8)\n",
      "Requirement already satisfied: argon2-cffi-bindings in /home/hassib12/.pyenv/versions/3.8.12/envs/FoodSecurityForecaster/lib/python3.8/site-packages (from argon2-cffi->jupyter-server~=1.16->jupyterlab>=3->geemap) (21.2.0)\n",
      "Requirement already satisfied: executing in /home/hassib12/.pyenv/versions/3.8.12/envs/FoodSecurityForecaster/lib/python3.8/site-packages (from stack-data->ipython->jupyterlab>=3->geemap) (1.0.0)\n",
      "Requirement already satisfied: pure-eval in /home/hassib12/.pyenv/versions/3.8.12/envs/FoodSecurityForecaster/lib/python3.8/site-packages (from stack-data->ipython->jupyterlab>=3->geemap) (0.2.2)\n",
      "Requirement already satisfied: asttokens in /home/hassib12/.pyenv/versions/3.8.12/envs/FoodSecurityForecaster/lib/python3.8/site-packages (from stack-data->ipython->jupyterlab>=3->geemap) (2.0.8)\n",
      "Requirement already satisfied: cffi>=1.0.1 in /home/hassib12/.pyenv/versions/3.8.12/envs/FoodSecurityForecaster/lib/python3.8/site-packages (from argon2-cffi-bindings->argon2-cffi->jupyter-server~=1.16->jupyterlab>=3->geemap) (1.15.1)\n",
      "Requirement already satisfied: webencodings in /home/hassib12/.pyenv/versions/3.8.12/envs/FoodSecurityForecaster/lib/python3.8/site-packages (from bleach->nbconvert>=6.4.4->jupyter-server~=1.16->jupyterlab>=3->geemap) (0.5.1)\n",
      "Requirement already satisfied: pycparser in /home/hassib12/.pyenv/versions/3.8.12/envs/FoodSecurityForecaster/lib/python3.8/site-packages (from cffi>=1.0.1->argon2-cffi-bindings->argon2-cffi->jupyter-server~=1.16->jupyterlab>=3->geemap) (2.21)\n",
      "Installing collected packages: pycrs, logzero, geojson, colour, xyzservices, widgetsnbextension, traittypes, tqdm, tenacity, scooby, ratelim, python-box, PySocks, pyshp, jupyterlab-widgets, filelock, ffmpeg-python, click, whitebox, plotly, geocoder, branca, gdown, folium, ipywidgets, ipytree, ipyleaflet, ipyfilechooser, ipyevents, bqplot, whiteboxgui, sankee, geeadd, ee-extra, geemap\n"
     ]
    },
    {
     "name": "stdout",
     "output_type": "stream",
     "text": [
      "Successfully installed PySocks-1.7.1 bqplot-0.12.36 branca-0.5.0 click-8.1.3 colour-0.1.5 ee-extra-0.0.14 ffmpeg-python-0.2.0 filelock-3.8.0 folium-0.12.1.post1 gdown-4.5.1 geeadd-0.5.6 geemap-0.16.7 geocoder-1.38.1 geojson-2.5.0 ipyevents-2.0.1 ipyfilechooser-0.6.0 ipyleaflet-0.17.1 ipytree-0.2.2 ipywidgets-8.0.2 jupyterlab-widgets-3.0.3 logzero-1.7.0 plotly-5.10.0 pycrs-1.0.2 pyshp-2.3.1 python-box-6.0.2 ratelim-0.1.6 sankee-0.2.0 scooby-0.6.0 tenacity-8.0.1 tqdm-4.64.1 traittypes-0.2.1 whitebox-2.1.4 whiteboxgui-0.7.0 widgetsnbextension-4.0.3 xyzservices-2022.6.0\r\n"
     ]
    }
   ],
   "source": [
    "#!pip install geemap\n",
    "## package to install first\n",
    "# !pip install earthengine-api --upgrade \n",
    "# !pip install pyshp"
   ]
  },
  {
   "cell_type": "code",
   "execution_count": 20,
   "metadata": {},
   "outputs": [],
   "source": [
    "import ee\n",
    "import geemap \n",
    "\n",
    "import os\n",
    "import numpy as np\n",
    "import matplotlib.pyplot as plt\n",
    "Map = geemap.Map()"
   ]
  },
  {
   "cell_type": "code",
   "execution_count": 22,
   "metadata": {},
   "outputs": [],
   "source": [
    "region = ee.Geometry.Polygon([[\n",
    "    [-110.8, 44.7], \n",
    "    [-110.8, 44.6], \n",
    "    [-110.6, 44.6], \n",
    "    [-110.6, 44.7]]], \n",
    "    None, \n",
    "    False)\n",
    "\n",
    " \n",
    "# countries_shp = 'gadm41_SSD_2.shp'\n",
    "# countries = geemap.shp_to_ee(countries_shp)\n",
    "# Map.addLayer(countries, {}, 'Countries')\n",
    "\n",
    "# geemap.ee_to_shp(countries, filename='gadm41_SSD_2.shp')"
   ]
  },
  {
   "cell_type": "markdown",
   "metadata": {},
   "source": [
    "### Export  imgs for specified date range "
   ]
  },
  {
   "cell_type": "code",
   "execution_count": 31,
   "metadata": {},
   "outputs": [
    {
     "data": {
      "text/plain": [
       "<ee.imagecollection.ImageCollection at 0x7fbaa7301af0>"
      ]
     },
     "execution_count": 31,
     "metadata": {},
     "output_type": "execute_result"
    }
   ],
   "source": [
    "start_date = '2022-04-10'\n",
    "end_date = '2022-09-04'  #narrow down to crop season\n",
    "MODIS_layer = 'MOD13A2'  #(high to low resolution: MOD13Q1 MOD13A1 MOD13A2)\n",
    "collection = (ee.ImageCollection(f'MODIS/061/{MODIS_layer}')\n",
    "    .filter(ee.Filter.date(start_date, end_date))\n",
    "    .filterBounds(region))\n",
    "collection"
   ]
  },
  {
   "cell_type": "markdown",
   "metadata": {
    "heading_collapsed": true
   },
   "source": [
    "### clip (shapefile) and mask (black)"
   ]
  },
  {
   "cell_type": "code",
   "execution_count": 27,
   "metadata": {
    "hidden": true
   },
   "outputs": [
    {
     "ename": "AttributeError",
     "evalue": "'ImageCollection' object has no attribute 'clip'",
     "output_type": "error",
     "traceback": [
      "\u001b[0;31m---------------------------------------------------------------------------\u001b[0m",
      "\u001b[0;31mAttributeError\u001b[0m                            Traceback (most recent call last)",
      "Input \u001b[0;32mIn [27]\u001b[0m, in \u001b[0;36m<cell line: 1>\u001b[0;34m()\u001b[0m\n\u001b[0;32m----> 1\u001b[0m collection \u001b[38;5;241m=\u001b[39m \u001b[43mcollection\u001b[49m\u001b[38;5;241;43m.\u001b[39;49m\u001b[43mclip\u001b[49m(region)\n",
      "\u001b[0;31mAttributeError\u001b[0m: 'ImageCollection' object has no attribute 'clip'"
     ]
    }
   ],
   "source": [
    "collection = collection.clip(region)"
   ]
  },
  {
   "cell_type": "markdown",
   "metadata": {},
   "source": [
    "### Save to files the collection of imgs for each colour band"
   ]
  },
  {
   "cell_type": "code",
   "execution_count": 32,
   "metadata": {
    "scrolled": true
   },
   "outputs": [
    {
     "name": "stdout",
     "output_type": "stream",
     "text": [
      "Total number of images: 6\n",
      "\n",
      "Exporting 1/6: 2022_04_23.tif\n",
      "Generating URL ...\n",
      "Downloading data from https://earthengine.googleapis.com/v1alpha/projects/earthengine-legacy/thumbnails/6e79328dfe01454cb8d196ec9dc33673-d7b837f65bbc2338f75b4caa0608055e:getPixels\n",
      "Please wait ...\n",
      "Data downloaded to /home/hassib12/code/hassib12/FoodSecurityForecaster/notebooks/NDVI maps export\n",
      "\n",
      "\n",
      "Exporting 2/6: 2022_05_09.tif\n",
      "Generating URL ...\n",
      "Downloading data from https://earthengine.googleapis.com/v1alpha/projects/earthengine-legacy/thumbnails/7897527b1eef2d3c7a47bed7a314cc09-dbee003f5f0eedc4f5edcc57352e9486:getPixels\n",
      "Please wait ...\n",
      "Data downloaded to /home/hassib12/code/hassib12/FoodSecurityForecaster/notebooks/NDVI maps export\n",
      "\n",
      "\n",
      "Exporting 3/6: 2022_05_25.tif\n",
      "Generating URL ...\n",
      "Downloading data from https://earthengine.googleapis.com/v1alpha/projects/earthengine-legacy/thumbnails/830d787fd974543286f6242bb0614a6d-077b4b254dd1af7bcfaca386cc19406d:getPixels\n",
      "Please wait ...\n",
      "Data downloaded to /home/hassib12/code/hassib12/FoodSecurityForecaster/notebooks/NDVI maps export\n",
      "\n",
      "\n",
      "Exporting 4/6: 2022_06_10.tif\n",
      "Generating URL ...\n",
      "Downloading data from https://earthengine.googleapis.com/v1alpha/projects/earthengine-legacy/thumbnails/0cd7cb2116e61d4b4b6dbaa3b32d10a7-1dd3a1b10e6e3f9cbfbbaf6f1dabf798:getPixels\n",
      "Please wait ...\n",
      "Data downloaded to /home/hassib12/code/hassib12/FoodSecurityForecaster/notebooks/NDVI maps export\n",
      "\n",
      "\n",
      "Exporting 5/6: 2022_07_28.tif\n",
      "Generating URL ...\n",
      "Downloading data from https://earthengine.googleapis.com/v1alpha/projects/earthengine-legacy/thumbnails/3d3de5fbdefc2557d31de1a01e2f1f5d-f0f64575aa1f5248c221da2a8f93926b:getPixels\n",
      "Please wait ...\n",
      "Data downloaded to /home/hassib12/code/hassib12/FoodSecurityForecaster/notebooks/NDVI maps export\n",
      "\n",
      "\n",
      "Exporting 6/6: 2022_08_13.tif\n",
      "Generating URL ...\n",
      "Downloading data from https://earthengine.googleapis.com/v1alpha/projects/earthengine-legacy/thumbnails/4cc990ed953dc5a9c16931ddf1e4b644-b8c3f41a94974f6b3b4cc43fc08c7ac0:getPixels\n",
      "Please wait ...\n",
      "Data downloaded to /home/hassib12/code/hassib12/FoodSecurityForecaster/notebooks/NDVI maps export\n",
      "\n",
      "\n",
      "['2022_04_23', '2022_05_09', '2022_05_25', '2022_06_10', '2022_07_28', '2022_08_13']\n"
     ]
    }
   ],
   "source": [
    "out_dir = os.path.join(os.path.expanduser('NDVI maps export'))\n",
    "geemap.ee_export_image_collection(collection, \n",
    "                                  out_dir, \n",
    "                                  scale=300, \n",
    "                                  region=region, \n",
    "                                  file_per_band=True)\n",
    "print(collection.aggregate_array('system:index').getInfo())"
   ]
  },
  {
   "cell_type": "code",
   "execution_count": null,
   "metadata": {},
   "outputs": [],
   "source": []
  },
  {
   "cell_type": "markdown",
   "metadata": {},
   "source": [
    "### Convert tiff to numpy array"
   ]
  },
  {
   "cell_type": "code",
   "execution_count": null,
   "metadata": {},
   "outputs": [],
   "source": [
    "geemap.ee_export_image(collection, filename='DNVI.tif', scale=90, region=region, file_per_band=True)\n",
    "\n",
    "\n",
    "#numpy array doesn't work on image Collection , so convert Collection into Image: \n",
    "# https://developers.google.com/earth-engine/apidocs/ee-imagecollection-tobands\n",
    "\n",
    "image = \n",
    "#np_array = geemap.ee_to_numpy(image, region=region)\n",
    "#print(img.shape)"
   ]
  },
  {
   "cell_type": "markdown",
   "metadata": {},
   "source": [
    "#### with matplotlib show image as as RGB image"
   ]
  },
  {
   "cell_type": "code",
   "execution_count": null,
   "metadata": {
    "id": "UvZ5pHyzqaDJ"
   },
   "outputs": [],
   "source": [
    "# Scale the data to [0, 255] to show as an RGB image.\n",
    "# Adapted from https://bit.ly/2XlmQY8. Credits to Justin Braaten\n",
    "rgb_img_test = (255 * ((rgb_img[:, :, 0:3] - 100) / 3500)).astype('uint8')\n",
    "plt.imshow(rgb_img_test)\n",
    "plt.show()"
   ]
  },
  {
   "cell_type": "markdown",
   "metadata": {
    "heading_collapsed": true
   },
   "source": [
    "## Display map"
   ]
  },
  {
   "cell_type": "code",
   "execution_count": null,
   "metadata": {
    "hidden": true
   },
   "outputs": [],
   "source": [
    "ndviVis = {min: 0.0,\n",
    "           max: 8000.0,\n",
    "#            'palette': [\n",
    "#                'FFFFFF', 'CE7E45', 'DF923D', 'F1B555', 'FCD163', '99B718', '74A901',\n",
    "#                '66A000', '529400', '3E8601', '207401', '056201', '004C00', '023B01',\n",
    "#                '012E01', '011D01', '011301']\n",
    "          }\n",
    "Map.setCenter(32, 12, 5)\n",
    "Map.addLayer(collection, ndviVis, 'NDVI', True, 1)\n",
    "\n",
    "Map"
   ]
  },
  {
   "cell_type": "code",
   "execution_count": null,
   "metadata": {
    "hidden": true
   },
   "outputs": [],
   "source": []
  }
 ],
 "metadata": {
  "colab": {
   "provenance": []
  },
  "hide_input": false,
  "kernelspec": {
   "display_name": "Python 3 (ipykernel)",
   "language": "python",
   "name": "python3"
  },
  "language_info": {
   "codemirror_mode": {
    "name": "ipython",
    "version": 3
   },
   "file_extension": ".py",
   "mimetype": "text/x-python",
   "name": "python",
   "nbconvert_exporter": "python",
   "pygments_lexer": "ipython3",
   "version": "3.8.12"
  },
  "toc": {
   "base_numbering": 1,
   "nav_menu": {},
   "number_sections": true,
   "sideBar": true,
   "skip_h1_title": true,
   "title_cell": "Table of Contents",
   "title_sidebar": "Table of Contents",
   "toc_cell": false,
   "toc_position": {
    "height": "calc(100% - 180px)",
    "left": "10px",
    "top": "150px",
    "width": "251.825px"
   },
   "toc_section_display": true,
   "toc_window_display": false
  },
  "varInspector": {
   "cols": {
    "lenName": 16,
    "lenType": 16,
    "lenVar": 40
   },
   "kernels_config": {
    "python": {
     "delete_cmd_postfix": "",
     "delete_cmd_prefix": "del ",
     "library": "var_list.py",
     "varRefreshCmd": "print(var_dic_list())"
    },
    "r": {
     "delete_cmd_postfix": ") ",
     "delete_cmd_prefix": "rm(",
     "library": "var_list.r",
     "varRefreshCmd": "cat(var_dic_list()) "
    }
   },
   "types_to_exclude": [
    "module",
    "function",
    "builtin_function_or_method",
    "instance",
    "_Feature"
   ],
   "window_display": false
  },
  "widgets": {
   "application/vnd.jupyter.widget-state+json": {
    "267851dbfa394792ac6cde9ff6d7a48b": {
     "model_module": "@jupyter-widgets/output",
     "model_module_version": "1.0.0",
     "model_name": "OutputModel",
     "state": {
      "_dom_classes": [],
      "_model_module": "@jupyter-widgets/output",
      "_model_module_version": "1.0.0",
      "_model_name": "OutputModel",
      "_view_count": null,
      "_view_module": "@jupyter-widgets/output",
      "_view_module_version": "1.0.0",
      "_view_name": "OutputView",
      "layout": "IPY_MODEL_78738c65d4774fd48947c426c1071b16",
      "msg_id": "",
      "outputs": [
       {
        "data": {
         "image/jpeg": "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\n",
         "text/html": "\n        <iframe\n            width=\"800\"\n            height=\"450\"\n            src=\"https://www.youtube.com/embed/_6JOA-iiEGU\"\n            frameborder=\"0\"\n            allowfullscreen\n        ></iframe>\n        ",
         "text/plain": "<IPython.lib.display.YouTubeVideo at 0x7f9dd32358d0>"
        },
        "metadata": {},
        "output_type": "display_data"
       }
      ]
     }
    },
    "78738c65d4774fd48947c426c1071b16": {
     "model_module": "@jupyter-widgets/base",
     "model_module_version": "1.2.0",
     "model_name": "LayoutModel",
     "state": {
      "_model_module": "@jupyter-widgets/base",
      "_model_module_version": "1.2.0",
      "_model_name": "LayoutModel",
      "_view_count": null,
      "_view_module": "@jupyter-widgets/base",
      "_view_module_version": "1.2.0",
      "_view_name": "LayoutView",
      "align_content": null,
      "align_items": null,
      "align_self": null,
      "border": null,
      "bottom": null,
      "display": null,
      "flex": null,
      "flex_flow": null,
      "grid_area": null,
      "grid_auto_columns": null,
      "grid_auto_flow": null,
      "grid_auto_rows": null,
      "grid_column": null,
      "grid_gap": null,
      "grid_row": null,
      "grid_template_areas": null,
      "grid_template_columns": null,
      "grid_template_rows": null,
      "height": null,
      "justify_content": null,
      "justify_items": null,
      "left": null,
      "margin": null,
      "max_height": null,
      "max_width": null,
      "min_height": null,
      "min_width": null,
      "object_fit": null,
      "object_position": null,
      "order": null,
      "overflow": null,
      "overflow_x": null,
      "overflow_y": null,
      "padding": null,
      "right": null,
      "top": null,
      "visibility": null,
      "width": "815px"
     }
    }
   }
  }
 },
 "nbformat": 4,
 "nbformat_minor": 1
}
