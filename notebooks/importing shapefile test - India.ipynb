{
 "cells": [
  {
   "cell_type": "code",
   "execution_count": 34,
   "id": "98632f5f",
   "metadata": {},
   "outputs": [],
   "source": [
    "import collections\n",
    "from datetime import date, timedelta\n",
    "import os\n",
    "from socket import timeout\n",
    "import sys\n",
    "\n",
    "import ee\n",
    "from ee import ImageCollection\n",
    "import geemap\n",
    "import numpy as np\n",
    "import pandas as pd\n",
    "ee.Initialize()"
   ]
  },
  {
   "cell_type": "markdown",
   "id": "43f0ada6",
   "metadata": {},
   "source": [
    "# Test if shapefile works"
   ]
  },
  {
   "cell_type": "code",
   "execution_count": 20,
   "id": "a7421db0",
   "metadata": {},
   "outputs": [
    {
     "name": "stdout",
     "output_type": "stream",
     "text": [
      "/home/hassib12/code/hassib12/FoodSecurityForecaster/notebooks\r\n"
     ]
    }
   ],
   "source": [
    "!pwd"
   ]
  },
  {
   "cell_type": "code",
   "execution_count": 39,
   "id": "b65ed170",
   "metadata": {},
   "outputs": [],
   "source": [
    "country_code = 'IND'\n",
    "country_code2 = 'ind'\n",
    "states_shp = f'../raw_data/{country_code}/admin2/{country_code2}.shp'"
   ]
  },
  {
   "cell_type": "code",
   "execution_count": 79,
   "id": "4344f6f8",
   "metadata": {},
   "outputs": [],
   "source": [
    "states_shp = f'../raw_data/gadm41_SSD_shp/gadm41_SSD_2.shp'\n",
    "ee_shape = geemap.shp_to_ee(states_shp)"
   ]
  },
  {
   "cell_type": "code",
   "execution_count": 80,
   "id": "73fe3892",
   "metadata": {},
   "outputs": [],
   "source": [
    "map = geemap.Map()\n",
    "map.addLayer(ee_shape)"
   ]
  },
  {
   "cell_type": "code",
   "execution_count": 81,
   "id": "19e6e955",
   "metadata": {},
   "outputs": [
    {
     "data": {
      "application/vnd.jupyter.widget-view+json": {
       "model_id": "b1dc174de6de4fa59939b08f195673b0",
       "version_major": 2,
       "version_minor": 0
      },
      "text/plain": [
       "Map(center=[20, 0], controls=(WidgetControl(options=['position', 'transparent_bg'], widget=HBox(children=(Togg…"
      ]
     },
     "execution_count": 81,
     "metadata": {},
     "output_type": "execute_result"
    }
   ],
   "source": [
    "map"
   ]
  },
  {
   "cell_type": "code",
   "execution_count": 83,
   "id": "b5473c6d",
   "metadata": {},
   "outputs": [
    {
     "data": {
      "text/plain": [
       "0    Bahr al Jabal\n",
       "1        Kajo Kaii\n",
       "2         Nahr Yei\n",
       "3          Terkaka\n",
       "4         Amatonge\n",
       "Name: NAME_2,C,13, dtype: object"
      ]
     },
     "execution_count": 83,
     "metadata": {},
     "output_type": "execute_result"
    }
   ],
   "source": [
    "state_names = pd.read_csv('../raw_data/state_names_SSD.csv')['NAME_2,C,13']\n",
    "state_names.head()"
   ]
  },
  {
   "cell_type": "code",
   "execution_count": 89,
   "id": "45e7992b",
   "metadata": {},
   "outputs": [],
   "source": [
    "def download_map(country_code,\n",
    "                 state_name,\n",
    "                 date_range=('2021-01-01','2022-12-30'),\n",
    "                 modis_collection='006/MOD13A1',\n",
    "                 num_pixels=1000):\n",
    "    Map = geemap.Map()\n",
    "    lower_case_country_code = country_code.lower\n",
    "    states_shp = f'../raw_data/{country_code}/admin1/{lower_case_country_code}.shp'\n",
    "    ee_shape = geemap.shp_to_ee(states_shp)\n",
    "    state_ee = ee_shape.filter(ee.Filter.eq(\"NAME1_\", state_name))\n",
    "    Map.addLayer(state_ee.geometry())\n",
    "\n",
    "    image_collection = ee.ImageCollection(f'MODIS/{modis_collection}').filter(ee.Filter.date(*date_range)).toBands()\n",
    "\n",
    "    region = state_ee.geometry()\n",
    "\n",
    "    samples = image_collection.sample(region, scale=300 , numPixels=num_pixels)\n",
    "\n",
    "    features = samples.getInfo()['features']\n",
    "\n",
    "    data = []\n",
    "    for feature_set in features:\n",
    "        for k, v in feature_set['properties'].items():\n",
    "            date, property_name = k[:10], k[11:]\n",
    "            date = date.replace('_', '-')\n",
    "            data.append({'band': property_name, 'date': date, 'value': v})\n",
    "\n",
    "    df = pd.DataFrame(data)\n",
    "    df['date'] = pd.to_datetime(df['date'], infer_datetime_format=True)\n",
    "    df.attrs['state_name'] = state_name\n",
    "    df['band'] = df['band'].astype(\"category\")\n",
    "\n",
    "    return df"
   ]
  },
  {
   "cell_type": "code",
   "execution_count": 92,
   "id": "b2cafd18",
   "metadata": {},
   "outputs": [],
   "source": [
    "def load_all(country_code='SSD', admin_level='admin1', date_range=('2010-01-01', '2018-01-01'), modis_collection='006/MOD13A1', num_pixels=1000):\n",
    "    lower_case_country_code = country_code.lower\n",
    "    #states_shp = f'../raw_data/{country_code}/{admin_level}/{lower_case_country_code}.shp'\n",
    "    states_shp = f'../raw_data/gadm41_SSD_shp/gadm41_SSD_2.shp.shp'\n",
    "    ee_shape = geemap.shp_to_ee(states_shp)\n",
    "    \n",
    "    for state_name in state_names:\n",
    "        print(f'working on:{state_name}')\n",
    "        df = download_map(country_code, state_name, date_range, modis_collection, num_pixels)\n",
    "        df.to_pickle(f'../raw_data/raw_pixels/{state_name}.zip')\n",
    "        print(f\"Downloaded data for {state_name}...\")\n",
    "\n",
    "# if __name__ == \"__main__\":\n",
    "#     ee.Initialize()\n",
    "#     load_all(sys.argv[1])"
   ]
  },
  {
   "cell_type": "code",
   "execution_count": 93,
   "id": "5cb163b3",
   "metadata": {},
   "outputs": [
    {
     "name": "stdout",
     "output_type": "stream",
     "text": [
      "The input shapefile could not be found.\n",
      "working on:Bahr al Jabal\n",
      "The input shapefile could not be found.\n"
     ]
    },
    {
     "ename": "AttributeError",
     "evalue": "'NoneType' object has no attribute 'filter'",
     "output_type": "error",
     "traceback": [
      "\u001b[0;31m---------------------------------------------------------------------------\u001b[0m",
      "\u001b[0;31mAttributeError\u001b[0m                            Traceback (most recent call last)",
      "Input \u001b[0;32mIn [93]\u001b[0m, in \u001b[0;36m<cell line: 1>\u001b[0;34m()\u001b[0m\n\u001b[0;32m----> 1\u001b[0m \u001b[43mload_all\u001b[49m\u001b[43m(\u001b[49m\u001b[38;5;124;43m'\u001b[39;49m\u001b[38;5;124;43mIND\u001b[39;49m\u001b[38;5;124;43m'\u001b[39;49m\u001b[43m)\u001b[49m\n",
      "Input \u001b[0;32mIn [92]\u001b[0m, in \u001b[0;36mload_all\u001b[0;34m(country_code, date_range, modis_collection, num_pixels)\u001b[0m\n\u001b[1;32m      7\u001b[0m \u001b[38;5;28;01mfor\u001b[39;00m state_name \u001b[38;5;129;01min\u001b[39;00m state_names:\n\u001b[1;32m      8\u001b[0m     \u001b[38;5;28mprint\u001b[39m(\u001b[38;5;124mf\u001b[39m\u001b[38;5;124m'\u001b[39m\u001b[38;5;124mworking on:\u001b[39m\u001b[38;5;132;01m{\u001b[39;00mstate_name\u001b[38;5;132;01m}\u001b[39;00m\u001b[38;5;124m'\u001b[39m)\n\u001b[0;32m----> 9\u001b[0m     df \u001b[38;5;241m=\u001b[39m \u001b[43mdownload_map\u001b[49m\u001b[43m(\u001b[49m\u001b[43mcountry_code\u001b[49m\u001b[43m,\u001b[49m\u001b[43m \u001b[49m\u001b[43mstate_name\u001b[49m\u001b[43m,\u001b[49m\u001b[43m \u001b[49m\u001b[43mdate_range\u001b[49m\u001b[43m,\u001b[49m\u001b[43m \u001b[49m\u001b[43mmodis_collection\u001b[49m\u001b[43m,\u001b[49m\u001b[43m \u001b[49m\u001b[43mnum_pixels\u001b[49m\u001b[43m)\u001b[49m\n\u001b[1;32m     10\u001b[0m     df\u001b[38;5;241m.\u001b[39mto_pickle(\u001b[38;5;124mf\u001b[39m\u001b[38;5;124m'\u001b[39m\u001b[38;5;124m../raw_data/raw_pixels/\u001b[39m\u001b[38;5;132;01m{\u001b[39;00mstate_name\u001b[38;5;132;01m}\u001b[39;00m\u001b[38;5;124m.zip\u001b[39m\u001b[38;5;124m'\u001b[39m)\n\u001b[1;32m     11\u001b[0m     \u001b[38;5;28mprint\u001b[39m(\u001b[38;5;124mf\u001b[39m\u001b[38;5;124m\"\u001b[39m\u001b[38;5;124mDownloaded data for \u001b[39m\u001b[38;5;132;01m{\u001b[39;00mstate_name\u001b[38;5;132;01m}\u001b[39;00m\u001b[38;5;124m...\u001b[39m\u001b[38;5;124m\"\u001b[39m)\n",
      "Input \u001b[0;32mIn [89]\u001b[0m, in \u001b[0;36mdownload_map\u001b[0;34m(country_code, state_name, date_range, modis_collection, num_pixels)\u001b[0m\n\u001b[1;32m      8\u001b[0m states_shp \u001b[38;5;241m=\u001b[39m \u001b[38;5;124mf\u001b[39m\u001b[38;5;124m'\u001b[39m\u001b[38;5;124m../raw_data/\u001b[39m\u001b[38;5;132;01m{\u001b[39;00mcountry_code\u001b[38;5;132;01m}\u001b[39;00m\u001b[38;5;124m/admin1/\u001b[39m\u001b[38;5;132;01m{\u001b[39;00mlower_case_country_code\u001b[38;5;132;01m}\u001b[39;00m\u001b[38;5;124m.shp\u001b[39m\u001b[38;5;124m'\u001b[39m\n\u001b[1;32m      9\u001b[0m ee_shape \u001b[38;5;241m=\u001b[39m geemap\u001b[38;5;241m.\u001b[39mshp_to_ee(states_shp)\n\u001b[0;32m---> 10\u001b[0m state_ee \u001b[38;5;241m=\u001b[39m \u001b[43mee_shape\u001b[49m\u001b[38;5;241;43m.\u001b[39;49m\u001b[43mfilter\u001b[49m(ee\u001b[38;5;241m.\u001b[39mFilter\u001b[38;5;241m.\u001b[39meq(\u001b[38;5;124m\"\u001b[39m\u001b[38;5;124mNAME1_\u001b[39m\u001b[38;5;124m\"\u001b[39m, state_name))\n\u001b[1;32m     11\u001b[0m Map\u001b[38;5;241m.\u001b[39maddLayer(state_ee\u001b[38;5;241m.\u001b[39mgeometry())\n\u001b[1;32m     13\u001b[0m image_collection \u001b[38;5;241m=\u001b[39m ee\u001b[38;5;241m.\u001b[39mImageCollection(\u001b[38;5;124mf\u001b[39m\u001b[38;5;124m'\u001b[39m\u001b[38;5;124mMODIS/\u001b[39m\u001b[38;5;132;01m{\u001b[39;00mmodis_collection\u001b[38;5;132;01m}\u001b[39;00m\u001b[38;5;124m'\u001b[39m)\u001b[38;5;241m.\u001b[39mfilter(ee\u001b[38;5;241m.\u001b[39mFilter\u001b[38;5;241m.\u001b[39mdate(\u001b[38;5;241m*\u001b[39mdate_range))\u001b[38;5;241m.\u001b[39mtoBands()\n",
      "\u001b[0;31mAttributeError\u001b[0m: 'NoneType' object has no attribute 'filter'"
     ]
    }
   ],
   "source": [
    "load_all('IND')"
   ]
  },
  {
   "cell_type": "code",
   "execution_count": null,
   "id": "1f15abe7",
   "metadata": {},
   "outputs": [],
   "source": []
  },
  {
   "cell_type": "code",
   "execution_count": null,
   "id": "8c20c4eb",
   "metadata": {},
   "outputs": [],
   "source": []
  },
  {
   "cell_type": "code",
   "execution_count": null,
   "id": "41e28b0a",
   "metadata": {},
   "outputs": [],
   "source": []
  },
  {
   "cell_type": "code",
   "execution_count": null,
   "id": "1475103c",
   "metadata": {},
   "outputs": [],
   "source": []
  },
  {
   "cell_type": "code",
   "execution_count": 94,
   "id": "5068e02d",
   "metadata": {},
   "outputs": [],
   "source": [
    "#!/usr/bin/env python\n",
    "# coding: utf-8\n",
    "\n",
    "import collections\n",
    "from datetime import date, timedelta\n",
    "import os\n",
    "from socket import timeout\n",
    "import sys\n",
    "\n",
    "import ee\n",
    "from ee import ImageCollection\n",
    "import geemap\n",
    "import numpy as np\n",
    "import pandas as pd\n",
    "\n",
    "def download_map(country_code,\n",
    "                 state_name,\n",
    "                 date_range=('2021-01-01','2022-12-30'),\n",
    "                 modis_collection='006/MOD13A1',\n",
    "                 num_pixels=1000):\n",
    "    Map = geemap.Map()\n",
    "    lower_case_country_code = country_code.lower\n",
    "    #states_shp = f'../raw_data/{country_code}/admin1/{lower_case_country_code}.shp'\n",
    "    states_shp = f'../raw_data/gadm41_SSD_shp/gadm41_SSD_2.shp'\n",
    "    ee_shape = geemap.shp_to_ee(states_shp)\n",
    "    state_ee = ee_shape.filter(ee.Filter.eq(\"NAME2_\", state_name))\n",
    "    Map.addLayer(state_ee.geometry())\n",
    "\n",
    "    image_collection = ee.ImageCollection(f'MODIS/{modis_collection}').filter(ee.Filter.date(*date_range)).toBands()\n",
    "\n",
    "    region = state_ee.geometry()\n",
    "\n",
    "    samples = image_collection.sample(region, scale=300 , numPixels=num_pixels)\n",
    "\n",
    "    features = samples.getInfo()['features']\n",
    "\n",
    "    data = []\n",
    "    for feature_set in features:\n",
    "        for k, v in feature_set['properties'].items():\n",
    "            date, property_name = k[:10], k[11:]\n",
    "            date = date.replace('_', '-')\n",
    "            data.append({'band': property_name, 'date': date, 'value': v})\n",
    "\n",
    "    df = pd.DataFrame(data)\n",
    "    df['date'] = pd.to_datetime(df['date'], infer_datetime_format=True)\n",
    "    df.attrs['state_name'] = state_name\n",
    "    df['band'] = df['band'].astype(\"category\")\n",
    "\n",
    "    return df\n",
    "\n",
    "def load_all(country_code='SSD', admin_level='admin1', date_range=('2010-01-01', '2018-01-01'), modis_collection='006/MOD13A1', num_pixels=1000):\n",
    "    lower_case_country_code = country_code.lower\n",
    "    #states_shp = f'../raw_data/{country_code}/{admin_level}/{lower_case_country_code}.shp'\n",
    "    states_shp = f'../raw_data/gadm41_SSD_shp/gadm41_SSD_2.shp'\n",
    "    ee_shape = geemap.shp_to_ee(states_shp)\n",
    "    geemap.common.ee_to_csv(ee_shape, \"tmp.csv\", timeout=1000)\n",
    "\n",
    "    # state_names = pd.read_csv('tmp.csv')['NAME1_']\n",
    "    # os.remove('tmp.csv')\n",
    "\n",
    "    state_names = pd.read_csv(f'../raw_data/state_names_{country_code}.csv')['NAME_2,C,13']\n",
    "    for state_name in state_names:\n",
    "        print(f'working on:{state_name}')\n",
    "        df = download_map(country_code, state_name, date_range, modis_collection, num_pixels)\n",
    "        df.to_pickle(f'../raw_data/raw_pixels/{state_name}.zip')\n",
    "        print(f\"Downloaded data for {state_name}...\")\n",
    "\n",
    "# if __name__ == \"__main__\":\n",
    "#     ee.Initialize()\n",
    "#     load_all(sys.argv[1])\n"
   ]
  },
  {
   "cell_type": "code",
   "execution_count": 95,
   "id": "8c74f4ab",
   "metadata": {},
   "outputs": [
    {
     "name": "stdout",
     "output_type": "stream",
     "text": [
      "Generating URL ...\n",
      "Downloading data from https://earthengine.googleapis.com/v1alpha/projects/earthengine-legacy/tables/3d06b754e7bcadf5c194ccb767a678e0-73725ac76eb03752174297357e289171:getFeatures\n",
      "Please wait ...\n",
      "Data downloaded to /home/hassib12/code/hassib12/FoodSecurityForecaster/notebooks/tmp.csv\n",
      "working on:Bahr al Jabal\n"
     ]
    },
    {
     "ename": "KeyError",
     "evalue": "'date'",
     "output_type": "error",
     "traceback": [
      "\u001b[0;31m---------------------------------------------------------------------------\u001b[0m",
      "\u001b[0;31mKeyError\u001b[0m                                  Traceback (most recent call last)",
      "File \u001b[0;32m~/.pyenv/versions/3.8.12/envs/FoodSecurityForecaster/lib/python3.8/site-packages/pandas/core/indexes/base.py:3629\u001b[0m, in \u001b[0;36mIndex.get_loc\u001b[0;34m(self, key, method, tolerance)\u001b[0m\n\u001b[1;32m   3628\u001b[0m \u001b[38;5;28;01mtry\u001b[39;00m:\n\u001b[0;32m-> 3629\u001b[0m     \u001b[38;5;28;01mreturn\u001b[39;00m \u001b[38;5;28;43mself\u001b[39;49m\u001b[38;5;241;43m.\u001b[39;49m\u001b[43m_engine\u001b[49m\u001b[38;5;241;43m.\u001b[39;49m\u001b[43mget_loc\u001b[49m\u001b[43m(\u001b[49m\u001b[43mcasted_key\u001b[49m\u001b[43m)\u001b[49m\n\u001b[1;32m   3630\u001b[0m \u001b[38;5;28;01mexcept\u001b[39;00m \u001b[38;5;167;01mKeyError\u001b[39;00m \u001b[38;5;28;01mas\u001b[39;00m err:\n",
      "File \u001b[0;32m~/.pyenv/versions/3.8.12/envs/FoodSecurityForecaster/lib/python3.8/site-packages/pandas/_libs/index.pyx:136\u001b[0m, in \u001b[0;36mpandas._libs.index.IndexEngine.get_loc\u001b[0;34m()\u001b[0m\n",
      "File \u001b[0;32m~/.pyenv/versions/3.8.12/envs/FoodSecurityForecaster/lib/python3.8/site-packages/pandas/_libs/index.pyx:163\u001b[0m, in \u001b[0;36mpandas._libs.index.IndexEngine.get_loc\u001b[0;34m()\u001b[0m\n",
      "File \u001b[0;32mpandas/_libs/hashtable_class_helper.pxi:5198\u001b[0m, in \u001b[0;36mpandas._libs.hashtable.PyObjectHashTable.get_item\u001b[0;34m()\u001b[0m\n",
      "File \u001b[0;32mpandas/_libs/hashtable_class_helper.pxi:5206\u001b[0m, in \u001b[0;36mpandas._libs.hashtable.PyObjectHashTable.get_item\u001b[0;34m()\u001b[0m\n",
      "\u001b[0;31mKeyError\u001b[0m: 'date'",
      "\nThe above exception was the direct cause of the following exception:\n",
      "\u001b[0;31mKeyError\u001b[0m                                  Traceback (most recent call last)",
      "Input \u001b[0;32mIn [95]\u001b[0m, in \u001b[0;36m<cell line: 1>\u001b[0;34m()\u001b[0m\n\u001b[0;32m----> 1\u001b[0m \u001b[43mload_all\u001b[49m\u001b[43m(\u001b[49m\u001b[43m)\u001b[49m\n",
      "Input \u001b[0;32mIn [94]\u001b[0m, in \u001b[0;36mload_all\u001b[0;34m(country_code, admin_level, date_range, modis_collection, num_pixels)\u001b[0m\n\u001b[1;32m     62\u001b[0m \u001b[38;5;28;01mfor\u001b[39;00m state_name \u001b[38;5;129;01min\u001b[39;00m state_names:\n\u001b[1;32m     63\u001b[0m     \u001b[38;5;28mprint\u001b[39m(\u001b[38;5;124mf\u001b[39m\u001b[38;5;124m'\u001b[39m\u001b[38;5;124mworking on:\u001b[39m\u001b[38;5;132;01m{\u001b[39;00mstate_name\u001b[38;5;132;01m}\u001b[39;00m\u001b[38;5;124m'\u001b[39m)\n\u001b[0;32m---> 64\u001b[0m     df \u001b[38;5;241m=\u001b[39m \u001b[43mdownload_map\u001b[49m\u001b[43m(\u001b[49m\u001b[43mcountry_code\u001b[49m\u001b[43m,\u001b[49m\u001b[43m \u001b[49m\u001b[43mstate_name\u001b[49m\u001b[43m,\u001b[49m\u001b[43m \u001b[49m\u001b[43mdate_range\u001b[49m\u001b[43m,\u001b[49m\u001b[43m \u001b[49m\u001b[43mmodis_collection\u001b[49m\u001b[43m,\u001b[49m\u001b[43m \u001b[49m\u001b[43mnum_pixels\u001b[49m\u001b[43m)\u001b[49m\n\u001b[1;32m     65\u001b[0m     df\u001b[38;5;241m.\u001b[39mto_pickle(\u001b[38;5;124mf\u001b[39m\u001b[38;5;124m'\u001b[39m\u001b[38;5;124m../raw_data/raw_pixels/\u001b[39m\u001b[38;5;132;01m{\u001b[39;00mstate_name\u001b[38;5;132;01m}\u001b[39;00m\u001b[38;5;124m.zip\u001b[39m\u001b[38;5;124m'\u001b[39m)\n\u001b[1;32m     66\u001b[0m     \u001b[38;5;28mprint\u001b[39m(\u001b[38;5;124mf\u001b[39m\u001b[38;5;124m\"\u001b[39m\u001b[38;5;124mDownloaded data for \u001b[39m\u001b[38;5;132;01m{\u001b[39;00mstate_name\u001b[38;5;132;01m}\u001b[39;00m\u001b[38;5;124m...\u001b[39m\u001b[38;5;124m\"\u001b[39m)\n",
      "Input \u001b[0;32mIn [94]\u001b[0m, in \u001b[0;36mdownload_map\u001b[0;34m(country_code, state_name, date_range, modis_collection, num_pixels)\u001b[0m\n\u001b[1;32m     42\u001b[0m         data\u001b[38;5;241m.\u001b[39mappend({\u001b[38;5;124m'\u001b[39m\u001b[38;5;124mband\u001b[39m\u001b[38;5;124m'\u001b[39m: property_name, \u001b[38;5;124m'\u001b[39m\u001b[38;5;124mdate\u001b[39m\u001b[38;5;124m'\u001b[39m: date, \u001b[38;5;124m'\u001b[39m\u001b[38;5;124mvalue\u001b[39m\u001b[38;5;124m'\u001b[39m: v})\n\u001b[1;32m     44\u001b[0m df \u001b[38;5;241m=\u001b[39m pd\u001b[38;5;241m.\u001b[39mDataFrame(data)\n\u001b[0;32m---> 45\u001b[0m df[\u001b[38;5;124m'\u001b[39m\u001b[38;5;124mdate\u001b[39m\u001b[38;5;124m'\u001b[39m] \u001b[38;5;241m=\u001b[39m pd\u001b[38;5;241m.\u001b[39mto_datetime(\u001b[43mdf\u001b[49m\u001b[43m[\u001b[49m\u001b[38;5;124;43m'\u001b[39;49m\u001b[38;5;124;43mdate\u001b[39;49m\u001b[38;5;124;43m'\u001b[39;49m\u001b[43m]\u001b[49m, infer_datetime_format\u001b[38;5;241m=\u001b[39m\u001b[38;5;28;01mTrue\u001b[39;00m)\n\u001b[1;32m     46\u001b[0m df\u001b[38;5;241m.\u001b[39mattrs[\u001b[38;5;124m'\u001b[39m\u001b[38;5;124mstate_name\u001b[39m\u001b[38;5;124m'\u001b[39m] \u001b[38;5;241m=\u001b[39m state_name\n\u001b[1;32m     47\u001b[0m df[\u001b[38;5;124m'\u001b[39m\u001b[38;5;124mband\u001b[39m\u001b[38;5;124m'\u001b[39m] \u001b[38;5;241m=\u001b[39m df[\u001b[38;5;124m'\u001b[39m\u001b[38;5;124mband\u001b[39m\u001b[38;5;124m'\u001b[39m]\u001b[38;5;241m.\u001b[39mastype(\u001b[38;5;124m\"\u001b[39m\u001b[38;5;124mcategory\u001b[39m\u001b[38;5;124m\"\u001b[39m)\n",
      "File \u001b[0;32m~/.pyenv/versions/3.8.12/envs/FoodSecurityForecaster/lib/python3.8/site-packages/pandas/core/frame.py:3505\u001b[0m, in \u001b[0;36mDataFrame.__getitem__\u001b[0;34m(self, key)\u001b[0m\n\u001b[1;32m   3503\u001b[0m \u001b[38;5;28;01mif\u001b[39;00m \u001b[38;5;28mself\u001b[39m\u001b[38;5;241m.\u001b[39mcolumns\u001b[38;5;241m.\u001b[39mnlevels \u001b[38;5;241m>\u001b[39m \u001b[38;5;241m1\u001b[39m:\n\u001b[1;32m   3504\u001b[0m     \u001b[38;5;28;01mreturn\u001b[39;00m \u001b[38;5;28mself\u001b[39m\u001b[38;5;241m.\u001b[39m_getitem_multilevel(key)\n\u001b[0;32m-> 3505\u001b[0m indexer \u001b[38;5;241m=\u001b[39m \u001b[38;5;28;43mself\u001b[39;49m\u001b[38;5;241;43m.\u001b[39;49m\u001b[43mcolumns\u001b[49m\u001b[38;5;241;43m.\u001b[39;49m\u001b[43mget_loc\u001b[49m\u001b[43m(\u001b[49m\u001b[43mkey\u001b[49m\u001b[43m)\u001b[49m\n\u001b[1;32m   3506\u001b[0m \u001b[38;5;28;01mif\u001b[39;00m is_integer(indexer):\n\u001b[1;32m   3507\u001b[0m     indexer \u001b[38;5;241m=\u001b[39m [indexer]\n",
      "File \u001b[0;32m~/.pyenv/versions/3.8.12/envs/FoodSecurityForecaster/lib/python3.8/site-packages/pandas/core/indexes/base.py:3631\u001b[0m, in \u001b[0;36mIndex.get_loc\u001b[0;34m(self, key, method, tolerance)\u001b[0m\n\u001b[1;32m   3629\u001b[0m     \u001b[38;5;28;01mreturn\u001b[39;00m \u001b[38;5;28mself\u001b[39m\u001b[38;5;241m.\u001b[39m_engine\u001b[38;5;241m.\u001b[39mget_loc(casted_key)\n\u001b[1;32m   3630\u001b[0m \u001b[38;5;28;01mexcept\u001b[39;00m \u001b[38;5;167;01mKeyError\u001b[39;00m \u001b[38;5;28;01mas\u001b[39;00m err:\n\u001b[0;32m-> 3631\u001b[0m     \u001b[38;5;28;01mraise\u001b[39;00m \u001b[38;5;167;01mKeyError\u001b[39;00m(key) \u001b[38;5;28;01mfrom\u001b[39;00m \u001b[38;5;21;01merr\u001b[39;00m\n\u001b[1;32m   3632\u001b[0m \u001b[38;5;28;01mexcept\u001b[39;00m \u001b[38;5;167;01mTypeError\u001b[39;00m:\n\u001b[1;32m   3633\u001b[0m     \u001b[38;5;66;03m# If we have a listlike key, _check_indexing_error will raise\u001b[39;00m\n\u001b[1;32m   3634\u001b[0m     \u001b[38;5;66;03m#  InvalidIndexError. Otherwise we fall through and re-raise\u001b[39;00m\n\u001b[1;32m   3635\u001b[0m     \u001b[38;5;66;03m#  the TypeError.\u001b[39;00m\n\u001b[1;32m   3636\u001b[0m     \u001b[38;5;28mself\u001b[39m\u001b[38;5;241m.\u001b[39m_check_indexing_error(key)\n",
      "\u001b[0;31mKeyError\u001b[0m: 'date'"
     ]
    }
   ],
   "source": [
    "load_all()"
   ]
  },
  {
   "cell_type": "code",
   "execution_count": null,
   "id": "b09a80e6",
   "metadata": {},
   "outputs": [],
   "source": []
  }
 ],
 "metadata": {
  "kernelspec": {
   "display_name": "Python 3 (ipykernel)",
   "language": "python",
   "name": "python3"
  },
  "language_info": {
   "codemirror_mode": {
    "name": "ipython",
    "version": 3
   },
   "file_extension": ".py",
   "mimetype": "text/x-python",
   "name": "python",
   "nbconvert_exporter": "python",
   "pygments_lexer": "ipython3",
   "version": "3.8.12"
  },
  "toc": {
   "base_numbering": 1,
   "nav_menu": {},
   "number_sections": true,
   "sideBar": true,
   "skip_h1_title": false,
   "title_cell": "Table of Contents",
   "title_sidebar": "Contents",
   "toc_cell": false,
   "toc_position": {},
   "toc_section_display": true,
   "toc_window_display": false
  }
 },
 "nbformat": 4,
 "nbformat_minor": 5
}
