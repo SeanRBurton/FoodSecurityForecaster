{
 "cells": [
  {
   "cell_type": "code",
   "execution_count": 3,
   "id": "98632f5f",
   "metadata": {},
   "outputs": [],
   "source": [
    "import collections\n",
    "from datetime import date, timedelta\n",
    "import os\n",
    "from socket import timeout\n",
    "import sys\n",
    "\n",
    "import ee\n",
    "from ee import ImageCollection\n",
    "import geemap\n",
    "import numpy as np\n",
    "import pandas as pd\n",
    "ee.Initialize()"
   ]
  },
  {
   "cell_type": "markdown",
   "id": "43f0ada6",
   "metadata": {},
   "source": [
    "# Test if shapefile works"
   ]
  },
  {
   "cell_type": "code",
   "execution_count": 4,
   "id": "420d5ac1",
   "metadata": {},
   "outputs": [
    {
     "name": "stdout",
     "output_type": "stream",
     "text": [
      "/home/hassib12/code/hassib12/FoodSecurityForecaster/notebooks\r\n"
     ]
    }
   ],
   "source": [
    "!pwd"
   ]
  },
  {
   "cell_type": "code",
   "execution_count": 5,
   "id": "4344f6f8",
   "metadata": {},
   "outputs": [
    {
     "name": "stderr",
     "output_type": "stream",
     "text": [
      "/home/hassib12/.pyenv/versions/3.8.12/envs/FoodSecurityForecaster/lib/python3.8/site-packages/geemap/common.py:8493: UserWarning: The projection file /home/hassib12/code/hassib12/FoodSecurityForecaster/raw_data/USA/admin1/USA.prj could not be found. Assuming the dataset is in a geographic coordinate system (GCS).\n",
      "  warnings.warn(\n"
     ]
    }
   ],
   "source": [
    "states_shp = f'../raw_data/USA/admin1/USA.shp'\n",
    "ee_shape = geemap.shp_to_ee(states_shp)"
   ]
  },
  {
   "cell_type": "code",
   "execution_count": 6,
   "id": "73fe3892",
   "metadata": {},
   "outputs": [],
   "source": [
    "map = geemap.Map()\n",
    "map.addLayer(ee_shape)"
   ]
  },
  {
   "cell_type": "code",
   "execution_count": 7,
   "id": "19e6e955",
   "metadata": {},
   "outputs": [
    {
     "data": {
      "application/vnd.jupyter.widget-view+json": {
       "model_id": "86047ea60ba24e03b483891516de6d18",
       "version_major": 2,
       "version_minor": 0
      },
      "text/plain": [
       "Map(center=[20, 0], controls=(WidgetControl(options=['position', 'transparent_bg'], widget=HBox(children=(Togg…"
      ]
     },
     "execution_count": 7,
     "metadata": {},
     "output_type": "execute_result"
    }
   ],
   "source": [
    "map"
   ]
  },
  {
   "cell_type": "code",
   "execution_count": 8,
   "id": "5b2b1547",
   "metadata": {},
   "outputs": [
    {
     "data": {
      "text/plain": [
       "0       Alabama\n",
       "1        Alaska\n",
       "2       Arizona\n",
       "3      Arkansas\n",
       "4    California\n",
       "Name: NAME1_,C,33, dtype: object"
      ]
     },
     "execution_count": 8,
     "metadata": {},
     "output_type": "execute_result"
    }
   ],
   "source": [
    "state_names = pd.read_csv('../raw_data/state_names_USA.csv')['NAME1_,C,33']\n",
    "state_names.head()"
   ]
  },
  {
   "cell_type": "code",
   "execution_count": 18,
   "id": "0eef9c9a",
   "metadata": {},
   "outputs": [],
   "source": [
    "def download_map(country_code,\n",
    "                 state_name,\n",
    "                 date_range=('2021-01-01','2022-12-30'),\n",
    "                 modis_collection='006/MOD13A1',\n",
    "                 num_pixels=1000):\n",
    "    Map = geemap.Map()\n",
    "    lower_case_country_code = country_code.lower\n",
    "    states_shp = f'../raw_data/{country_code}/admin1/{lower_case_country_code}.shp'\n",
    " \n",
    "    ee_shape = geemap.shp_to_ee(states_shp)\n",
    "    state_ee = ee_shape.filter(ee.Filter.eq([\"NAME1_\"], state_name))\n",
    "    Map.addLayer(state_ee.geometry())\n",
    "\n",
    "    image_collection = ee.ImageCollection(f'MODIS/{modis_collection}').filter(ee.Filter.date(*date_range)).toBands()\n",
    "\n",
    "    region = state_ee.geometry()\n",
    "\n",
    "    samples = image_collection.sample(region, scale=300 , numPixels=num_pixels)\n",
    "\n",
    "    features = samples.getInfo()['features']\n",
    "\n",
    "    data = []\n",
    "    for feature_set in features:\n",
    "        for k, v in feature_set['properties'].items():\n",
    "            date, property_name = k[:10], k[11:]\n",
    "            date = date.replace('_', '-')\n",
    "            data.append({'band': property_name, 'date': date, 'value': v})\n",
    "\n",
    "    df = pd.DataFrame(data)\n",
    "    df['date'] = pd.to_datetime(df['date'], infer_datetime_format=True)\n",
    "    df.attrs['state_name'] = state_name\n",
    "    df['band'] = df['band'].astype(\"category\")\n",
    "\n",
    "    return df\n",
    "\n",
    "def load_all(country_code='SSD', admin_level='admin1', date_range=('2010-01-01', '2018-01-01'), modis_collection='006/MOD13A1', num_pixels=1000):\n",
    "    lower_case_country_code = country_code.lower\n",
    "    states_shp = f'../raw_data/USA/admin1/USA.shp'\n",
    "\n",
    "    #ee_shape = geemap.shp_to_ee(states_shp)\n",
    "    #geemap.common.ee_to_csv(ee_shape, \"tmp.csv\", timeout=1000)\n",
    "\n",
    "    # state_names = pd.read_csv('tmp.csv')['NAME1_']\n",
    "    # os.remove('tmp.csv') \n",
    "    \n",
    "    for state_name in state_names:\n",
    "        print(f'working on:{state_name}')\n",
    "        df = download_map(country_code, state_name, date_range, modis_collection, num_pixels)\n",
    "        df.to_pickle(f'../raw_data/raw_pixels/{state_name}.zip')\n",
    "        print(f\"Downloaded data for {state_name}...\")\n",
    "\n",
    "# if __name__ == \"__main__\":\n",
    "#     ee.Initialize()\n",
    "#     load_all(sys.argv[1])\n"
   ]
  },
  {
   "cell_type": "code",
   "execution_count": 19,
   "id": "bdaf2334",
   "metadata": {},
   "outputs": [
    {
     "data": {
      "text/plain": [
       "<ee.featurecollection.FeatureCollection at 0x7ff4d911e430>"
      ]
     },
     "execution_count": 19,
     "metadata": {},
     "output_type": "execute_result"
    }
   ],
   "source": [
    "ee_shape"
   ]
  },
  {
   "cell_type": "code",
   "execution_count": 20,
   "id": "99edcfb6",
   "metadata": {},
   "outputs": [
    {
     "name": "stdout",
     "output_type": "stream",
     "text": [
      "working on:Alabama\n",
      "The input shapefile could not be found.\n"
     ]
    },
    {
     "ename": "AttributeError",
     "evalue": "'NoneType' object has no attribute 'filter'",
     "output_type": "error",
     "traceback": [
      "\u001b[0;31m---------------------------------------------------------------------------\u001b[0m",
      "\u001b[0;31mAttributeError\u001b[0m                            Traceback (most recent call last)",
      "Input \u001b[0;32mIn [20]\u001b[0m, in \u001b[0;36m<cell line: 1>\u001b[0;34m()\u001b[0m\n\u001b[0;32m----> 1\u001b[0m \u001b[43mload_all\u001b[49m\u001b[43m(\u001b[49m\u001b[38;5;124;43m'\u001b[39;49m\u001b[38;5;124;43mUSA\u001b[39;49m\u001b[38;5;124;43m'\u001b[39;49m\u001b[43m)\u001b[49m\n",
      "Input \u001b[0;32mIn [18]\u001b[0m, in \u001b[0;36mload_all\u001b[0;34m(country_code, admin_level, date_range, modis_collection, num_pixels)\u001b[0m\n\u001b[1;32m     46\u001b[0m \u001b[38;5;28;01mfor\u001b[39;00m state_name \u001b[38;5;129;01min\u001b[39;00m state_names:\n\u001b[1;32m     47\u001b[0m     \u001b[38;5;28mprint\u001b[39m(\u001b[38;5;124mf\u001b[39m\u001b[38;5;124m'\u001b[39m\u001b[38;5;124mworking on:\u001b[39m\u001b[38;5;132;01m{\u001b[39;00mstate_name\u001b[38;5;132;01m}\u001b[39;00m\u001b[38;5;124m'\u001b[39m)\n\u001b[0;32m---> 48\u001b[0m     df \u001b[38;5;241m=\u001b[39m \u001b[43mdownload_map\u001b[49m\u001b[43m(\u001b[49m\u001b[43mcountry_code\u001b[49m\u001b[43m,\u001b[49m\u001b[43m \u001b[49m\u001b[43mstate_name\u001b[49m\u001b[43m,\u001b[49m\u001b[43m \u001b[49m\u001b[43mdate_range\u001b[49m\u001b[43m,\u001b[49m\u001b[43m \u001b[49m\u001b[43mmodis_collection\u001b[49m\u001b[43m,\u001b[49m\u001b[43m \u001b[49m\u001b[43mnum_pixels\u001b[49m\u001b[43m)\u001b[49m\n\u001b[1;32m     49\u001b[0m     df\u001b[38;5;241m.\u001b[39mto_pickle(\u001b[38;5;124mf\u001b[39m\u001b[38;5;124m'\u001b[39m\u001b[38;5;124m../raw_data/raw_pixels/\u001b[39m\u001b[38;5;132;01m{\u001b[39;00mstate_name\u001b[38;5;132;01m}\u001b[39;00m\u001b[38;5;124m.zip\u001b[39m\u001b[38;5;124m'\u001b[39m)\n\u001b[1;32m     50\u001b[0m     \u001b[38;5;28mprint\u001b[39m(\u001b[38;5;124mf\u001b[39m\u001b[38;5;124m\"\u001b[39m\u001b[38;5;124mDownloaded data for \u001b[39m\u001b[38;5;132;01m{\u001b[39;00mstate_name\u001b[38;5;132;01m}\u001b[39;00m\u001b[38;5;124m...\u001b[39m\u001b[38;5;124m\"\u001b[39m)\n",
      "Input \u001b[0;32mIn [18]\u001b[0m, in \u001b[0;36mdownload_map\u001b[0;34m(country_code, state_name, date_range, modis_collection, num_pixels)\u001b[0m\n\u001b[1;32m      8\u001b[0m states_shp \u001b[38;5;241m=\u001b[39m \u001b[38;5;124mf\u001b[39m\u001b[38;5;124m'\u001b[39m\u001b[38;5;124m../raw_data/\u001b[39m\u001b[38;5;132;01m{\u001b[39;00mcountry_code\u001b[38;5;132;01m}\u001b[39;00m\u001b[38;5;124m/admin1/\u001b[39m\u001b[38;5;132;01m{\u001b[39;00mlower_case_country_code\u001b[38;5;132;01m}\u001b[39;00m\u001b[38;5;124m.shp\u001b[39m\u001b[38;5;124m'\u001b[39m\n\u001b[1;32m     10\u001b[0m ee_shape \u001b[38;5;241m=\u001b[39m geemap\u001b[38;5;241m.\u001b[39mshp_to_ee(states_shp)\n\u001b[0;32m---> 11\u001b[0m state_ee \u001b[38;5;241m=\u001b[39m \u001b[43mee_shape\u001b[49m\u001b[38;5;241;43m.\u001b[39;49m\u001b[43mfilter\u001b[49m(ee\u001b[38;5;241m.\u001b[39mFilter\u001b[38;5;241m.\u001b[39meq([\u001b[38;5;124m\"\u001b[39m\u001b[38;5;124mNAME1_\u001b[39m\u001b[38;5;124m\"\u001b[39m], state_name))\n\u001b[1;32m     12\u001b[0m Map\u001b[38;5;241m.\u001b[39maddLayer(state_ee\u001b[38;5;241m.\u001b[39mgeometry())\n\u001b[1;32m     14\u001b[0m image_collection \u001b[38;5;241m=\u001b[39m ee\u001b[38;5;241m.\u001b[39mImageCollection(\u001b[38;5;124mf\u001b[39m\u001b[38;5;124m'\u001b[39m\u001b[38;5;124mMODIS/\u001b[39m\u001b[38;5;132;01m{\u001b[39;00mmodis_collection\u001b[38;5;132;01m}\u001b[39;00m\u001b[38;5;124m'\u001b[39m)\u001b[38;5;241m.\u001b[39mfilter(ee\u001b[38;5;241m.\u001b[39mFilter\u001b[38;5;241m.\u001b[39mdate(\u001b[38;5;241m*\u001b[39mdate_range))\u001b[38;5;241m.\u001b[39mtoBands()\n",
      "\u001b[0;31mAttributeError\u001b[0m: 'NoneType' object has no attribute 'filter'"
     ]
    }
   ],
   "source": [
    "load_all('USA')"
   ]
  },
  {
   "cell_type": "markdown",
   "id": "bae2560e",
   "metadata": {},
   "source": [
    "# SOUTH SUDAN"
   ]
  },
  {
   "cell_type": "code",
   "execution_count": 21,
   "id": "e8fd716a",
   "metadata": {},
   "outputs": [
    {
     "data": {
      "text/plain": [
       "0    Bahr al Jabal\n",
       "1        Kajo Kaii\n",
       "2         Nahr Yei\n",
       "3          Terkaka\n",
       "4         Amatonge\n",
       "Name: NAME_2,C,13, dtype: object"
      ]
     },
     "execution_count": 21,
     "metadata": {},
     "output_type": "execute_result"
    }
   ],
   "source": [
    "state_names = pd.read_csv('../raw_data/state_names_SSD.csv')['NAME_2,C,13']\n",
    "state_names.head()"
   ]
  },
  {
   "cell_type": "code",
   "execution_count": 24,
   "id": "0b022657",
   "metadata": {},
   "outputs": [],
   "source": [
    "def download_map(country_code,\n",
    "                 state_name,\n",
    "                 date_range=('2021-01-01','2022-12-30'),\n",
    "                 modis_collection='006/MOD13A1',\n",
    "                 num_pixels=1000):\n",
    "    Map = geemap.Map()\n",
    "    lower_case_country_code = country_code.lower\n",
    "    states_shp = f'../raw_data/raw_data/gadm41_SSD_shp/gadm41_SSD_2.shp'\n",
    " \n",
    "    ee_shape = geemap.shp_to_ee(states_shp)\n",
    "    state_ee = ee_shape.filter(ee.Filter.eq([\"NAME_2\"], state_name))\n",
    "    Map.addLayer(state_ee.geometry())\n",
    "\n",
    "    image_collection = ee.ImageCollection(f'MODIS/{modis_collection}').filter(ee.Filter.date(*date_range)).toBands()\n",
    "\n",
    "    region = state_ee.geometry()\n",
    "\n",
    "    samples = image_collection.sample(region, scale=300 , numPixels=num_pixels)\n",
    "\n",
    "    features = samples.getInfo()['features']\n",
    "\n",
    "    data = []\n",
    "    for feature_set in features:\n",
    "        for k, v in feature_set['properties'].items():\n",
    "            date, property_name = k[:10], k[11:]\n",
    "            date = date.replace('_', '-')\n",
    "            data.append({'band': property_name, 'date': date, 'value': v})\n",
    "\n",
    "    df = pd.DataFrame(data)\n",
    "    df['date'] = pd.to_datetime(df['date'], infer_datetime_format=True)\n",
    "    df.attrs['state_name'] = state_name\n",
    "    df['band'] = df['band'].astype(\"category\")\n",
    "\n",
    "    return df\n",
    "\n",
    "def load_all(country_code='SSD', admin_level='admin1', date_range=('2010-01-01', '2018-01-01'), modis_collection='006/MOD13A1', num_pixels=1000):\n",
    "    lower_case_country_code = country_code.lower\n",
    "    states_shp = f'../raw_data/raw_data/gadm41_SSD_shp/gadm41_SSD_2.shp'\n",
    "\n",
    "    #ee_shape = geemap.shp_to_ee(states_shp)\n",
    "    #geemap.common.ee_to_csv(ee_shape, \"tmp.csv\", timeout=1000)\n",
    "\n",
    "    # state_names = pd.read_csv('tmp.csv')['NAME1_']\n",
    "    # os.remove('tmp.csv') \n",
    "    \n",
    "    for state_name in state_names:\n",
    "        print(f'working on:{state_name}')\n",
    "        df = download_map(country_code, state_name, date_range, modis_collection, num_pixels)\n",
    "        df.to_pickle(f'../raw_data/raw_pixels/{state_name}.zip')\n",
    "        print(f\"Downloaded data for {state_name}...\")\n",
    "\n",
    "# if __name__ == \"__main__\":\n",
    "#     ee.Initialize()\n",
    "#     load_all(sys.argv[1])"
   ]
  },
  {
   "cell_type": "code",
   "execution_count": 25,
   "id": "fe416edd",
   "metadata": {},
   "outputs": [
    {
     "name": "stdout",
     "output_type": "stream",
     "text": [
      "working on:Bahr al Jabal\n",
      "The input shapefile could not be found.\n"
     ]
    },
    {
     "ename": "AttributeError",
     "evalue": "'NoneType' object has no attribute 'filter'",
     "output_type": "error",
     "traceback": [
      "\u001b[0;31m---------------------------------------------------------------------------\u001b[0m",
      "\u001b[0;31mAttributeError\u001b[0m                            Traceback (most recent call last)",
      "Input \u001b[0;32mIn [25]\u001b[0m, in \u001b[0;36m<cell line: 1>\u001b[0;34m()\u001b[0m\n\u001b[0;32m----> 1\u001b[0m \u001b[43mload_all\u001b[49m\u001b[43m(\u001b[49m\u001b[43m)\u001b[49m\n",
      "Input \u001b[0;32mIn [24]\u001b[0m, in \u001b[0;36mload_all\u001b[0;34m(country_code, admin_level, date_range, modis_collection, num_pixels)\u001b[0m\n\u001b[1;32m     46\u001b[0m \u001b[38;5;28;01mfor\u001b[39;00m state_name \u001b[38;5;129;01min\u001b[39;00m state_names:\n\u001b[1;32m     47\u001b[0m     \u001b[38;5;28mprint\u001b[39m(\u001b[38;5;124mf\u001b[39m\u001b[38;5;124m'\u001b[39m\u001b[38;5;124mworking on:\u001b[39m\u001b[38;5;132;01m{\u001b[39;00mstate_name\u001b[38;5;132;01m}\u001b[39;00m\u001b[38;5;124m'\u001b[39m)\n\u001b[0;32m---> 48\u001b[0m     df \u001b[38;5;241m=\u001b[39m \u001b[43mdownload_map\u001b[49m\u001b[43m(\u001b[49m\u001b[43mcountry_code\u001b[49m\u001b[43m,\u001b[49m\u001b[43m \u001b[49m\u001b[43mstate_name\u001b[49m\u001b[43m,\u001b[49m\u001b[43m \u001b[49m\u001b[43mdate_range\u001b[49m\u001b[43m,\u001b[49m\u001b[43m \u001b[49m\u001b[43mmodis_collection\u001b[49m\u001b[43m,\u001b[49m\u001b[43m \u001b[49m\u001b[43mnum_pixels\u001b[49m\u001b[43m)\u001b[49m\n\u001b[1;32m     49\u001b[0m     df\u001b[38;5;241m.\u001b[39mto_pickle(\u001b[38;5;124mf\u001b[39m\u001b[38;5;124m'\u001b[39m\u001b[38;5;124m../raw_data/raw_pixels/\u001b[39m\u001b[38;5;132;01m{\u001b[39;00mstate_name\u001b[38;5;132;01m}\u001b[39;00m\u001b[38;5;124m.zip\u001b[39m\u001b[38;5;124m'\u001b[39m)\n\u001b[1;32m     50\u001b[0m     \u001b[38;5;28mprint\u001b[39m(\u001b[38;5;124mf\u001b[39m\u001b[38;5;124m\"\u001b[39m\u001b[38;5;124mDownloaded data for \u001b[39m\u001b[38;5;132;01m{\u001b[39;00mstate_name\u001b[38;5;132;01m}\u001b[39;00m\u001b[38;5;124m...\u001b[39m\u001b[38;5;124m\"\u001b[39m)\n",
      "Input \u001b[0;32mIn [24]\u001b[0m, in \u001b[0;36mdownload_map\u001b[0;34m(country_code, state_name, date_range, modis_collection, num_pixels)\u001b[0m\n\u001b[1;32m      8\u001b[0m states_shp \u001b[38;5;241m=\u001b[39m \u001b[38;5;124mf\u001b[39m\u001b[38;5;124m'\u001b[39m\u001b[38;5;124m../raw_data/raw_data/gadm41_SSD_shp/gadm41_SSD_2.shp\u001b[39m\u001b[38;5;124m'\u001b[39m\n\u001b[1;32m     10\u001b[0m ee_shape \u001b[38;5;241m=\u001b[39m geemap\u001b[38;5;241m.\u001b[39mshp_to_ee(states_shp)\n\u001b[0;32m---> 11\u001b[0m state_ee \u001b[38;5;241m=\u001b[39m \u001b[43mee_shape\u001b[49m\u001b[38;5;241;43m.\u001b[39;49m\u001b[43mfilter\u001b[49m(ee\u001b[38;5;241m.\u001b[39mFilter\u001b[38;5;241m.\u001b[39meq([\u001b[38;5;124m\"\u001b[39m\u001b[38;5;124mNAME_2\u001b[39m\u001b[38;5;124m\"\u001b[39m], state_name))\n\u001b[1;32m     12\u001b[0m Map\u001b[38;5;241m.\u001b[39maddLayer(state_ee\u001b[38;5;241m.\u001b[39mgeometry())\n\u001b[1;32m     14\u001b[0m image_collection \u001b[38;5;241m=\u001b[39m ee\u001b[38;5;241m.\u001b[39mImageCollection(\u001b[38;5;124mf\u001b[39m\u001b[38;5;124m'\u001b[39m\u001b[38;5;124mMODIS/\u001b[39m\u001b[38;5;132;01m{\u001b[39;00mmodis_collection\u001b[38;5;132;01m}\u001b[39;00m\u001b[38;5;124m'\u001b[39m)\u001b[38;5;241m.\u001b[39mfilter(ee\u001b[38;5;241m.\u001b[39mFilter\u001b[38;5;241m.\u001b[39mdate(\u001b[38;5;241m*\u001b[39mdate_range))\u001b[38;5;241m.\u001b[39mtoBands()\n",
      "\u001b[0;31mAttributeError\u001b[0m: 'NoneType' object has no attribute 'filter'"
     ]
    }
   ],
   "source": [
    "load_all()"
   ]
  },
  {
   "cell_type": "code",
   "execution_count": null,
   "id": "b68b6f3e",
   "metadata": {},
   "outputs": [],
   "source": []
  }
 ],
 "metadata": {
  "kernelspec": {
   "display_name": "Python 3 (ipykernel)",
   "language": "python",
   "name": "python3"
  },
  "language_info": {
   "codemirror_mode": {
    "name": "ipython",
    "version": 3
   },
   "file_extension": ".py",
   "mimetype": "text/x-python",
   "name": "python",
   "nbconvert_exporter": "python",
   "pygments_lexer": "ipython3",
   "version": "3.8.12"
  },
  "toc": {
   "base_numbering": 1,
   "nav_menu": {},
   "number_sections": true,
   "sideBar": true,
   "skip_h1_title": false,
   "title_cell": "Table of Contents",
   "title_sidebar": "Contents",
   "toc_cell": false,
   "toc_position": {},
   "toc_section_display": true,
   "toc_window_display": false
  }
 },
 "nbformat": 4,
 "nbformat_minor": 5
}
