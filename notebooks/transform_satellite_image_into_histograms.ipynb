{
 "cells": [
  {
   "cell_type": "code",
   "execution_count": null,
   "id": "2774212e",
   "metadata": {},
   "outputs": [],
   "source": [
    "# install these packakes if importing modules break \n",
    "\n",
    "# !pip install geemap\n",
    "# !pip install earthengine-api --upgrade \n",
    "# !pip install pyshp"
   ]
  },
  {
   "cell_type": "code",
   "execution_count": null,
   "id": "33605b82",
   "metadata": {},
   "outputs": [],
   "source": [
    "import ee\n",
    "import geemap \n",
    "from ee import ImageCollection\n",
    "\n",
    "import os\n",
    "import numpy as np\n",
    "import matplotlib.pyplot as plt"
   ]
  },
  {
   "cell_type": "markdown",
   "id": "d96e1277",
   "metadata": {},
   "source": [
    "# Create geometry by county"
   ]
  },
  {
   "cell_type": "markdown",
   "id": "1b23e20f",
   "metadata": {},
   "source": [
    "## Create blank map"
   ]
  },
  {
   "cell_type": "code",
   "execution_count": null,
   "id": "b4406937",
   "metadata": {},
   "outputs": [],
   "source": [
    "ee.Initialize()\n",
    "Map = geemap.Map()"
   ]
  },
  {
   "cell_type": "markdown",
   "id": "5fb245b3",
   "metadata": {},
   "source": [
    "## Import data from .shp file. "
   ]
  },
  {
   "cell_type": "code",
   "execution_count": null,
   "id": "882b4802",
   "metadata": {},
   "outputs": [],
   "source": [
    "county_shp = '../raw_data/gadm41_SSD_shp/gadm41_SSD_2.shp'\n",
    "ee_shape = geemap.shp_to_ee(county_shp)\n",
    "ee_shape.getInfo()"
   ]
  },
  {
   "cell_type": "markdown",
   "id": "2dbfd7b9",
   "metadata": {},
   "source": [
    "##  Filter by county ('name_2') from shapefile"
   ]
  },
  {
   "cell_type": "code",
   "execution_count": null,
   "id": "a03aa04c",
   "metadata": {},
   "outputs": [],
   "source": [
    "county_Bahr_al_Jabal = ee_shape.filter(ee.Filter.eq(\"NAME_2\", 'Bahr al Jabal'))"
   ]
  },
  {
   "cell_type": "code",
   "execution_count": null,
   "id": "d90ba3d6",
   "metadata": {
    "scrolled": true
   },
   "outputs": [],
   "source": [
    "# test  \n",
    "Map.addLayer(county_Bahr_al_Jabal.geometry())\n",
    "Map"
   ]
  },
  {
   "cell_type": "markdown",
   "id": "c06e64ae",
   "metadata": {},
   "source": [
    "# Export from MODIS satellite a collection of images"
   ]
  },
  {
   "cell_type": "code",
   "execution_count": null,
   "id": "afa5dfb6",
   "metadata": {},
   "outputs": [],
   "source": [
    "start_date = '2022-04-20'\n",
    "end_date = '2022-05-04'   \n",
    "MODIS_layer = 'MOD13A1'  #(high to low resolution: MOD13Q1 MOD13A1 MOD13A2)\n",
    "image_collection = ee.ImageCollection(f'MODIS/006/{MODIS_layer}').filter(ee.Filter.date(start_date,end_date)).select(['NDVI']).toBands()\n",
    "#    .filterBounds(county_Bahr_al_Jabal_shp.geometry())\n",
    " \n",
    "\n",
    "## toBands() converts collection into image.   "
   ]
  },
  {
   "cell_type": "markdown",
   "id": "1994d6b4",
   "metadata": {},
   "source": [
    "## Crop/clip multiple images in the collection (error!!)"
   ]
  },
  {
   "cell_type": "code",
   "execution_count": null,
   "id": "c3f5e800",
   "metadata": {},
   "outputs": [],
   "source": [
    "cropped_county = image_collection.map(lambda image: image.clip(county_Bahr_al_Jabal_shp.geometry() ))\n",
    "\n",
    "# test it\n",
    "Map.addLayer(cropped_county)\n",
    "Map"
   ]
  },
  {
   "cell_type": "markdown",
   "id": "5ecde44e",
   "metadata": {},
   "source": [
    "# Sample 5000 px for each image in collection "
   ]
  },
  {
   "cell_type": "code",
   "execution_count": null,
   "id": "1f3ee224",
   "metadata": {},
   "outputs": [],
   "source": [
    "region  = county_Bahr_al_Jabal.geometry()\n",
    "output  = image_collection.sample(region, scale = 300 , numPixels = 5000)\n",
    "output.getInfo()"
   ]
  },
  {
   "cell_type": "code",
   "execution_count": null,
   "id": "098892f7",
   "metadata": {},
   "outputs": [],
   "source": [
    "pixel_value = output.getInfo()['features'][3]['properties']['2022_04_23_NDVI']\n",
    "pixel_value"
   ]
  },
  {
   "cell_type": "code",
   "execution_count": null,
   "id": "91d24de9",
   "metadata": {},
   "outputs": [],
   "source": [
    "# append each pixel to list\n",
    "\n",
    "image_name = '2022_04_23_NDVI' \n",
    "pixel_value_2022_04_23_NDVI_list = []\n",
    "\n",
    "i=0\n",
    "for i in range(number_of_pixels - 1):\n",
    "    pixel_value = output.getInfo()['features'][i]['properties'][image_name]\n",
    "    pixel_value_2022_04_23_NDVI_list.append(pixel_value)\n",
    "    \n",
    "pixel_value_2022_04_23_NDVI_list.shape()"
   ]
  },
  {
   "cell_type": "markdown",
   "id": "eb91ca64",
   "metadata": {},
   "source": [
    "# Create Histogram"
   ]
  },
  {
   "cell_type": "code",
   "execution_count": null,
   "id": "a070ffa2",
   "metadata": {},
   "outputs": [],
   "source": [
    "# histogram for NDVI layer for image of 2022-04-23\n",
    "plt.hist(pixel_value_2022_04_23_NDVI_list, bins=32)\n",
    "\n",
    "\n"
   ]
  }
 ],
 "metadata": {
  "kernelspec": {
   "display_name": "Python 3 (ipykernel)",
   "language": "python",
   "name": "python3"
  },
  "language_info": {
   "codemirror_mode": {
    "name": "ipython",
    "version": 3
   },
   "file_extension": ".py",
   "mimetype": "text/x-python",
   "name": "python",
   "nbconvert_exporter": "python",
   "pygments_lexer": "ipython3",
   "version": "3.8.12"
  },
  "toc": {
   "base_numbering": 1,
   "nav_menu": {},
   "number_sections": true,
   "sideBar": true,
   "skip_h1_title": false,
   "title_cell": "Table of Contents",
   "title_sidebar": "Contents",
   "toc_cell": false,
   "toc_position": {},
   "toc_section_display": true,
   "toc_window_display": false
  }
 },
 "nbformat": 4,
 "nbformat_minor": 5
}
