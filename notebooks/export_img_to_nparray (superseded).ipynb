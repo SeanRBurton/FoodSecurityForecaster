{
 "cells": [
  {
   "cell_type": "markdown",
   "metadata": {},
   "source": [
    "## Links to geemap syntax & GEE layers"
   ]
  },
  {
   "cell_type": "code",
   "execution_count": null,
   "metadata": {},
   "outputs": [],
   "source": [
    "## install these packakes if importing modules break \n",
    "\n",
    "# !pip install geemap\n",
    "# !pip install earthengine-api --upgrade \n",
    "# !pip install pyshp"
   ]
  },
  {
   "cell_type": "code",
   "execution_count": null,
   "metadata": {},
   "outputs": [],
   "source": [
    "import ee\n",
    "import geemap \n",
    "from ee import ImageCollection\n",
    "import os\n",
    "import numpy as np\n",
    "import matplotlib.pyplot as plt\n",
    "Map = geemap.Map()"
   ]
  },
  {
   "cell_type": "code",
   "execution_count": null,
   "metadata": {
    "id": "4M7ZxznyqaCy"
   },
   "outputs": [],
   "source": [
    "# geemap DOCUMENTATION:\n",
    "## 1. https://geemap.org/usage/ \n",
    "## 2. https://developers.google.com/earth-engine/guides/image_overview#colab-python\n",
    "## 3. https://www.youtube.com/watch?v=_6JOA-iiEGU&ab_channel=QiushengWu (tutorial)"
   ]
  },
  {
   "cell_type": "markdown",
   "metadata": {},
   "source": [
    "## import county function & add map counties"
   ]
  },
  {
   "cell_type": "markdown",
   "metadata": {
    "heading_collapsed": true
   },
   "source": [
    "### importing from previous directory \"county_regions\" function function"
   ]
  },
  {
   "cell_type": "code",
   "execution_count": null,
   "metadata": {
    "hidden": true
   },
   "outputs": [],
   "source": [
    "import sys\n",
    "sys.path.insert(0, \"../scripts/\")\n",
    "import county_regions"
   ]
  },
  {
   "cell_type": "markdown",
   "metadata": {
    "heading_collapsed": true
   },
   "source": [
    "### create geometry shape"
   ]
  },
  {
   "cell_type": "code",
   "execution_count": 72,
   "metadata": {
    "hidden": true
   },
   "outputs": [],
   "source": [
    "county_NahrYei = county_regions.load_county_regions()['NahrYei']\n",
    "region = ee.Geometry.Polygon([county_NahrYei], None, False)\n",
    "\n",
    "# region = ee.Geometry.Polygon([[\n",
    "#     [-110.8, 44.7], \n",
    "#     [-110.8, 44.6], \n",
    "#     [-110.6, 44.6], \n",
    "#     [-110.6, 44.7]]], \n",
    "#     None, \n",
    "#     False)"
   ]
  },
  {
   "cell_type": "code",
   "execution_count": 50,
   "metadata": {
    "hidden": true,
    "scrolled": true
   },
   "outputs": [
    {
     "data": {
      "application/vnd.jupyter.widget-view+json": {
       "model_id": "a4a6f87493d74b54b395331c98fc80c3",
       "version_major": 2,
       "version_minor": 0
      },
      "text/plain": [
       "Map(center=[7.689217127736191, 31.99218252928948], controls=(WidgetControl(options=['position', 'transparent_b…"
      ]
     },
     "metadata": {},
     "output_type": "display_data"
    }
   ],
   "source": [
    "county_shp = '../raw_data/gadm41_SSD_shp/gadm41_SSD_2.shp'\n",
    "county1 = geemap.shp_to_ee(county_shp)\n",
    "\n",
    "Map.addLayer(county1, {}, 'Casds')\n",
    "Map"
   ]
  },
  {
   "cell_type": "markdown",
   "metadata": {},
   "source": [
    "## Export layer as Collection of images for the shapefile"
   ]
  },
  {
   "cell_type": "markdown",
   "metadata": {
    "heading_collapsed": true
   },
   "source": [
    "### Create ImageCollection "
   ]
  },
  {
   "cell_type": "code",
   "execution_count": 67,
   "metadata": {
    "hidden": true
   },
   "outputs": [],
   "source": [
    "start_date = '2022-08-10'\n",
    "end_date = '2022-09-04'  #narrow down to crop season\n",
    "MODIS_layer = 'MOD13A2'  #(high to low resolution: MOD13Q1 MOD13A1 MOD13A2)\n",
    "collection = (ee.ImageCollection(f'MODIS/061/{MODIS_layer}')\n",
    "    .filter(ee.Filter.date(start_date, end_date))\n",
    "    .filterBounds(region)\n",
    "    .select(['SolarZenith','sur_refl_b01','sur_refl_b07', 'DetailedQA'])\n",
    "             )"
   ]
  },
  {
   "cell_type": "markdown",
   "metadata": {
    "heading_collapsed": true
   },
   "source": [
    "### Export imageCollection"
   ]
  },
  {
   "cell_type": "code",
   "execution_count": 68,
   "metadata": {
    "hidden": true
   },
   "outputs": [
    {
     "name": "stdout",
     "output_type": "stream",
     "text": [
      "Can't encode object: [[29.8064  4.3617]\n",
      " [29.7984  4.3683]\n",
      " [29.7953  4.3816]\n",
      " [29.7986  4.3952]\n",
      " [29.7954  4.4072]\n",
      " [29.7957  4.4144]\n",
      " [29.7985  4.424 ]\n",
      " [29.7956  4.4371]\n",
      " [29.7989  4.4458]\n",
      " [29.8004  4.4654]\n",
      " [29.8032  4.4688]\n",
      " [29.806   4.4828]\n",
      " [29.8058  4.4911]\n",
      " [29.7942  4.5039]\n",
      " [29.7931  4.5089]\n",
      " [29.7971  4.5177]\n",
      " [29.8084  4.5256]\n",
      " [29.8208  4.5373]\n",
      " [29.8248  4.549 ]\n",
      " [29.8244  4.5522]\n",
      " [29.8203  4.5587]\n",
      " [29.8116  4.5622]\n",
      " [29.814   4.5665]\n",
      " [29.8263  4.5724]\n",
      " [29.8754  4.6079]\n",
      " [29.9449  4.6461]\n",
      " [29.9957  4.6514]\n",
      " [30.0641  4.6499]\n",
      " [30.1427  4.6829]\n",
      " [30.1948  4.7069]\n",
      " [30.2281  4.7068]\n",
      " [30.2927  4.6853]\n",
      " [30.3975  4.6059]\n",
      " [30.4244  4.6113]\n",
      " [30.4697  4.6394]\n",
      " [30.5067  4.6672]\n",
      " [30.5174  4.702 ]\n",
      " [30.5205  4.7684]\n",
      " [30.5279  4.7881]\n",
      " [30.5385  4.8008]\n",
      " [30.5682  4.8162]\n",
      " [30.6598  4.6641]\n",
      " [30.6916  4.6451]\n",
      " [30.7813  4.6171]\n",
      " [30.8783  4.5304]\n",
      " [30.9454  4.4636]\n",
      " [31.013   4.4014]\n",
      " [31.0289  4.4027]\n",
      " [31.1285  4.4447]\n",
      " [31.1599  4.4345]\n",
      " [31.2358  4.3933]\n",
      " [31.3144  4.3383]\n",
      " [31.3007  4.3197]\n",
      " [31.2923  4.2967]\n",
      " [31.277   4.2713]\n",
      " [31.2599  4.1736]\n",
      " [31.2385  4.1224]\n",
      " [31.2395  4.0707]\n",
      " [31.234   4.0317]\n",
      " [31.2492  3.9921]\n",
      " [31.2835  3.797 ]\n",
      " [31.1651  3.7971]\n",
      " [31.1522  3.7804]\n",
      " [31.135   3.7716]\n",
      " [31.1335  3.768 ]\n",
      " [31.129   3.7685]\n",
      " [31.1268  3.7653]\n",
      " [31.1219  3.7633]\n",
      " [31.122   3.7604]\n",
      " [31.1196  3.7605]\n",
      " [31.1173  3.7564]\n",
      " [31.1137  3.7576]\n",
      " [31.1095  3.7559]\n",
      " [31.1074  3.7521]\n",
      " [31.1043  3.753 ]\n",
      " [31.1029  3.7491]\n",
      " [31.0996  3.7473]\n",
      " [31.1001  3.7448]\n",
      " [31.1046  3.7432]\n",
      " [31.1011  3.7421]\n",
      " [31.0999  3.7389]\n",
      " [31.0937  3.7424]\n",
      " [31.0926  3.7383]\n",
      " [31.0908  3.7375]\n",
      " [31.0881  3.7446]\n",
      " [31.084   3.7425]\n",
      " [31.0803  3.7457]\n",
      " [31.0754  3.7465]\n",
      " [31.0689  3.7456]\n",
      " [31.0652  3.7431]\n",
      " [31.0624  3.7385]\n",
      " [31.0604  3.7389]\n",
      " [31.0582  3.7362]\n",
      " [31.063   3.7326]\n",
      " [31.06    3.7281]\n",
      " [31.0611  3.7257]\n",
      " [31.06    3.7222]\n",
      " [31.0541  3.7196]\n",
      " [31.0524  3.7158]\n",
      " [31.0479  3.7157]\n",
      " [31.0298  3.6997]\n",
      " [31.0194  3.6961]\n",
      " [31.0161  3.7031]\n",
      " [31.009   3.7063]\n",
      " [31.0077  3.7092]\n",
      " [31.      3.7118]\n",
      " [30.9881  3.709 ]\n",
      " [30.9802  3.7044]\n",
      " [30.9715  3.6935]\n",
      " [30.9678  3.6848]\n",
      " [30.9667  3.6761]\n",
      " [30.9551  3.6716]\n",
      " [30.9547  3.6672]\n",
      " [30.9498  3.6621]\n",
      " [30.9488  3.6568]\n",
      " [30.9472  3.6564]\n",
      " [30.9459  3.653 ]\n",
      " [30.9488  3.6447]\n",
      " [30.9484  3.6361]\n",
      " [30.9395  3.6293]\n",
      " [30.9385  3.6221]\n",
      " [30.9305  3.6227]\n",
      " [30.926   3.6189]\n",
      " [30.9262  3.6147]\n",
      " [30.9204  3.6024]\n",
      " [30.9166  3.6024]\n",
      " [30.9088  3.5977]\n",
      " [30.9075  3.59  ]\n",
      " [30.9045  3.5882]\n",
      " [30.9027  3.5778]\n",
      " [30.8875  3.558 ]\n",
      " [30.8861  3.5504]\n",
      " [30.8811  3.5416]\n",
      " [30.8785  3.5289]\n",
      " [30.8743  3.522 ]\n",
      " [30.8729  3.5144]\n",
      " [30.8699  3.51  ]\n",
      " [30.8694  3.5052]\n",
      " [30.8615  3.4871]\n",
      " [30.8614  3.485 ]\n",
      " [30.863   3.4839]\n",
      " [30.8702  3.4827]\n",
      " [30.8677  3.4814]\n",
      " [30.862   3.481 ]\n",
      " [30.8536  3.4864]\n",
      " [30.8474  3.4975]\n",
      " [30.8461  3.5083]\n",
      " [30.85    3.5238]\n",
      " [30.8602  3.5467]\n",
      " [30.8621  3.554 ]\n",
      " [30.862   3.5631]\n",
      " [30.857   3.569 ]\n",
      " [30.8143  3.5799]\n",
      " [30.8072  3.5834]\n",
      " [30.7993  3.5904]\n",
      " [30.7909  3.6033]\n",
      " [30.786   3.621 ]\n",
      " [30.786   3.648 ]\n",
      " [30.784   3.657 ]\n",
      " [30.778   3.669 ]\n",
      " [30.7713  3.6747]\n",
      " [30.761   3.672 ]\n",
      " [30.755   3.666 ]\n",
      " [30.746   3.6378]\n",
      " [30.7346  3.6243]\n",
      " [30.719   3.6206]\n",
      " [30.6975  3.6275]\n",
      " [30.6869  3.634 ]\n",
      " [30.674   3.637 ]\n",
      " [30.667   3.636 ]\n",
      " [30.6226  3.6069]\n",
      " [30.5919  3.5943]\n",
      " [30.5733  3.5921]\n",
      " [30.563   3.594 ]\n",
      " [30.5586  3.596 ]\n",
      " [30.5569  3.5988]\n",
      " [30.5563  3.6064]\n",
      " [30.5675  3.6242]\n",
      " [30.5749  3.6412]\n",
      " [30.5768  3.6569]\n",
      " [30.5818  3.6673]\n",
      " [30.5849  3.6802]\n",
      " [30.5715  3.765 ]\n",
      " [30.5557  3.8274]\n",
      " [30.5261  3.8486]\n",
      " [30.4989  3.8413]\n",
      " [30.4716  3.8269]\n",
      " [30.453   3.8311]\n",
      " [30.4456  3.8384]\n",
      " [30.4303  3.871 ]\n",
      " [30.4155  3.8706]\n",
      " [30.4038  3.8662]\n",
      " [30.379   3.8952]\n",
      " [30.3519  3.9125]\n",
      " [30.3358  3.9192]\n",
      " [30.3209  3.9315]\n",
      " [30.2993  3.931 ]\n",
      " [30.2848  3.9501]\n",
      " [30.2736  3.9564]\n",
      " [30.264   3.9563]\n",
      " [30.2452  3.945 ]\n",
      " [30.2226  3.9374]\n",
      " [30.2091  3.9495]\n",
      " [30.2045  3.9555]\n",
      " [30.2015  3.9674]\n",
      " [30.1975  3.9714]\n",
      " [30.1909  4.0155]\n",
      " [30.1733  4.0304]\n",
      " [30.1739  4.0431]\n",
      " [30.171   4.0453]\n",
      " [30.1667  4.0457]\n",
      " [30.1586  4.055 ]\n",
      " [30.1574  4.0707]\n",
      " [30.1588  4.0801]\n",
      " [30.1577  4.0927]\n",
      " [30.1557  4.097 ]\n",
      " [30.1481  4.1035]\n",
      " [30.1315  4.111 ]\n",
      " [30.1085  4.1178]\n",
      " [30.0924  4.1278]\n",
      " [30.0572  4.1394]\n",
      " [30.0387  4.1571]\n",
      " [30.0299  4.1925]\n",
      " [30.0267  4.1968]\n",
      " [30.      4.2157]\n",
      " [29.9873  4.2266]\n",
      " [29.9754  4.2308]\n",
      " [29.9566  4.2321]\n",
      " [29.9479  4.2347]\n",
      " [29.9441  4.2416]\n",
      " [29.9503  4.2528]\n",
      " [29.9515  4.26  ]\n",
      " [29.9636  4.2774]\n",
      " [29.9611  4.2896]\n",
      " [29.9502  4.306 ]\n",
      " [29.9418  4.3148]\n",
      " [29.9023  4.3436]\n",
      " [29.8932  4.3462]\n",
      " [29.8856  4.344 ]\n",
      " [29.8768  4.339 ]\n",
      " [29.8599  4.3398]\n",
      " [29.8505  4.3373]\n",
      " [29.8397  4.3367]\n",
      " [29.8312  4.3427]\n",
      " [29.8228  4.3541]\n",
      " [29.8064  4.3617]]\n"
     ]
    },
    {
     "ename": "EEException",
     "evalue": "Can't encode object: [[29.8064  4.3617]\n [29.7984  4.3683]\n [29.7953  4.3816]\n [29.7986  4.3952]\n [29.7954  4.4072]\n [29.7957  4.4144]\n [29.7985  4.424 ]\n [29.7956  4.4371]\n [29.7989  4.4458]\n [29.8004  4.4654]\n [29.8032  4.4688]\n [29.806   4.4828]\n [29.8058  4.4911]\n [29.7942  4.5039]\n [29.7931  4.5089]\n [29.7971  4.5177]\n [29.8084  4.5256]\n [29.8208  4.5373]\n [29.8248  4.549 ]\n [29.8244  4.5522]\n [29.8203  4.5587]\n [29.8116  4.5622]\n [29.814   4.5665]\n [29.8263  4.5724]\n [29.8754  4.6079]\n [29.9449  4.6461]\n [29.9957  4.6514]\n [30.0641  4.6499]\n [30.1427  4.6829]\n [30.1948  4.7069]\n [30.2281  4.7068]\n [30.2927  4.6853]\n [30.3975  4.6059]\n [30.4244  4.6113]\n [30.4697  4.6394]\n [30.5067  4.6672]\n [30.5174  4.702 ]\n [30.5205  4.7684]\n [30.5279  4.7881]\n [30.5385  4.8008]\n [30.5682  4.8162]\n [30.6598  4.6641]\n [30.6916  4.6451]\n [30.7813  4.6171]\n [30.8783  4.5304]\n [30.9454  4.4636]\n [31.013   4.4014]\n [31.0289  4.4027]\n [31.1285  4.4447]\n [31.1599  4.4345]\n [31.2358  4.3933]\n [31.3144  4.3383]\n [31.3007  4.3197]\n [31.2923  4.2967]\n [31.277   4.2713]\n [31.2599  4.1736]\n [31.2385  4.1224]\n [31.2395  4.0707]\n [31.234   4.0317]\n [31.2492  3.9921]\n [31.2835  3.797 ]\n [31.1651  3.7971]\n [31.1522  3.7804]\n [31.135   3.7716]\n [31.1335  3.768 ]\n [31.129   3.7685]\n [31.1268  3.7653]\n [31.1219  3.7633]\n [31.122   3.7604]\n [31.1196  3.7605]\n [31.1173  3.7564]\n [31.1137  3.7576]\n [31.1095  3.7559]\n [31.1074  3.7521]\n [31.1043  3.753 ]\n [31.1029  3.7491]\n [31.0996  3.7473]\n [31.1001  3.7448]\n [31.1046  3.7432]\n [31.1011  3.7421]\n [31.0999  3.7389]\n [31.0937  3.7424]\n [31.0926  3.7383]\n [31.0908  3.7375]\n [31.0881  3.7446]\n [31.084   3.7425]\n [31.0803  3.7457]\n [31.0754  3.7465]\n [31.0689  3.7456]\n [31.0652  3.7431]\n [31.0624  3.7385]\n [31.0604  3.7389]\n [31.0582  3.7362]\n [31.063   3.7326]\n [31.06    3.7281]\n [31.0611  3.7257]\n [31.06    3.7222]\n [31.0541  3.7196]\n [31.0524  3.7158]\n [31.0479  3.7157]\n [31.0298  3.6997]\n [31.0194  3.6961]\n [31.0161  3.7031]\n [31.009   3.7063]\n [31.0077  3.7092]\n [31.      3.7118]\n [30.9881  3.709 ]\n [30.9802  3.7044]\n [30.9715  3.6935]\n [30.9678  3.6848]\n [30.9667  3.6761]\n [30.9551  3.6716]\n [30.9547  3.6672]\n [30.9498  3.6621]\n [30.9488  3.6568]\n [30.9472  3.6564]\n [30.9459  3.653 ]\n [30.9488  3.6447]\n [30.9484  3.6361]\n [30.9395  3.6293]\n [30.9385  3.6221]\n [30.9305  3.6227]\n [30.926   3.6189]\n [30.9262  3.6147]\n [30.9204  3.6024]\n [30.9166  3.6024]\n [30.9088  3.5977]\n [30.9075  3.59  ]\n [30.9045  3.5882]\n [30.9027  3.5778]\n [30.8875  3.558 ]\n [30.8861  3.5504]\n [30.8811  3.5416]\n [30.8785  3.5289]\n [30.8743  3.522 ]\n [30.8729  3.5144]\n [30.8699  3.51  ]\n [30.8694  3.5052]\n [30.8615  3.4871]\n [30.8614  3.485 ]\n [30.863   3.4839]\n [30.8702  3.4827]\n [30.8677  3.4814]\n [30.862   3.481 ]\n [30.8536  3.4864]\n [30.8474  3.4975]\n [30.8461  3.5083]\n [30.85    3.5238]\n [30.8602  3.5467]\n [30.8621  3.554 ]\n [30.862   3.5631]\n [30.857   3.569 ]\n [30.8143  3.5799]\n [30.8072  3.5834]\n [30.7993  3.5904]\n [30.7909  3.6033]\n [30.786   3.621 ]\n [30.786   3.648 ]\n [30.784   3.657 ]\n [30.778   3.669 ]\n [30.7713  3.6747]\n [30.761   3.672 ]\n [30.755   3.666 ]\n [30.746   3.6378]\n [30.7346  3.6243]\n [30.719   3.6206]\n [30.6975  3.6275]\n [30.6869  3.634 ]\n [30.674   3.637 ]\n [30.667   3.636 ]\n [30.6226  3.6069]\n [30.5919  3.5943]\n [30.5733  3.5921]\n [30.563   3.594 ]\n [30.5586  3.596 ]\n [30.5569  3.5988]\n [30.5563  3.6064]\n [30.5675  3.6242]\n [30.5749  3.6412]\n [30.5768  3.6569]\n [30.5818  3.6673]\n [30.5849  3.6802]\n [30.5715  3.765 ]\n [30.5557  3.8274]\n [30.5261  3.8486]\n [30.4989  3.8413]\n [30.4716  3.8269]\n [30.453   3.8311]\n [30.4456  3.8384]\n [30.4303  3.871 ]\n [30.4155  3.8706]\n [30.4038  3.8662]\n [30.379   3.8952]\n [30.3519  3.9125]\n [30.3358  3.9192]\n [30.3209  3.9315]\n [30.2993  3.931 ]\n [30.2848  3.9501]\n [30.2736  3.9564]\n [30.264   3.9563]\n [30.2452  3.945 ]\n [30.2226  3.9374]\n [30.2091  3.9495]\n [30.2045  3.9555]\n [30.2015  3.9674]\n [30.1975  3.9714]\n [30.1909  4.0155]\n [30.1733  4.0304]\n [30.1739  4.0431]\n [30.171   4.0453]\n [30.1667  4.0457]\n [30.1586  4.055 ]\n [30.1574  4.0707]\n [30.1588  4.0801]\n [30.1577  4.0927]\n [30.1557  4.097 ]\n [30.1481  4.1035]\n [30.1315  4.111 ]\n [30.1085  4.1178]\n [30.0924  4.1278]\n [30.0572  4.1394]\n [30.0387  4.1571]\n [30.0299  4.1925]\n [30.0267  4.1968]\n [30.      4.2157]\n [29.9873  4.2266]\n [29.9754  4.2308]\n [29.9566  4.2321]\n [29.9479  4.2347]\n [29.9441  4.2416]\n [29.9503  4.2528]\n [29.9515  4.26  ]\n [29.9636  4.2774]\n [29.9611  4.2896]\n [29.9502  4.306 ]\n [29.9418  4.3148]\n [29.9023  4.3436]\n [29.8932  4.3462]\n [29.8856  4.344 ]\n [29.8768  4.339 ]\n [29.8599  4.3398]\n [29.8505  4.3373]\n [29.8397  4.3367]\n [29.8312  4.3427]\n [29.8228  4.3541]\n [29.8064  4.3617]]",
     "output_type": "error",
     "traceback": [
      "\u001b[0;31m---------------------------------------------------------------------------\u001b[0m",
      "\u001b[0;31mEEException\u001b[0m                               Traceback (most recent call last)",
      "\u001b[0;32m/tmp/ipykernel_16600/1691173886.py\u001b[0m in \u001b[0;36m<module>\u001b[0;34m\u001b[0m\n\u001b[1;32m      5\u001b[0m                                   \u001b[0mregion\u001b[0m\u001b[0;34m=\u001b[0m\u001b[0mregion\u001b[0m\u001b[0;34m,\u001b[0m\u001b[0;34m\u001b[0m\u001b[0;34m\u001b[0m\u001b[0m\n\u001b[1;32m      6\u001b[0m                                   file_per_band=True)\n\u001b[0;32m----> 7\u001b[0;31m \u001b[0mprint\u001b[0m\u001b[0;34m(\u001b[0m\u001b[0mcollection\u001b[0m\u001b[0;34m.\u001b[0m\u001b[0maggregate_array\u001b[0m\u001b[0;34m(\u001b[0m\u001b[0;34m'system:index'\u001b[0m\u001b[0;34m)\u001b[0m\u001b[0;34m.\u001b[0m\u001b[0mgetInfo\u001b[0m\u001b[0;34m(\u001b[0m\u001b[0;34m)\u001b[0m\u001b[0;34m)\u001b[0m\u001b[0;34m\u001b[0m\u001b[0;34m\u001b[0m\u001b[0m\n\u001b[0m",
      "\u001b[0;32m~/.pyenv/versions/3.8.12/envs/lewagon/lib/python3.8/site-packages/ee/computedobject.py\u001b[0m in \u001b[0;36mgetInfo\u001b[0;34m(self)\u001b[0m\n\u001b[1;32m     96\u001b[0m       \u001b[0mThe\u001b[0m \u001b[0mobject\u001b[0m \u001b[0mcan\u001b[0m \u001b[0mevaluate\u001b[0m \u001b[0mto\u001b[0m \u001b[0manything\u001b[0m\u001b[0;34m.\u001b[0m\u001b[0;34m\u001b[0m\u001b[0;34m\u001b[0m\u001b[0m\n\u001b[1;32m     97\u001b[0m     \"\"\"\n\u001b[0;32m---> 98\u001b[0;31m     \u001b[0;32mreturn\u001b[0m \u001b[0mdata\u001b[0m\u001b[0;34m.\u001b[0m\u001b[0mcomputeValue\u001b[0m\u001b[0;34m(\u001b[0m\u001b[0mself\u001b[0m\u001b[0;34m)\u001b[0m\u001b[0;34m\u001b[0m\u001b[0;34m\u001b[0m\u001b[0m\n\u001b[0m\u001b[1;32m     99\u001b[0m \u001b[0;34m\u001b[0m\u001b[0m\n\u001b[1;32m    100\u001b[0m   \u001b[0;32mdef\u001b[0m \u001b[0mencode\u001b[0m\u001b[0;34m(\u001b[0m\u001b[0mself\u001b[0m\u001b[0;34m,\u001b[0m \u001b[0mencoder\u001b[0m\u001b[0;34m)\u001b[0m\u001b[0;34m:\u001b[0m\u001b[0;34m\u001b[0m\u001b[0;34m\u001b[0m\u001b[0m\n",
      "\u001b[0;32m~/.pyenv/versions/3.8.12/envs/lewagon/lib/python3.8/site-packages/ee/data.py\u001b[0m in \u001b[0;36mcomputeValue\u001b[0;34m(obj)\u001b[0m\n\u001b[1;32m    731\u001b[0m     \u001b[0mThe\u001b[0m \u001b[0mresult\u001b[0m \u001b[0mof\u001b[0m \u001b[0mevaluating\u001b[0m \u001b[0mthat\u001b[0m \u001b[0mobject\u001b[0m \u001b[0mon\u001b[0m \u001b[0mthe\u001b[0m \u001b[0mserver\u001b[0m\u001b[0;34m.\u001b[0m\u001b[0;34m\u001b[0m\u001b[0;34m\u001b[0m\u001b[0m\n\u001b[1;32m    732\u001b[0m   \"\"\"\n\u001b[0;32m--> 733\u001b[0;31m   \u001b[0mbody\u001b[0m \u001b[0;34m=\u001b[0m \u001b[0;34m{\u001b[0m\u001b[0;34m'expression'\u001b[0m\u001b[0;34m:\u001b[0m \u001b[0mserializer\u001b[0m\u001b[0;34m.\u001b[0m\u001b[0mencode\u001b[0m\u001b[0;34m(\u001b[0m\u001b[0mobj\u001b[0m\u001b[0;34m,\u001b[0m \u001b[0mfor_cloud_api\u001b[0m\u001b[0;34m=\u001b[0m\u001b[0;32mTrue\u001b[0m\u001b[0;34m)\u001b[0m\u001b[0;34m}\u001b[0m\u001b[0;34m\u001b[0m\u001b[0;34m\u001b[0m\u001b[0m\n\u001b[0m\u001b[1;32m    734\u001b[0m   \u001b[0mworkload_tag\u001b[0m \u001b[0;34m=\u001b[0m \u001b[0mgetWorkloadTag\u001b[0m\u001b[0;34m(\u001b[0m\u001b[0;34m)\u001b[0m\u001b[0;34m\u001b[0m\u001b[0;34m\u001b[0m\u001b[0m\n\u001b[1;32m    735\u001b[0m   \u001b[0;32mif\u001b[0m \u001b[0mworkload_tag\u001b[0m\u001b[0;34m:\u001b[0m\u001b[0;34m\u001b[0m\u001b[0;34m\u001b[0m\u001b[0m\n",
      "\u001b[0;32m~/.pyenv/versions/3.8.12/envs/lewagon/lib/python3.8/site-packages/ee/serializer.py\u001b[0m in \u001b[0;36mencode\u001b[0;34m(obj, is_compound, for_cloud_api, unbound_name)\u001b[0m\n\u001b[1;32m    296\u001b[0m   serializer = Serializer(\n\u001b[1;32m    297\u001b[0m       is_compound, for_cloud_api=for_cloud_api, unbound_name=unbound_name)\n\u001b[0;32m--> 298\u001b[0;31m   \u001b[0;32mreturn\u001b[0m \u001b[0mserializer\u001b[0m\u001b[0;34m.\u001b[0m\u001b[0m_encode\u001b[0m\u001b[0;34m(\u001b[0m\u001b[0mobj\u001b[0m\u001b[0;34m)\u001b[0m  \u001b[0;31m# pylint: disable=protected-access\u001b[0m\u001b[0;34m\u001b[0m\u001b[0;34m\u001b[0m\u001b[0m\n\u001b[0m\u001b[1;32m    299\u001b[0m \u001b[0;34m\u001b[0m\u001b[0m\n\u001b[1;32m    300\u001b[0m \u001b[0;34m\u001b[0m\u001b[0m\n",
      "\u001b[0;32m~/.pyenv/versions/3.8.12/envs/lewagon/lib/python3.8/site-packages/ee/serializer.py\u001b[0m in \u001b[0;36m_encode\u001b[0;34m(self, obj)\u001b[0m\n\u001b[1;32m     78\u001b[0m     \"\"\"\n\u001b[1;32m     79\u001b[0m     \u001b[0;32mif\u001b[0m \u001b[0mself\u001b[0m\u001b[0;34m.\u001b[0m\u001b[0m_for_cloud_api\u001b[0m\u001b[0;34m:\u001b[0m\u001b[0;34m\u001b[0m\u001b[0;34m\u001b[0m\u001b[0m\n\u001b[0;32m---> 80\u001b[0;31m       \u001b[0;32mreturn\u001b[0m \u001b[0mself\u001b[0m\u001b[0;34m.\u001b[0m\u001b[0m_encode_for_cloud_api\u001b[0m\u001b[0;34m(\u001b[0m\u001b[0mobj\u001b[0m\u001b[0;34m)\u001b[0m\u001b[0;34m\u001b[0m\u001b[0;34m\u001b[0m\u001b[0m\n\u001b[0m\u001b[1;32m     81\u001b[0m     \u001b[0mvalue\u001b[0m \u001b[0;34m=\u001b[0m \u001b[0mself\u001b[0m\u001b[0;34m.\u001b[0m\u001b[0m_encode_value\u001b[0m\u001b[0;34m(\u001b[0m\u001b[0mobj\u001b[0m\u001b[0;34m)\u001b[0m\u001b[0;34m\u001b[0m\u001b[0;34m\u001b[0m\u001b[0m\n\u001b[1;32m     82\u001b[0m     \u001b[0;32mif\u001b[0m \u001b[0mself\u001b[0m\u001b[0;34m.\u001b[0m\u001b[0m_is_compound\u001b[0m\u001b[0;34m:\u001b[0m\u001b[0;34m\u001b[0m\u001b[0;34m\u001b[0m\u001b[0m\n",
      "\u001b[0;32m~/.pyenv/versions/3.8.12/envs/lewagon/lib/python3.8/site-packages/ee/serializer.py\u001b[0m in \u001b[0;36m_encode_for_cloud_api\u001b[0;34m(self, obj)\u001b[0m\n\u001b[1;32m     96\u001b[0m   \u001b[0;32mdef\u001b[0m \u001b[0m_encode_for_cloud_api\u001b[0m\u001b[0;34m(\u001b[0m\u001b[0mself\u001b[0m\u001b[0;34m,\u001b[0m \u001b[0mobj\u001b[0m\u001b[0;34m)\u001b[0m\u001b[0;34m:\u001b[0m\u001b[0;34m\u001b[0m\u001b[0;34m\u001b[0m\u001b[0m\n\u001b[1;32m     97\u001b[0m     \u001b[0;34m\"\"\"Encodes an object as an Expression or quasi-Expression.\"\"\"\u001b[0m\u001b[0;34m\u001b[0m\u001b[0;34m\u001b[0m\u001b[0m\n\u001b[0;32m---> 98\u001b[0;31m     \u001b[0mvalue\u001b[0m \u001b[0;34m=\u001b[0m \u001b[0mself\u001b[0m\u001b[0;34m.\u001b[0m\u001b[0m_encode_cloud_object\u001b[0m\u001b[0;34m(\u001b[0m\u001b[0mobj\u001b[0m\u001b[0;34m)\u001b[0m\u001b[0;34m\u001b[0m\u001b[0;34m\u001b[0m\u001b[0m\n\u001b[0m\u001b[1;32m     99\u001b[0m     \u001b[0;32mif\u001b[0m \u001b[0mself\u001b[0m\u001b[0;34m.\u001b[0m\u001b[0m_is_compound\u001b[0m\u001b[0;34m:\u001b[0m\u001b[0;34m\u001b[0m\u001b[0;34m\u001b[0m\u001b[0m\n\u001b[1;32m    100\u001b[0m       \u001b[0;31m# Wrap the scopes and final value into an Expression.\u001b[0m\u001b[0;34m\u001b[0m\u001b[0;34m\u001b[0m\u001b[0;34m\u001b[0m\u001b[0m\n",
      "\u001b[0;32m~/.pyenv/versions/3.8.12/envs/lewagon/lib/python3.8/site-packages/ee/serializer.py\u001b[0m in \u001b[0;36m_encode_cloud_object\u001b[0;34m(self, obj)\u001b[0m\n\u001b[1;32m    219\u001b[0m     \u001b[0;32melif\u001b[0m \u001b[0misinstance\u001b[0m\u001b[0;34m(\u001b[0m\u001b[0mobj\u001b[0m\u001b[0;34m,\u001b[0m \u001b[0mencodable\u001b[0m\u001b[0;34m.\u001b[0m\u001b[0mEncodable\u001b[0m\u001b[0;34m)\u001b[0m\u001b[0;34m:\u001b[0m\u001b[0;34m\u001b[0m\u001b[0;34m\u001b[0m\u001b[0m\n\u001b[1;32m    220\u001b[0m       \u001b[0;31m# Some objects know how to encode themselves.\u001b[0m\u001b[0;34m\u001b[0m\u001b[0;34m\u001b[0m\u001b[0;34m\u001b[0m\u001b[0m\n\u001b[0;32m--> 221\u001b[0;31m       \u001b[0mresult\u001b[0m \u001b[0;34m=\u001b[0m \u001b[0mobj\u001b[0m\u001b[0;34m.\u001b[0m\u001b[0mencode_cloud_value\u001b[0m\u001b[0;34m(\u001b[0m\u001b[0mself\u001b[0m\u001b[0;34m.\u001b[0m\u001b[0m_encode_cloud_object\u001b[0m\u001b[0;34m)\u001b[0m\u001b[0;34m\u001b[0m\u001b[0;34m\u001b[0m\u001b[0m\n\u001b[0m\u001b[1;32m    222\u001b[0m     \u001b[0;32melif\u001b[0m \u001b[0misinstance\u001b[0m\u001b[0;34m(\u001b[0m\u001b[0mobj\u001b[0m\u001b[0;34m,\u001b[0m \u001b[0;34m(\u001b[0m\u001b[0mlist\u001b[0m\u001b[0;34m,\u001b[0m \u001b[0mtuple\u001b[0m\u001b[0;34m)\u001b[0m\u001b[0;34m)\u001b[0m\u001b[0;34m:\u001b[0m\u001b[0;34m\u001b[0m\u001b[0;34m\u001b[0m\u001b[0m\n\u001b[1;32m    223\u001b[0m       \u001b[0;31m# Lists are encoded recursively.\u001b[0m\u001b[0;34m\u001b[0m\u001b[0;34m\u001b[0m\u001b[0;34m\u001b[0m\u001b[0m\n",
      "\u001b[0;32m~/.pyenv/versions/3.8.12/envs/lewagon/lib/python3.8/site-packages/ee/ee_list.py\u001b[0m in \u001b[0;36mencode_cloud_value\u001b[0;34m(self, opt_encoder)\u001b[0m\n\u001b[1;32m     69\u001b[0m       \u001b[0;32mreturn\u001b[0m \u001b[0;34m{\u001b[0m\u001b[0;34m'valueReference'\u001b[0m\u001b[0;34m:\u001b[0m \u001b[0mopt_encoder\u001b[0m\u001b[0;34m(\u001b[0m\u001b[0mself\u001b[0m\u001b[0;34m.\u001b[0m\u001b[0m_list\u001b[0m\u001b[0;34m)\u001b[0m\u001b[0;34m}\u001b[0m\u001b[0;34m\u001b[0m\u001b[0;34m\u001b[0m\u001b[0m\n\u001b[1;32m     70\u001b[0m     \u001b[0;32melse\u001b[0m\u001b[0;34m:\u001b[0m\u001b[0;34m\u001b[0m\u001b[0;34m\u001b[0m\u001b[0m\n\u001b[0;32m---> 71\u001b[0;31m       \u001b[0;32mreturn\u001b[0m \u001b[0msuper\u001b[0m\u001b[0;34m(\u001b[0m\u001b[0mList\u001b[0m\u001b[0;34m,\u001b[0m \u001b[0mself\u001b[0m\u001b[0;34m)\u001b[0m\u001b[0;34m.\u001b[0m\u001b[0mencode_cloud_value\u001b[0m\u001b[0;34m(\u001b[0m\u001b[0mopt_encoder\u001b[0m\u001b[0;34m)\u001b[0m\u001b[0;34m\u001b[0m\u001b[0;34m\u001b[0m\u001b[0m\n\u001b[0m",
      "\u001b[0;32m~/.pyenv/versions/3.8.12/envs/lewagon/lib/python3.8/site-packages/ee/computedobject.py\u001b[0m in \u001b[0;36mencode_cloud_value\u001b[0;34m(self, encoder)\u001b[0m\n\u001b[1;32m    150\u001b[0m         \u001b[0mvalue\u001b[0m \u001b[0;34m=\u001b[0m \u001b[0mself\u001b[0m\u001b[0;34m.\u001b[0m\u001b[0margs\u001b[0m\u001b[0;34m[\u001b[0m\u001b[0mname\u001b[0m\u001b[0;34m]\u001b[0m\u001b[0;34m\u001b[0m\u001b[0;34m\u001b[0m\u001b[0m\n\u001b[1;32m    151\u001b[0m         \u001b[0;32mif\u001b[0m \u001b[0mvalue\u001b[0m \u001b[0;32mis\u001b[0m \u001b[0;32mnot\u001b[0m \u001b[0;32mNone\u001b[0m\u001b[0;34m:\u001b[0m\u001b[0;34m\u001b[0m\u001b[0;34m\u001b[0m\u001b[0m\n\u001b[0;32m--> 152\u001b[0;31m           \u001b[0mencoded_args\u001b[0m\u001b[0;34m[\u001b[0m\u001b[0mname\u001b[0m\u001b[0;34m]\u001b[0m \u001b[0;34m=\u001b[0m \u001b[0;34m{\u001b[0m\u001b[0;34m'valueReference'\u001b[0m\u001b[0;34m:\u001b[0m \u001b[0mencoder\u001b[0m\u001b[0;34m(\u001b[0m\u001b[0mvalue\u001b[0m\u001b[0;34m)\u001b[0m\u001b[0;34m}\u001b[0m\u001b[0;34m\u001b[0m\u001b[0;34m\u001b[0m\u001b[0m\n\u001b[0m\u001b[1;32m    153\u001b[0m       \u001b[0minvocation\u001b[0m\u001b[0;34m[\u001b[0m\u001b[0;34m'arguments'\u001b[0m\u001b[0;34m]\u001b[0m \u001b[0;34m=\u001b[0m \u001b[0mencoded_args\u001b[0m\u001b[0;34m\u001b[0m\u001b[0;34m\u001b[0m\u001b[0m\n\u001b[1;32m    154\u001b[0m       \u001b[0;32mreturn\u001b[0m \u001b[0;34m{\u001b[0m\u001b[0;34m'functionInvocationValue'\u001b[0m\u001b[0;34m:\u001b[0m \u001b[0minvocation\u001b[0m\u001b[0;34m}\u001b[0m\u001b[0;34m\u001b[0m\u001b[0;34m\u001b[0m\u001b[0m\n",
      "\u001b[0;32m~/.pyenv/versions/3.8.12/envs/lewagon/lib/python3.8/site-packages/ee/serializer.py\u001b[0m in \u001b[0;36m_encode_cloud_object\u001b[0;34m(self, obj)\u001b[0m\n\u001b[1;32m    219\u001b[0m     \u001b[0;32melif\u001b[0m \u001b[0misinstance\u001b[0m\u001b[0;34m(\u001b[0m\u001b[0mobj\u001b[0m\u001b[0;34m,\u001b[0m \u001b[0mencodable\u001b[0m\u001b[0;34m.\u001b[0m\u001b[0mEncodable\u001b[0m\u001b[0;34m)\u001b[0m\u001b[0;34m:\u001b[0m\u001b[0;34m\u001b[0m\u001b[0;34m\u001b[0m\u001b[0m\n\u001b[1;32m    220\u001b[0m       \u001b[0;31m# Some objects know how to encode themselves.\u001b[0m\u001b[0;34m\u001b[0m\u001b[0;34m\u001b[0m\u001b[0;34m\u001b[0m\u001b[0m\n\u001b[0;32m--> 221\u001b[0;31m       \u001b[0mresult\u001b[0m \u001b[0;34m=\u001b[0m \u001b[0mobj\u001b[0m\u001b[0;34m.\u001b[0m\u001b[0mencode_cloud_value\u001b[0m\u001b[0;34m(\u001b[0m\u001b[0mself\u001b[0m\u001b[0;34m.\u001b[0m\u001b[0m_encode_cloud_object\u001b[0m\u001b[0;34m)\u001b[0m\u001b[0;34m\u001b[0m\u001b[0;34m\u001b[0m\u001b[0m\n\u001b[0m\u001b[1;32m    222\u001b[0m     \u001b[0;32melif\u001b[0m \u001b[0misinstance\u001b[0m\u001b[0;34m(\u001b[0m\u001b[0mobj\u001b[0m\u001b[0;34m,\u001b[0m \u001b[0;34m(\u001b[0m\u001b[0mlist\u001b[0m\u001b[0;34m,\u001b[0m \u001b[0mtuple\u001b[0m\u001b[0;34m)\u001b[0m\u001b[0;34m)\u001b[0m\u001b[0;34m:\u001b[0m\u001b[0;34m\u001b[0m\u001b[0;34m\u001b[0m\u001b[0m\n\u001b[1;32m    223\u001b[0m       \u001b[0;31m# Lists are encoded recursively.\u001b[0m\u001b[0;34m\u001b[0m\u001b[0;34m\u001b[0m\u001b[0;34m\u001b[0m\u001b[0m\n",
      "\u001b[0;32m~/.pyenv/versions/3.8.12/envs/lewagon/lib/python3.8/site-packages/ee/computedobject.py\u001b[0m in \u001b[0;36mencode_cloud_value\u001b[0;34m(self, encoder)\u001b[0m\n\u001b[1;32m    150\u001b[0m         \u001b[0mvalue\u001b[0m \u001b[0;34m=\u001b[0m \u001b[0mself\u001b[0m\u001b[0;34m.\u001b[0m\u001b[0margs\u001b[0m\u001b[0;34m[\u001b[0m\u001b[0mname\u001b[0m\u001b[0;34m]\u001b[0m\u001b[0;34m\u001b[0m\u001b[0;34m\u001b[0m\u001b[0m\n\u001b[1;32m    151\u001b[0m         \u001b[0;32mif\u001b[0m \u001b[0mvalue\u001b[0m \u001b[0;32mis\u001b[0m \u001b[0;32mnot\u001b[0m \u001b[0;32mNone\u001b[0m\u001b[0;34m:\u001b[0m\u001b[0;34m\u001b[0m\u001b[0;34m\u001b[0m\u001b[0m\n\u001b[0;32m--> 152\u001b[0;31m           \u001b[0mencoded_args\u001b[0m\u001b[0;34m[\u001b[0m\u001b[0mname\u001b[0m\u001b[0;34m]\u001b[0m \u001b[0;34m=\u001b[0m \u001b[0;34m{\u001b[0m\u001b[0;34m'valueReference'\u001b[0m\u001b[0;34m:\u001b[0m \u001b[0mencoder\u001b[0m\u001b[0;34m(\u001b[0m\u001b[0mvalue\u001b[0m\u001b[0;34m)\u001b[0m\u001b[0;34m}\u001b[0m\u001b[0;34m\u001b[0m\u001b[0;34m\u001b[0m\u001b[0m\n\u001b[0m\u001b[1;32m    153\u001b[0m       \u001b[0minvocation\u001b[0m\u001b[0;34m[\u001b[0m\u001b[0;34m'arguments'\u001b[0m\u001b[0;34m]\u001b[0m \u001b[0;34m=\u001b[0m \u001b[0mencoded_args\u001b[0m\u001b[0;34m\u001b[0m\u001b[0;34m\u001b[0m\u001b[0m\n\u001b[1;32m    154\u001b[0m       \u001b[0;32mreturn\u001b[0m \u001b[0;34m{\u001b[0m\u001b[0;34m'functionInvocationValue'\u001b[0m\u001b[0;34m:\u001b[0m \u001b[0minvocation\u001b[0m\u001b[0;34m}\u001b[0m\u001b[0;34m\u001b[0m\u001b[0;34m\u001b[0m\u001b[0m\n",
      "\u001b[0;32m~/.pyenv/versions/3.8.12/envs/lewagon/lib/python3.8/site-packages/ee/serializer.py\u001b[0m in \u001b[0;36m_encode_cloud_object\u001b[0;34m(self, obj)\u001b[0m\n\u001b[1;32m    219\u001b[0m     \u001b[0;32melif\u001b[0m \u001b[0misinstance\u001b[0m\u001b[0;34m(\u001b[0m\u001b[0mobj\u001b[0m\u001b[0;34m,\u001b[0m \u001b[0mencodable\u001b[0m\u001b[0;34m.\u001b[0m\u001b[0mEncodable\u001b[0m\u001b[0;34m)\u001b[0m\u001b[0;34m:\u001b[0m\u001b[0;34m\u001b[0m\u001b[0;34m\u001b[0m\u001b[0m\n\u001b[1;32m    220\u001b[0m       \u001b[0;31m# Some objects know how to encode themselves.\u001b[0m\u001b[0;34m\u001b[0m\u001b[0;34m\u001b[0m\u001b[0;34m\u001b[0m\u001b[0m\n\u001b[0;32m--> 221\u001b[0;31m       \u001b[0mresult\u001b[0m \u001b[0;34m=\u001b[0m \u001b[0mobj\u001b[0m\u001b[0;34m.\u001b[0m\u001b[0mencode_cloud_value\u001b[0m\u001b[0;34m(\u001b[0m\u001b[0mself\u001b[0m\u001b[0;34m.\u001b[0m\u001b[0m_encode_cloud_object\u001b[0m\u001b[0;34m)\u001b[0m\u001b[0;34m\u001b[0m\u001b[0;34m\u001b[0m\u001b[0m\n\u001b[0m\u001b[1;32m    222\u001b[0m     \u001b[0;32melif\u001b[0m \u001b[0misinstance\u001b[0m\u001b[0;34m(\u001b[0m\u001b[0mobj\u001b[0m\u001b[0;34m,\u001b[0m \u001b[0;34m(\u001b[0m\u001b[0mlist\u001b[0m\u001b[0;34m,\u001b[0m \u001b[0mtuple\u001b[0m\u001b[0;34m)\u001b[0m\u001b[0;34m)\u001b[0m\u001b[0;34m:\u001b[0m\u001b[0;34m\u001b[0m\u001b[0;34m\u001b[0m\u001b[0m\n\u001b[1;32m    223\u001b[0m       \u001b[0;31m# Lists are encoded recursively.\u001b[0m\u001b[0;34m\u001b[0m\u001b[0;34m\u001b[0m\u001b[0;34m\u001b[0m\u001b[0m\n",
      "\u001b[0;32m~/.pyenv/versions/3.8.12/envs/lewagon/lib/python3.8/site-packages/ee/computedobject.py\u001b[0m in \u001b[0;36mencode_cloud_value\u001b[0;34m(self, encoder)\u001b[0m\n\u001b[1;32m    150\u001b[0m         \u001b[0mvalue\u001b[0m \u001b[0;34m=\u001b[0m \u001b[0mself\u001b[0m\u001b[0;34m.\u001b[0m\u001b[0margs\u001b[0m\u001b[0;34m[\u001b[0m\u001b[0mname\u001b[0m\u001b[0;34m]\u001b[0m\u001b[0;34m\u001b[0m\u001b[0;34m\u001b[0m\u001b[0m\n\u001b[1;32m    151\u001b[0m         \u001b[0;32mif\u001b[0m \u001b[0mvalue\u001b[0m \u001b[0;32mis\u001b[0m \u001b[0;32mnot\u001b[0m \u001b[0;32mNone\u001b[0m\u001b[0;34m:\u001b[0m\u001b[0;34m\u001b[0m\u001b[0;34m\u001b[0m\u001b[0m\n\u001b[0;32m--> 152\u001b[0;31m           \u001b[0mencoded_args\u001b[0m\u001b[0;34m[\u001b[0m\u001b[0mname\u001b[0m\u001b[0;34m]\u001b[0m \u001b[0;34m=\u001b[0m \u001b[0;34m{\u001b[0m\u001b[0;34m'valueReference'\u001b[0m\u001b[0;34m:\u001b[0m \u001b[0mencoder\u001b[0m\u001b[0;34m(\u001b[0m\u001b[0mvalue\u001b[0m\u001b[0;34m)\u001b[0m\u001b[0;34m}\u001b[0m\u001b[0;34m\u001b[0m\u001b[0;34m\u001b[0m\u001b[0m\n\u001b[0m\u001b[1;32m    153\u001b[0m       \u001b[0minvocation\u001b[0m\u001b[0;34m[\u001b[0m\u001b[0;34m'arguments'\u001b[0m\u001b[0;34m]\u001b[0m \u001b[0;34m=\u001b[0m \u001b[0mencoded_args\u001b[0m\u001b[0;34m\u001b[0m\u001b[0;34m\u001b[0m\u001b[0m\n\u001b[1;32m    154\u001b[0m       \u001b[0;32mreturn\u001b[0m \u001b[0;34m{\u001b[0m\u001b[0;34m'functionInvocationValue'\u001b[0m\u001b[0;34m:\u001b[0m \u001b[0minvocation\u001b[0m\u001b[0;34m}\u001b[0m\u001b[0;34m\u001b[0m\u001b[0;34m\u001b[0m\u001b[0m\n",
      "\u001b[0;32m~/.pyenv/versions/3.8.12/envs/lewagon/lib/python3.8/site-packages/ee/serializer.py\u001b[0m in \u001b[0;36m_encode_cloud_object\u001b[0;34m(self, obj)\u001b[0m\n\u001b[1;32m    219\u001b[0m     \u001b[0;32melif\u001b[0m \u001b[0misinstance\u001b[0m\u001b[0;34m(\u001b[0m\u001b[0mobj\u001b[0m\u001b[0;34m,\u001b[0m \u001b[0mencodable\u001b[0m\u001b[0;34m.\u001b[0m\u001b[0mEncodable\u001b[0m\u001b[0;34m)\u001b[0m\u001b[0;34m:\u001b[0m\u001b[0;34m\u001b[0m\u001b[0;34m\u001b[0m\u001b[0m\n\u001b[1;32m    220\u001b[0m       \u001b[0;31m# Some objects know how to encode themselves.\u001b[0m\u001b[0;34m\u001b[0m\u001b[0;34m\u001b[0m\u001b[0;34m\u001b[0m\u001b[0m\n\u001b[0;32m--> 221\u001b[0;31m       \u001b[0mresult\u001b[0m \u001b[0;34m=\u001b[0m \u001b[0mobj\u001b[0m\u001b[0;34m.\u001b[0m\u001b[0mencode_cloud_value\u001b[0m\u001b[0;34m(\u001b[0m\u001b[0mself\u001b[0m\u001b[0;34m.\u001b[0m\u001b[0m_encode_cloud_object\u001b[0m\u001b[0;34m)\u001b[0m\u001b[0;34m\u001b[0m\u001b[0;34m\u001b[0m\u001b[0m\n\u001b[0m\u001b[1;32m    222\u001b[0m     \u001b[0;32melif\u001b[0m \u001b[0misinstance\u001b[0m\u001b[0;34m(\u001b[0m\u001b[0mobj\u001b[0m\u001b[0;34m,\u001b[0m \u001b[0;34m(\u001b[0m\u001b[0mlist\u001b[0m\u001b[0;34m,\u001b[0m \u001b[0mtuple\u001b[0m\u001b[0;34m)\u001b[0m\u001b[0;34m)\u001b[0m\u001b[0;34m:\u001b[0m\u001b[0;34m\u001b[0m\u001b[0;34m\u001b[0m\u001b[0m\n\u001b[1;32m    223\u001b[0m       \u001b[0;31m# Lists are encoded recursively.\u001b[0m\u001b[0;34m\u001b[0m\u001b[0;34m\u001b[0m\u001b[0;34m\u001b[0m\u001b[0m\n",
      "\u001b[0;32m~/.pyenv/versions/3.8.12/envs/lewagon/lib/python3.8/site-packages/ee/computedobject.py\u001b[0m in \u001b[0;36mencode_cloud_value\u001b[0;34m(self, encoder)\u001b[0m\n\u001b[1;32m    150\u001b[0m         \u001b[0mvalue\u001b[0m \u001b[0;34m=\u001b[0m \u001b[0mself\u001b[0m\u001b[0;34m.\u001b[0m\u001b[0margs\u001b[0m\u001b[0;34m[\u001b[0m\u001b[0mname\u001b[0m\u001b[0;34m]\u001b[0m\u001b[0;34m\u001b[0m\u001b[0;34m\u001b[0m\u001b[0m\n\u001b[1;32m    151\u001b[0m         \u001b[0;32mif\u001b[0m \u001b[0mvalue\u001b[0m \u001b[0;32mis\u001b[0m \u001b[0;32mnot\u001b[0m \u001b[0;32mNone\u001b[0m\u001b[0;34m:\u001b[0m\u001b[0;34m\u001b[0m\u001b[0;34m\u001b[0m\u001b[0m\n\u001b[0;32m--> 152\u001b[0;31m           \u001b[0mencoded_args\u001b[0m\u001b[0;34m[\u001b[0m\u001b[0mname\u001b[0m\u001b[0;34m]\u001b[0m \u001b[0;34m=\u001b[0m \u001b[0;34m{\u001b[0m\u001b[0;34m'valueReference'\u001b[0m\u001b[0;34m:\u001b[0m \u001b[0mencoder\u001b[0m\u001b[0;34m(\u001b[0m\u001b[0mvalue\u001b[0m\u001b[0;34m)\u001b[0m\u001b[0;34m}\u001b[0m\u001b[0;34m\u001b[0m\u001b[0;34m\u001b[0m\u001b[0m\n\u001b[0m\u001b[1;32m    153\u001b[0m       \u001b[0minvocation\u001b[0m\u001b[0;34m[\u001b[0m\u001b[0;34m'arguments'\u001b[0m\u001b[0;34m]\u001b[0m \u001b[0;34m=\u001b[0m \u001b[0mencoded_args\u001b[0m\u001b[0;34m\u001b[0m\u001b[0;34m\u001b[0m\u001b[0m\n\u001b[1;32m    154\u001b[0m       \u001b[0;32mreturn\u001b[0m \u001b[0;34m{\u001b[0m\u001b[0;34m'functionInvocationValue'\u001b[0m\u001b[0;34m:\u001b[0m \u001b[0minvocation\u001b[0m\u001b[0;34m}\u001b[0m\u001b[0;34m\u001b[0m\u001b[0;34m\u001b[0m\u001b[0m\n",
      "\u001b[0;32m~/.pyenv/versions/3.8.12/envs/lewagon/lib/python3.8/site-packages/ee/serializer.py\u001b[0m in \u001b[0;36m_encode_cloud_object\u001b[0;34m(self, obj)\u001b[0m\n\u001b[1;32m    219\u001b[0m     \u001b[0;32melif\u001b[0m \u001b[0misinstance\u001b[0m\u001b[0;34m(\u001b[0m\u001b[0mobj\u001b[0m\u001b[0;34m,\u001b[0m \u001b[0mencodable\u001b[0m\u001b[0;34m.\u001b[0m\u001b[0mEncodable\u001b[0m\u001b[0;34m)\u001b[0m\u001b[0;34m:\u001b[0m\u001b[0;34m\u001b[0m\u001b[0;34m\u001b[0m\u001b[0m\n\u001b[1;32m    220\u001b[0m       \u001b[0;31m# Some objects know how to encode themselves.\u001b[0m\u001b[0;34m\u001b[0m\u001b[0;34m\u001b[0m\u001b[0;34m\u001b[0m\u001b[0m\n\u001b[0;32m--> 221\u001b[0;31m       \u001b[0mresult\u001b[0m \u001b[0;34m=\u001b[0m \u001b[0mobj\u001b[0m\u001b[0;34m.\u001b[0m\u001b[0mencode_cloud_value\u001b[0m\u001b[0;34m(\u001b[0m\u001b[0mself\u001b[0m\u001b[0;34m.\u001b[0m\u001b[0m_encode_cloud_object\u001b[0m\u001b[0;34m)\u001b[0m\u001b[0;34m\u001b[0m\u001b[0;34m\u001b[0m\u001b[0m\n\u001b[0m\u001b[1;32m    222\u001b[0m     \u001b[0;32melif\u001b[0m \u001b[0misinstance\u001b[0m\u001b[0;34m(\u001b[0m\u001b[0mobj\u001b[0m\u001b[0;34m,\u001b[0m \u001b[0;34m(\u001b[0m\u001b[0mlist\u001b[0m\u001b[0;34m,\u001b[0m \u001b[0mtuple\u001b[0m\u001b[0;34m)\u001b[0m\u001b[0;34m)\u001b[0m\u001b[0;34m:\u001b[0m\u001b[0;34m\u001b[0m\u001b[0;34m\u001b[0m\u001b[0m\n\u001b[1;32m    223\u001b[0m       \u001b[0;31m# Lists are encoded recursively.\u001b[0m\u001b[0;34m\u001b[0m\u001b[0;34m\u001b[0m\u001b[0;34m\u001b[0m\u001b[0m\n",
      "\u001b[0;32m~/.pyenv/versions/3.8.12/envs/lewagon/lib/python3.8/site-packages/ee/computedobject.py\u001b[0m in \u001b[0;36mencode_cloud_value\u001b[0;34m(self, encoder)\u001b[0m\n\u001b[1;32m    150\u001b[0m         \u001b[0mvalue\u001b[0m \u001b[0;34m=\u001b[0m \u001b[0mself\u001b[0m\u001b[0;34m.\u001b[0m\u001b[0margs\u001b[0m\u001b[0;34m[\u001b[0m\u001b[0mname\u001b[0m\u001b[0;34m]\u001b[0m\u001b[0;34m\u001b[0m\u001b[0;34m\u001b[0m\u001b[0m\n\u001b[1;32m    151\u001b[0m         \u001b[0;32mif\u001b[0m \u001b[0mvalue\u001b[0m \u001b[0;32mis\u001b[0m \u001b[0;32mnot\u001b[0m \u001b[0;32mNone\u001b[0m\u001b[0;34m:\u001b[0m\u001b[0;34m\u001b[0m\u001b[0;34m\u001b[0m\u001b[0m\n\u001b[0;32m--> 152\u001b[0;31m           \u001b[0mencoded_args\u001b[0m\u001b[0;34m[\u001b[0m\u001b[0mname\u001b[0m\u001b[0;34m]\u001b[0m \u001b[0;34m=\u001b[0m \u001b[0;34m{\u001b[0m\u001b[0;34m'valueReference'\u001b[0m\u001b[0;34m:\u001b[0m \u001b[0mencoder\u001b[0m\u001b[0;34m(\u001b[0m\u001b[0mvalue\u001b[0m\u001b[0;34m)\u001b[0m\u001b[0;34m}\u001b[0m\u001b[0;34m\u001b[0m\u001b[0;34m\u001b[0m\u001b[0m\n\u001b[0m\u001b[1;32m    153\u001b[0m       \u001b[0minvocation\u001b[0m\u001b[0;34m[\u001b[0m\u001b[0;34m'arguments'\u001b[0m\u001b[0;34m]\u001b[0m \u001b[0;34m=\u001b[0m \u001b[0mencoded_args\u001b[0m\u001b[0;34m\u001b[0m\u001b[0;34m\u001b[0m\u001b[0m\n\u001b[1;32m    154\u001b[0m       \u001b[0;32mreturn\u001b[0m \u001b[0;34m{\u001b[0m\u001b[0;34m'functionInvocationValue'\u001b[0m\u001b[0;34m:\u001b[0m \u001b[0minvocation\u001b[0m\u001b[0;34m}\u001b[0m\u001b[0;34m\u001b[0m\u001b[0;34m\u001b[0m\u001b[0m\n",
      "\u001b[0;32m~/.pyenv/versions/3.8.12/envs/lewagon/lib/python3.8/site-packages/ee/serializer.py\u001b[0m in \u001b[0;36m_encode_cloud_object\u001b[0;34m(self, obj)\u001b[0m\n\u001b[1;32m    219\u001b[0m     \u001b[0;32melif\u001b[0m \u001b[0misinstance\u001b[0m\u001b[0;34m(\u001b[0m\u001b[0mobj\u001b[0m\u001b[0;34m,\u001b[0m \u001b[0mencodable\u001b[0m\u001b[0;34m.\u001b[0m\u001b[0mEncodable\u001b[0m\u001b[0;34m)\u001b[0m\u001b[0;34m:\u001b[0m\u001b[0;34m\u001b[0m\u001b[0;34m\u001b[0m\u001b[0m\n\u001b[1;32m    220\u001b[0m       \u001b[0;31m# Some objects know how to encode themselves.\u001b[0m\u001b[0;34m\u001b[0m\u001b[0;34m\u001b[0m\u001b[0;34m\u001b[0m\u001b[0m\n\u001b[0;32m--> 221\u001b[0;31m       \u001b[0mresult\u001b[0m \u001b[0;34m=\u001b[0m \u001b[0mobj\u001b[0m\u001b[0;34m.\u001b[0m\u001b[0mencode_cloud_value\u001b[0m\u001b[0;34m(\u001b[0m\u001b[0mself\u001b[0m\u001b[0;34m.\u001b[0m\u001b[0m_encode_cloud_object\u001b[0m\u001b[0;34m)\u001b[0m\u001b[0;34m\u001b[0m\u001b[0;34m\u001b[0m\u001b[0m\n\u001b[0m\u001b[1;32m    222\u001b[0m     \u001b[0;32melif\u001b[0m \u001b[0misinstance\u001b[0m\u001b[0;34m(\u001b[0m\u001b[0mobj\u001b[0m\u001b[0;34m,\u001b[0m \u001b[0;34m(\u001b[0m\u001b[0mlist\u001b[0m\u001b[0;34m,\u001b[0m \u001b[0mtuple\u001b[0m\u001b[0;34m)\u001b[0m\u001b[0;34m)\u001b[0m\u001b[0;34m:\u001b[0m\u001b[0;34m\u001b[0m\u001b[0;34m\u001b[0m\u001b[0m\n\u001b[1;32m    223\u001b[0m       \u001b[0;31m# Lists are encoded recursively.\u001b[0m\u001b[0;34m\u001b[0m\u001b[0;34m\u001b[0m\u001b[0;34m\u001b[0m\u001b[0m\n",
      "\u001b[0;32m~/.pyenv/versions/3.8.12/envs/lewagon/lib/python3.8/site-packages/ee/geometry.py\u001b[0m in \u001b[0;36mencode_cloud_value\u001b[0;34m(self, encoder)\u001b[0m\n\u001b[1;32m    584\u001b[0m     \u001b[0;34m\"\"\"Returns a server-side invocation of the appropriate constructor.\"\"\"\u001b[0m\u001b[0;34m\u001b[0m\u001b[0;34m\u001b[0m\u001b[0m\n\u001b[1;32m    585\u001b[0m     \u001b[0;32mif\u001b[0m \u001b[0;32mnot\u001b[0m \u001b[0mgetattr\u001b[0m\u001b[0;34m(\u001b[0m\u001b[0mself\u001b[0m\u001b[0;34m,\u001b[0m \u001b[0;34m'_type'\u001b[0m\u001b[0;34m,\u001b[0m \u001b[0;32mNone\u001b[0m\u001b[0;34m)\u001b[0m\u001b[0;34m:\u001b[0m\u001b[0;34m\u001b[0m\u001b[0;34m\u001b[0m\u001b[0m\n\u001b[0;32m--> 586\u001b[0;31m       \u001b[0;32mreturn\u001b[0m \u001b[0msuper\u001b[0m\u001b[0;34m(\u001b[0m\u001b[0mGeometry\u001b[0m\u001b[0;34m,\u001b[0m \u001b[0mself\u001b[0m\u001b[0;34m)\u001b[0m\u001b[0;34m.\u001b[0m\u001b[0mencode_cloud_value\u001b[0m\u001b[0;34m(\u001b[0m\u001b[0mencoder\u001b[0m\u001b[0;34m)\u001b[0m\u001b[0;34m\u001b[0m\u001b[0;34m\u001b[0m\u001b[0m\n\u001b[0m\u001b[1;32m    587\u001b[0m \u001b[0;34m\u001b[0m\u001b[0m\n\u001b[1;32m    588\u001b[0m     \u001b[0;32mreturn\u001b[0m \u001b[0mself\u001b[0m\u001b[0;34m.\u001b[0m\u001b[0m_computed_equivalent\u001b[0m\u001b[0;34m.\u001b[0m\u001b[0mencode_cloud_value\u001b[0m\u001b[0;34m(\u001b[0m\u001b[0mencoder\u001b[0m\u001b[0;34m)\u001b[0m\u001b[0;34m\u001b[0m\u001b[0;34m\u001b[0m\u001b[0m\n",
      "\u001b[0;32m~/.pyenv/versions/3.8.12/envs/lewagon/lib/python3.8/site-packages/ee/computedobject.py\u001b[0m in \u001b[0;36mencode_cloud_value\u001b[0;34m(self, encoder)\u001b[0m\n\u001b[1;32m    150\u001b[0m         \u001b[0mvalue\u001b[0m \u001b[0;34m=\u001b[0m \u001b[0mself\u001b[0m\u001b[0;34m.\u001b[0m\u001b[0margs\u001b[0m\u001b[0;34m[\u001b[0m\u001b[0mname\u001b[0m\u001b[0;34m]\u001b[0m\u001b[0;34m\u001b[0m\u001b[0;34m\u001b[0m\u001b[0m\n\u001b[1;32m    151\u001b[0m         \u001b[0;32mif\u001b[0m \u001b[0mvalue\u001b[0m \u001b[0;32mis\u001b[0m \u001b[0;32mnot\u001b[0m \u001b[0;32mNone\u001b[0m\u001b[0;34m:\u001b[0m\u001b[0;34m\u001b[0m\u001b[0;34m\u001b[0m\u001b[0m\n\u001b[0;32m--> 152\u001b[0;31m           \u001b[0mencoded_args\u001b[0m\u001b[0;34m[\u001b[0m\u001b[0mname\u001b[0m\u001b[0;34m]\u001b[0m \u001b[0;34m=\u001b[0m \u001b[0;34m{\u001b[0m\u001b[0;34m'valueReference'\u001b[0m\u001b[0;34m:\u001b[0m \u001b[0mencoder\u001b[0m\u001b[0;34m(\u001b[0m\u001b[0mvalue\u001b[0m\u001b[0;34m)\u001b[0m\u001b[0;34m}\u001b[0m\u001b[0;34m\u001b[0m\u001b[0;34m\u001b[0m\u001b[0m\n\u001b[0m\u001b[1;32m    153\u001b[0m       \u001b[0minvocation\u001b[0m\u001b[0;34m[\u001b[0m\u001b[0;34m'arguments'\u001b[0m\u001b[0;34m]\u001b[0m \u001b[0;34m=\u001b[0m \u001b[0mencoded_args\u001b[0m\u001b[0;34m\u001b[0m\u001b[0;34m\u001b[0m\u001b[0m\n\u001b[1;32m    154\u001b[0m       \u001b[0;32mreturn\u001b[0m \u001b[0;34m{\u001b[0m\u001b[0;34m'functionInvocationValue'\u001b[0m\u001b[0;34m:\u001b[0m \u001b[0minvocation\u001b[0m\u001b[0;34m}\u001b[0m\u001b[0;34m\u001b[0m\u001b[0;34m\u001b[0m\u001b[0m\n",
      "\u001b[0;32m~/.pyenv/versions/3.8.12/envs/lewagon/lib/python3.8/site-packages/ee/serializer.py\u001b[0m in \u001b[0;36m_encode_cloud_object\u001b[0;34m(self, obj)\u001b[0m\n\u001b[1;32m    219\u001b[0m     \u001b[0;32melif\u001b[0m \u001b[0misinstance\u001b[0m\u001b[0;34m(\u001b[0m\u001b[0mobj\u001b[0m\u001b[0;34m,\u001b[0m \u001b[0mencodable\u001b[0m\u001b[0;34m.\u001b[0m\u001b[0mEncodable\u001b[0m\u001b[0;34m)\u001b[0m\u001b[0;34m:\u001b[0m\u001b[0;34m\u001b[0m\u001b[0;34m\u001b[0m\u001b[0m\n\u001b[1;32m    220\u001b[0m       \u001b[0;31m# Some objects know how to encode themselves.\u001b[0m\u001b[0;34m\u001b[0m\u001b[0;34m\u001b[0m\u001b[0;34m\u001b[0m\u001b[0m\n\u001b[0;32m--> 221\u001b[0;31m       \u001b[0mresult\u001b[0m \u001b[0;34m=\u001b[0m \u001b[0mobj\u001b[0m\u001b[0;34m.\u001b[0m\u001b[0mencode_cloud_value\u001b[0m\u001b[0;34m(\u001b[0m\u001b[0mself\u001b[0m\u001b[0;34m.\u001b[0m\u001b[0m_encode_cloud_object\u001b[0m\u001b[0;34m)\u001b[0m\u001b[0;34m\u001b[0m\u001b[0;34m\u001b[0m\u001b[0m\n\u001b[0m\u001b[1;32m    222\u001b[0m     \u001b[0;32melif\u001b[0m \u001b[0misinstance\u001b[0m\u001b[0;34m(\u001b[0m\u001b[0mobj\u001b[0m\u001b[0;34m,\u001b[0m \u001b[0;34m(\u001b[0m\u001b[0mlist\u001b[0m\u001b[0;34m,\u001b[0m \u001b[0mtuple\u001b[0m\u001b[0;34m)\u001b[0m\u001b[0;34m)\u001b[0m\u001b[0;34m:\u001b[0m\u001b[0;34m\u001b[0m\u001b[0;34m\u001b[0m\u001b[0m\n\u001b[1;32m    223\u001b[0m       \u001b[0;31m# Lists are encoded recursively.\u001b[0m\u001b[0;34m\u001b[0m\u001b[0;34m\u001b[0m\u001b[0;34m\u001b[0m\u001b[0m\n",
      "\u001b[0;32m~/.pyenv/versions/3.8.12/envs/lewagon/lib/python3.8/site-packages/ee/ee_list.py\u001b[0m in \u001b[0;36mencode_cloud_value\u001b[0;34m(self, opt_encoder)\u001b[0m\n\u001b[1;32m     67\u001b[0m   \u001b[0;32mdef\u001b[0m \u001b[0mencode_cloud_value\u001b[0m\u001b[0;34m(\u001b[0m\u001b[0mself\u001b[0m\u001b[0;34m,\u001b[0m \u001b[0mopt_encoder\u001b[0m\u001b[0;34m=\u001b[0m\u001b[0;32mNone\u001b[0m\u001b[0;34m)\u001b[0m\u001b[0;34m:\u001b[0m\u001b[0;34m\u001b[0m\u001b[0;34m\u001b[0m\u001b[0m\n\u001b[1;32m     68\u001b[0m     \u001b[0;32mif\u001b[0m \u001b[0misinstance\u001b[0m\u001b[0;34m(\u001b[0m\u001b[0mself\u001b[0m\u001b[0;34m.\u001b[0m\u001b[0m_list\u001b[0m\u001b[0;34m,\u001b[0m \u001b[0;34m(\u001b[0m\u001b[0mlist\u001b[0m\u001b[0;34m,\u001b[0m \u001b[0mtuple\u001b[0m\u001b[0;34m)\u001b[0m\u001b[0;34m)\u001b[0m\u001b[0;34m:\u001b[0m\u001b[0;34m\u001b[0m\u001b[0;34m\u001b[0m\u001b[0m\n\u001b[0;32m---> 69\u001b[0;31m       \u001b[0;32mreturn\u001b[0m \u001b[0;34m{\u001b[0m\u001b[0;34m'valueReference'\u001b[0m\u001b[0;34m:\u001b[0m \u001b[0mopt_encoder\u001b[0m\u001b[0;34m(\u001b[0m\u001b[0mself\u001b[0m\u001b[0;34m.\u001b[0m\u001b[0m_list\u001b[0m\u001b[0;34m)\u001b[0m\u001b[0;34m}\u001b[0m\u001b[0;34m\u001b[0m\u001b[0;34m\u001b[0m\u001b[0m\n\u001b[0m\u001b[1;32m     70\u001b[0m     \u001b[0;32melse\u001b[0m\u001b[0;34m:\u001b[0m\u001b[0;34m\u001b[0m\u001b[0;34m\u001b[0m\u001b[0m\n\u001b[1;32m     71\u001b[0m       \u001b[0;32mreturn\u001b[0m \u001b[0msuper\u001b[0m\u001b[0;34m(\u001b[0m\u001b[0mList\u001b[0m\u001b[0;34m,\u001b[0m \u001b[0mself\u001b[0m\u001b[0;34m)\u001b[0m\u001b[0;34m.\u001b[0m\u001b[0mencode_cloud_value\u001b[0m\u001b[0;34m(\u001b[0m\u001b[0mopt_encoder\u001b[0m\u001b[0;34m)\u001b[0m\u001b[0;34m\u001b[0m\u001b[0;34m\u001b[0m\u001b[0m\n",
      "\u001b[0;32m~/.pyenv/versions/3.8.12/envs/lewagon/lib/python3.8/site-packages/ee/serializer.py\u001b[0m in \u001b[0;36m_encode_cloud_object\u001b[0;34m(self, obj)\u001b[0m\n\u001b[1;32m    225\u001b[0m         result = {\n\u001b[1;32m    226\u001b[0m             'arrayValue': {\n\u001b[0;32m--> 227\u001b[0;31m                 'values': [{\n\u001b[0m\u001b[1;32m    228\u001b[0m                     \u001b[0;34m'valueReference'\u001b[0m\u001b[0;34m:\u001b[0m \u001b[0mself\u001b[0m\u001b[0;34m.\u001b[0m\u001b[0m_encode_cloud_object\u001b[0m\u001b[0;34m(\u001b[0m\u001b[0mi\u001b[0m\u001b[0;34m)\u001b[0m\u001b[0;34m\u001b[0m\u001b[0;34m\u001b[0m\u001b[0m\n\u001b[1;32m    229\u001b[0m                 } for i in obj]\n",
      "\u001b[0;32m~/.pyenv/versions/3.8.12/envs/lewagon/lib/python3.8/site-packages/ee/serializer.py\u001b[0m in \u001b[0;36m<listcomp>\u001b[0;34m(.0)\u001b[0m\n\u001b[1;32m    226\u001b[0m             'arrayValue': {\n\u001b[1;32m    227\u001b[0m                 'values': [{\n\u001b[0;32m--> 228\u001b[0;31m                     \u001b[0;34m'valueReference'\u001b[0m\u001b[0;34m:\u001b[0m \u001b[0mself\u001b[0m\u001b[0;34m.\u001b[0m\u001b[0m_encode_cloud_object\u001b[0m\u001b[0;34m(\u001b[0m\u001b[0mi\u001b[0m\u001b[0;34m)\u001b[0m\u001b[0;34m\u001b[0m\u001b[0;34m\u001b[0m\u001b[0m\n\u001b[0m\u001b[1;32m    229\u001b[0m                 } for i in obj]\n\u001b[1;32m    230\u001b[0m             }\n",
      "\u001b[0;32m~/.pyenv/versions/3.8.12/envs/lewagon/lib/python3.8/site-packages/ee/serializer.py\u001b[0m in \u001b[0;36m_encode_cloud_object\u001b[0;34m(self, obj)\u001b[0m\n\u001b[1;32m    263\u001b[0m         }\n\u001b[1;32m    264\u001b[0m     \u001b[0;32melse\u001b[0m\u001b[0;34m:\u001b[0m\u001b[0;34m\u001b[0m\u001b[0;34m\u001b[0m\u001b[0m\n\u001b[0;32m--> 265\u001b[0;31m       \u001b[0;32mraise\u001b[0m \u001b[0mee_exception\u001b[0m\u001b[0;34m.\u001b[0m\u001b[0mEEException\u001b[0m\u001b[0;34m(\u001b[0m\u001b[0;34m'Can\\'t encode object: %s'\u001b[0m \u001b[0;34m%\u001b[0m \u001b[0mobj\u001b[0m\u001b[0;34m)\u001b[0m\u001b[0;34m\u001b[0m\u001b[0;34m\u001b[0m\u001b[0m\n\u001b[0m\u001b[1;32m    266\u001b[0m \u001b[0;34m\u001b[0m\u001b[0m\n\u001b[1;32m    267\u001b[0m     \u001b[0;32mif\u001b[0m \u001b[0mself\u001b[0m\u001b[0;34m.\u001b[0m\u001b[0m_is_compound\u001b[0m\u001b[0;34m:\u001b[0m\u001b[0;34m\u001b[0m\u001b[0;34m\u001b[0m\u001b[0m\n",
      "\u001b[0;31mEEException\u001b[0m: Can't encode object: [[29.8064  4.3617]\n [29.7984  4.3683]\n [29.7953  4.3816]\n [29.7986  4.3952]\n [29.7954  4.4072]\n [29.7957  4.4144]\n [29.7985  4.424 ]\n [29.7956  4.4371]\n [29.7989  4.4458]\n [29.8004  4.4654]\n [29.8032  4.4688]\n [29.806   4.4828]\n [29.8058  4.4911]\n [29.7942  4.5039]\n [29.7931  4.5089]\n [29.7971  4.5177]\n [29.8084  4.5256]\n [29.8208  4.5373]\n [29.8248  4.549 ]\n [29.8244  4.5522]\n [29.8203  4.5587]\n [29.8116  4.5622]\n [29.814   4.5665]\n [29.8263  4.5724]\n [29.8754  4.6079]\n [29.9449  4.6461]\n [29.9957  4.6514]\n [30.0641  4.6499]\n [30.1427  4.6829]\n [30.1948  4.7069]\n [30.2281  4.7068]\n [30.2927  4.6853]\n [30.3975  4.6059]\n [30.4244  4.6113]\n [30.4697  4.6394]\n [30.5067  4.6672]\n [30.5174  4.702 ]\n [30.5205  4.7684]\n [30.5279  4.7881]\n [30.5385  4.8008]\n [30.5682  4.8162]\n [30.6598  4.6641]\n [30.6916  4.6451]\n [30.7813  4.6171]\n [30.8783  4.5304]\n [30.9454  4.4636]\n [31.013   4.4014]\n [31.0289  4.4027]\n [31.1285  4.4447]\n [31.1599  4.4345]\n [31.2358  4.3933]\n [31.3144  4.3383]\n [31.3007  4.3197]\n [31.2923  4.2967]\n [31.277   4.2713]\n [31.2599  4.1736]\n [31.2385  4.1224]\n [31.2395  4.0707]\n [31.234   4.0317]\n [31.2492  3.9921]\n [31.2835  3.797 ]\n [31.1651  3.7971]\n [31.1522  3.7804]\n [31.135   3.7716]\n [31.1335  3.768 ]\n [31.129   3.7685]\n [31.1268  3.7653]\n [31.1219  3.7633]\n [31.122   3.7604]\n [31.1196  3.7605]\n [31.1173  3.7564]\n [31.1137  3.7576]\n [31.1095  3.7559]\n [31.1074  3.7521]\n [31.1043  3.753 ]\n [31.1029  3.7491]\n [31.0996  3.7473]\n [31.1001  3.7448]\n [31.1046  3.7432]\n [31.1011  3.7421]\n [31.0999  3.7389]\n [31.0937  3.7424]\n [31.0926  3.7383]\n [31.0908  3.7375]\n [31.0881  3.7446]\n [31.084   3.7425]\n [31.0803  3.7457]\n [31.0754  3.7465]\n [31.0689  3.7456]\n [31.0652  3.7431]\n [31.0624  3.7385]\n [31.0604  3.7389]\n [31.0582  3.7362]\n [31.063   3.7326]\n [31.06    3.7281]\n [31.0611  3.7257]\n [31.06    3.7222]\n [31.0541  3.7196]\n [31.0524  3.7158]\n [31.0479  3.7157]\n [31.0298  3.6997]\n [31.0194  3.6961]\n [31.0161  3.7031]\n [31.009   3.7063]\n [31.0077  3.7092]\n [31.      3.7118]\n [30.9881  3.709 ]\n [30.9802  3.7044]\n [30.9715  3.6935]\n [30.9678  3.6848]\n [30.9667  3.6761]\n [30.9551  3.6716]\n [30.9547  3.6672]\n [30.9498  3.6621]\n [30.9488  3.6568]\n [30.9472  3.6564]\n [30.9459  3.653 ]\n [30.9488  3.6447]\n [30.9484  3.6361]\n [30.9395  3.6293]\n [30.9385  3.6221]\n [30.9305  3.6227]\n [30.926   3.6189]\n [30.9262  3.6147]\n [30.9204  3.6024]\n [30.9166  3.6024]\n [30.9088  3.5977]\n [30.9075  3.59  ]\n [30.9045  3.5882]\n [30.9027  3.5778]\n [30.8875  3.558 ]\n [30.8861  3.5504]\n [30.8811  3.5416]\n [30.8785  3.5289]\n [30.8743  3.522 ]\n [30.8729  3.5144]\n [30.8699  3.51  ]\n [30.8694  3.5052]\n [30.8615  3.4871]\n [30.8614  3.485 ]\n [30.863   3.4839]\n [30.8702  3.4827]\n [30.8677  3.4814]\n [30.862   3.481 ]\n [30.8536  3.4864]\n [30.8474  3.4975]\n [30.8461  3.5083]\n [30.85    3.5238]\n [30.8602  3.5467]\n [30.8621  3.554 ]\n [30.862   3.5631]\n [30.857   3.569 ]\n [30.8143  3.5799]\n [30.8072  3.5834]\n [30.7993  3.5904]\n [30.7909  3.6033]\n [30.786   3.621 ]\n [30.786   3.648 ]\n [30.784   3.657 ]\n [30.778   3.669 ]\n [30.7713  3.6747]\n [30.761   3.672 ]\n [30.755   3.666 ]\n [30.746   3.6378]\n [30.7346  3.6243]\n [30.719   3.6206]\n [30.6975  3.6275]\n [30.6869  3.634 ]\n [30.674   3.637 ]\n [30.667   3.636 ]\n [30.6226  3.6069]\n [30.5919  3.5943]\n [30.5733  3.5921]\n [30.563   3.594 ]\n [30.5586  3.596 ]\n [30.5569  3.5988]\n [30.5563  3.6064]\n [30.5675  3.6242]\n [30.5749  3.6412]\n [30.5768  3.6569]\n [30.5818  3.6673]\n [30.5849  3.6802]\n [30.5715  3.765 ]\n [30.5557  3.8274]\n [30.5261  3.8486]\n [30.4989  3.8413]\n [30.4716  3.8269]\n [30.453   3.8311]\n [30.4456  3.8384]\n [30.4303  3.871 ]\n [30.4155  3.8706]\n [30.4038  3.8662]\n [30.379   3.8952]\n [30.3519  3.9125]\n [30.3358  3.9192]\n [30.3209  3.9315]\n [30.2993  3.931 ]\n [30.2848  3.9501]\n [30.2736  3.9564]\n [30.264   3.9563]\n [30.2452  3.945 ]\n [30.2226  3.9374]\n [30.2091  3.9495]\n [30.2045  3.9555]\n [30.2015  3.9674]\n [30.1975  3.9714]\n [30.1909  4.0155]\n [30.1733  4.0304]\n [30.1739  4.0431]\n [30.171   4.0453]\n [30.1667  4.0457]\n [30.1586  4.055 ]\n [30.1574  4.0707]\n [30.1588  4.0801]\n [30.1577  4.0927]\n [30.1557  4.097 ]\n [30.1481  4.1035]\n [30.1315  4.111 ]\n [30.1085  4.1178]\n [30.0924  4.1278]\n [30.0572  4.1394]\n [30.0387  4.1571]\n [30.0299  4.1925]\n [30.0267  4.1968]\n [30.      4.2157]\n [29.9873  4.2266]\n [29.9754  4.2308]\n [29.9566  4.2321]\n [29.9479  4.2347]\n [29.9441  4.2416]\n [29.9503  4.2528]\n [29.9515  4.26  ]\n [29.9636  4.2774]\n [29.9611  4.2896]\n [29.9502  4.306 ]\n [29.9418  4.3148]\n [29.9023  4.3436]\n [29.8932  4.3462]\n [29.8856  4.344 ]\n [29.8768  4.339 ]\n [29.8599  4.3398]\n [29.8505  4.3373]\n [29.8397  4.3367]\n [29.8312  4.3427]\n [29.8228  4.3541]\n [29.8064  4.3617]]"
     ]
    }
   ],
   "source": [
    "out_dir = os.path.join(os.path.expanduser('../NDVI maps export'))\n",
    "geemap.ee_export_image_collection(collection, \n",
    "                                  out_dir, \n",
    "                                  scale=300, \n",
    "                                  region=region, \n",
    "                                  file_per_band=True)\n",
    "print(collection.aggregate_array('system:index').getInfo())"
   ]
  },
  {
   "cell_type": "code",
   "execution_count": 75,
   "metadata": {
    "hidden": true
   },
   "outputs": [
    {
     "ename": "NameError",
     "evalue": "name 'ImageCollection' is not defined",
     "output_type": "error",
     "traceback": [
      "\u001b[0;31m---------------------------------------------------------------------------\u001b[0m",
      "\u001b[0;31mNameError\u001b[0m                                 Traceback (most recent call last)",
      "\u001b[0;32m/tmp/ipykernel_16600/389910876.py\u001b[0m in \u001b[0;36m<module>\u001b[0;34m\u001b[0m\n\u001b[1;32m      1\u001b[0m \u001b[0;31m# convert colelction to image\u001b[0m\u001b[0;34m\u001b[0m\u001b[0;34m\u001b[0m\u001b[0;34m\u001b[0m\u001b[0m\n\u001b[0;32m----> 2\u001b[0;31m \u001b[0mimg\u001b[0m\u001b[0;34m=\u001b[0m \u001b[0mImageCollection\u001b[0m\u001b[0;34m.\u001b[0m\u001b[0mtoBands\u001b[0m\u001b[0;34m(\u001b[0m\u001b[0mcollection\u001b[0m\u001b[0;34m)\u001b[0m\u001b[0;34m\u001b[0m\u001b[0;34m\u001b[0m\u001b[0m\n\u001b[0m\u001b[1;32m      3\u001b[0m \u001b[0mprint\u001b[0m\u001b[0;34m(\u001b[0m\u001b[0;34m'Customized band order'\u001b[0m\u001b[0;34m,\u001b[0m \u001b[0mbandOrder\u001b[0m\u001b[0;34m)\u001b[0m\u001b[0;34m\u001b[0m\u001b[0;34m\u001b[0m\u001b[0m\n",
      "\u001b[0;31mNameError\u001b[0m: name 'ImageCollection' is not defined"
     ]
    }
   ],
   "source": [
    "# convert colelction to image \n",
    "img= ImageCollection.toBands(collection)\n",
    "print('Customized band order', bandOrder)"
   ]
  },
  {
   "cell_type": "code",
   "execution_count": 76,
   "metadata": {
    "hidden": true
   },
   "outputs": [
    {
     "ename": "AttributeError",
     "evalue": "'ImageCollection' object has no attribute 'clip'",
     "output_type": "error",
     "traceback": [
      "\u001b[0;31m---------------------------------------------------------------------------\u001b[0m",
      "\u001b[0;31mAttributeError\u001b[0m                            Traceback (most recent call last)",
      "\u001b[0;32m/tmp/ipykernel_16600/136907388.py\u001b[0m in \u001b[0;36m<module>\u001b[0;34m\u001b[0m\n\u001b[0;32m----> 1\u001b[0;31m \u001b[0mcollection\u001b[0m \u001b[0;34m=\u001b[0m \u001b[0mcollection\u001b[0m\u001b[0;34m.\u001b[0m\u001b[0mclip\u001b[0m\u001b[0;34m(\u001b[0m\u001b[0mregion\u001b[0m\u001b[0;34m)\u001b[0m\u001b[0;34m\u001b[0m\u001b[0;34m\u001b[0m\u001b[0m\n\u001b[0m",
      "\u001b[0;31mAttributeError\u001b[0m: 'ImageCollection' object has no attribute 'clip'"
     ]
    }
   ],
   "source": [
    "collection = collection.clip(region)"
   ]
  }
 ],
 "metadata": {
  "colab": {
   "provenance": []
  },
  "hide_input": false,
  "kernelspec": {
   "display_name": "Python 3 (ipykernel)",
   "language": "python",
   "name": "python3"
  },
  "language_info": {
   "codemirror_mode": {
    "name": "ipython",
    "version": 3
   },
   "file_extension": ".py",
   "mimetype": "text/x-python",
   "name": "python",
   "nbconvert_exporter": "python",
   "pygments_lexer": "ipython3",
   "version": "3.8.12"
  },
  "toc": {
   "base_numbering": 1,
   "nav_menu": {},
   "number_sections": true,
   "sideBar": true,
   "skip_h1_title": true,
   "title_cell": "Table of Contents",
   "title_sidebar": "Table of Contents",
   "toc_cell": false,
   "toc_position": {
    "height": "calc(100% - 180px)",
    "left": "10px",
    "top": "150px",
    "width": "251.825px"
   },
   "toc_section_display": true,
   "toc_window_display": false
  },
  "varInspector": {
   "cols": {
    "lenName": 16,
    "lenType": 16,
    "lenVar": 40
   },
   "kernels_config": {
    "python": {
     "delete_cmd_postfix": "",
     "delete_cmd_prefix": "del ",
     "library": "var_list.py",
     "varRefreshCmd": "print(var_dic_list())"
    },
    "r": {
     "delete_cmd_postfix": ") ",
     "delete_cmd_prefix": "rm(",
     "library": "var_list.r",
     "varRefreshCmd": "cat(var_dic_list()) "
    }
   },
   "types_to_exclude": [
    "module",
    "function",
    "builtin_function_or_method",
    "instance",
    "_Feature"
   ],
   "window_display": false
  },
  "widgets": {
   "application/vnd.jupyter.widget-state+json": {
    "267851dbfa394792ac6cde9ff6d7a48b": {
     "model_module": "@jupyter-widgets/output",
     "model_module_version": "1.0.0",
     "model_name": "OutputModel",
     "state": {
      "_dom_classes": [],
      "_model_module": "@jupyter-widgets/output",
      "_model_module_version": "1.0.0",
      "_model_name": "OutputModel",
      "_view_count": null,
      "_view_module": "@jupyter-widgets/output",
      "_view_module_version": "1.0.0",
      "_view_name": "OutputView",
      "layout": "IPY_MODEL_78738c65d4774fd48947c426c1071b16",
      "msg_id": "",
      "outputs": [
       {
        "data": {
         "image/jpeg": "/9j/4AAQSkZJRgABAQAAAQABAAD/2wCEAAUDBA0ODQ4NDQ0NDQ0ODw0NDQ0NDQ0NDQ0PDQ0NDQ0NDQ0NDRANDQ0ODQ0NDRUNDhERExMTDQ0WGBYSGBASExIBBQUFCAcIDwkJDxIVDxUVFRUVFRUVFRUVFRUVFRUVFRUVFRUVFRUVFRUVFRUVFRUVFRUVFRUVFRUVFRUVFRUVFf/AABEIAWgB4AMBIgACEQEDEQH/xAAdAAACAgIDAQAAAAAAAAAAAAAAAgEDBAgFBgcJ/8QAVxAAAQMBBQIJBwgFCgMFCQAAAQACEQMEBRIhMUFRExhUYXGBkZTUBggiobHR8AcUMlJyk8HhI0JisvEWJTM0NXOztNLTFRckQ4Kio+NEU1V0g4SSw8T/xAAaAQEAAwEBAQAAAAAAAAAAAAAAAQIDBAUG/8QANhEAAgIBAgMFBQcEAwEAAAAAAAECEQMEIRIxQQUTUWFxgZGhwdEVIjIzUrHhFCNy8CQ0QmL/2gAMAwEAAhEDEQA/ANMkIQgBCEIAQhCAEIQgBCEIAQhCAEIQgBCEIAQhCAEIQgBCEIAQhCAEIQgBCEIAQhCAEIQgBCEIAQhCAEIQgBCEIAQhCAEIQgBCEIAQhCAEIQgBCEIAQhCAEIQgBCEIAQhCAEIQgBCEIAQhCAEIQgBCEIAQhCAEIQgBCEIAQhCAEIQgBCEIAQhCAEIQgBCEIAQhCAEIQgBCEIAQhCAEIQgBCEIAQhCAEIQgBCEIAQhCAEIQgBCEIAQhCAEIQgBCEIAQhCAELZk+ZVfXKbr++tfglicTy9OXXP3q0eDQUa4oWx3E9vTl1z96tHg0cT29OXXP3q0eDQmma4oWxp8z69OX3P3q0eDUjzPb05dc/erR4NBTNcULY7ie3py+5+9WjwaOJ7enLrn71aPBoKZrihbHcT29OX3P3q0eDRxPb05dc/erR4NBTNcULY7ie3py65+9WjwaOJ7enLrn71aPBoKZrihbHcT29OX3P3q0eDRxPb05fc/erR4NBRrihbHcT29OX3P3q0eDRxPb05fc/erR4NBTNcULY7ie3py65+9WjwaOJ7enL7n71aPBoKZrihbHcT29OXXP3q0eDRxPb05dc/erR4NBTNcULY7ie3py65+9Wjwag+Z9enL7n71aPBoRRrkhbGjzPr05fc/erR4NTxPb05dc/erR4NCaNcULY7ie3py65+9WjwaOJ7enLrn71aPBoKZrihbGcUC8+X3P3q0eDRxQLz5fc3erR4NCDXNC2M4oF58vubvVo8GjigXny+5u9WjwaA1zQtjOKBefL7n71aPBo4oF58vufvVo8GgNc0LY0eZ9enL7n71aPBqeJ7enLrn71aPBoTRrihbHcT29OXXP3q0eDRxPb05fc/erR4NBTNcULY7ifXpy+5+9WjwaOJ7enLrn71aPBoKZrihbHcT29OXXP3q0eDRxPb05dc/erR4NLFM1xQtjuJ7enLrn71aPBo4nt6cuufvVo8GgpmuKFsdxPb05dc/erR4NHE9vTl1z96tHg0FM1xQtjuJ7enLrn71aPBo4nt6cuufvVo8GgpmuKFsdxPb05dc/erR4NHE9vTl9z96tHg0FM1xQtjeJ/efL7n71aPBo4n958vufvVo8GhBrkhbGcUC8+X3P3q0eDUjzPr05fc/erR4NAa5IWxx8z29OXXP3q0eDS8UC8+X3P3q0eDQPY1zQtjOKBefL7n71aPBo4oF58vufvVo8GgNc0LYzigXny+5+9WjwaOKBefL7n71aPBoDXNC2NHmf3py+5+9WjwazOJVfXKrr++tfgkBv+VoN5MeTlW1WhlmotYa1R1TCHkNb6DX1HS6DENadhlb8lab+b3/bVl+1av8ALV1lkVtI9LQS4YZJLovqZv8AyAvX6ll+/wD/AEV1ny/+Tm1WAU3WplICqXBhp1OEzYASDLWkZHn2raH5Q78vKlarGyy2WnVovqua9zrRwfCxZbS/g6g+bVOAY17GPFYOOJzWsgY5Xn3njOPA2EkQeErSJkf0bJE5TulVliSVmmm1+SeRRlVM1ufRbuHRA3LGq0Q2cMDeIGnRv51kxOiXgh0zlrKzSPRlTKaNVhGQEjIyII9ScU2829IxkEgbc+nfn1D4CtFEEDL19as0imJt7PmU12gHQARuHRuRQEg5D1ZxzQsl1EEaA+xPTb1KG9jThbfkKKIjQdiQ0hpA7FdKh4O9Vo1krRhvpAbB2LFpkcJEAZGctYIj1LlHNkbFjPABz6NN6vGVbM4suF2mgwt3A78vyVz6QENy7AkovECCrOEEnb1bVBKiJwQ0gdgUBonQdgTPd/BS54GsD8VK5EPZksaNw7E9WmACQ2Tu3lVVa5ywjETtkBo6Tt6ArqMxnBPNojVGkZJ7L3gKY3DsXE+UFiaQHwMhBEDOTr0rmSFjW6iXNLRr+YU458MkzLV4uPE1XT4nF+TNES44REawFznBN2gdipu+hhaBt29KasNswVOWanJsnSYniwxi/UllFo0AhJbSGtJgZCdFa0Ki86ZcxwGZwn1Z/gqx3aT8TXK2sba8GdJfSb9UdgUcA36rewK3CpheyfG0VCzt+q3sCrq2Zv1R2D8VkqAEHCir5u36rewJm0G/VHYFapCEpGXckB4yAByOQ92zVdlZRH1R2Lq1jacTY1kfmuzNdpBnXozPqXn6tfeTPc7Lk+BrzErx9UKipTH1R2K17Tv7Dz/lHUqaoJ27ZE7Nev8AJch6jlQ7GCdB2K9lIbh2LEbSOQk+vaSfXvWZTYY19Z3AdaMvjk6Icwbh2KwUhGg7Aq3s546+bTqyU1HHKN+fOISjVTdUVYACch2BO1g3DsUUgdu8jTQR/BNRJicp3RpnpPQquJMJFtKzgZwPUoqMGxo7Ez3HTnj1KqnUiZ2ZkdcRlmrIliVKTdw7FbZ6TY0HYqnudA0mY0jefWnZXgAxqY9sKash+JNpLWtLoGQyG87FwDrY7m7B7lyV8Wj0Y6Fwy9DSYkoW1ufN9qamXe8MXtXTzKDQb9UdgVrLEDo0btAmaueueyDJxGmk7966cuTgjZ5+m07zz4F/qK7H5PU8IxNBOpyy6Ml3j5L/ACCNutBs9E06MMdVe9zcg1pa3QQXHE5oiRtOxcA5y9S82Sk51trNaJPzZxAyE4bRZnEZ5ZgHVeU5ub3Z9NkxQwYm8aSaXM7APNpqH/2ygf8A6Dj/APsXDWrzSahcS220ADs+bOMf+YtmPJyyPaXl7cIIYAJadMcn0SR+sB1LrNW1XoCzBSc7C5rKnCGjhqjhKxNSmW1JaMApZubMOjCDiczeD4OR4ubNLMqn+x4RxRa3L6HdX/7qnijVuX0O6u/3V71StN6usjnOpU2WsPOFjS1zCBRmDLmgs4cloza4tDc/1ji3let6U3waQdTL+Da9jKReR85wMdgNYAufQ9Mlxa1pn0dhv30vE5+7ieHt80aty+h3V/8Auo4o1bl9Dur/APdXutit17lxFWjTYMQE0sFSJNTQPqM/RwKZc4kuBJgEGGt5KVr1LrO2uwNYMItD3NpF3o0n/RNOsQXPeGY3YBhc4hoIOJrvZDu4mo3lf8mVS6rayhUdTqhzG1GVGNLQWl5bm0yWuDmHKTlBnPLfYLXHzp2D55Zzt4Fv+LUWxwVJSt35L5m9VjS838gK01+QAk3zZsJAOK0wSJH9Xr7ARPatyitOfN7P89WX7Vq/y1dZT5o7dE/7WX0+pt5wdX69P7t3+6vBfPCDxSsWItP6StGFhb+ozWXule1X9YrW+pRdQtNOjSa6a9N9m4Z1ZuJpwsqcMzgThDm4sL/pAx6MHx3zxv6Kxf3lb9xqtPkYaL86P+9DWrDnulWVGQnBSViuY+i4UkYD3fpAP2Z9ZGSyhzfHxzKggYwdsa+uPar286vI58aab9WW02partqdxyVBKojZvaiaRVqrYMkzSpCZMqt/PEpy1BGSMlswmgyNPx92qymnZEnafjPRV12HM7Yy/FYlGq7FkQ4ZzqN8bSpSb3OdvhM1mmSh1AGPYdPjnUtdzKymUT2IST2YOyCsaUqWgddd4ndzcyg2WzHc5AaVReAyHMRlsWSHZKOhPOXCxZhUtMmNxVwcq6TdURM0WAqq21sLXE7irAuF8qKhho2GSeqI9q0xw4pJHLq8vd43Ly/g4JCAgr1z5MghAUqAhAApglhSgOduKzNw4zJdJAEZADb0n2dK5I0BGpAjm2T71xXk3aNWdY/H8FzFXReXqL7zc+n0HB3Ca9vr1KHsE/j1k/jqqq1H4+OhWscJWTVo9uxYnSo2YQZ7I+O1WcEPjr96BzpSZyVS6aLTQEn8epSW5iNBkrWMCZjclZF+HoVu+AsloySAJmN51BpHYrqVFTUduWRUpysZ1MqFyDCgVeKQIhV0qZV4GalWim/sOOvO75aMOo37ebmXB1qDhqCu2VHQitTBEHMLqwapwVM8rWdnxzS4oumcDc9gxekdNBzldgp04AA2Io0wAIGmiHvVMuZ5H5G+l0scEPPqyHr1TzYLXgttZwOYszs92K0WZpOeWhOq8lFWV6h5tt/ULLbi60PDGPo1KWIgluIvpvAdAMAhhE6TG9Zx5l9RbxyNq/J68DULwTiwhhBy/WL5HogD9Udq4at5fUm8HjY+HxJaWuFP9JVYTUJLQxg4F5LidcoJWTR8ubvjK00R0ZfgsT+UV0yTjssueKjjgbJqN0qE4c3iTDzmJOa6DwaYfy+Y+g2vQpVHh9VlFrXsqNJx0hWa8ClSrVHNNMtIwMcRMODcLoop/KMzCMVnrtqlzGGkTSltR5qRSc4vAx4aVV31RgILgSAcqz+V91sENr2ZoxF8NAaMZmXwG/SMn0tcykreVV1OJLqtlcSHNJLWklrjLmklsw45kaEoQY93fKZRc0F1GswltIx+jdDq1B1enTJDx6Tgx7QRLQQMTmzl265bxFam2o0OaCXDC+MTSxzmOBwuc3JzSMiRzrqlfyjuhzHU+Gswa8EOwww5hzdWgEGHOEjY47yr7p8rrso020qVpotpsENbiJga6nMyZKA8j86f+t0P7lv+LUWxgWrXnG+UVC0WuiaDxUa1jGFwmJxvcYnWA4ZraUI1v7C9/cXq/kBWhNyXzWstoFos7sFWm55Y7C1wGIOY6WuBBlriNNq32K0t+RK7qVa97PSrU2VabnWgup1Gh7HYaFZzcTXAgw4A57QFlkVtHpdnSUYZG1apfMz/APnfe/KWd3of6F13y18vLZbhTFqqioKRcWAU6bILgAScDQTkIzW0Vj8lbI8Vi25rEODqOp0g+nRYa2CoWOcf+nPBsgY2n0sQI0XkXnE3VZm2S7q9Cx07G60Bz3020WUqjcVKm/g6oa1suYTBBGRnRRKMq5l9PqcMsiUYU/E8RqOUKxtNM5qys9XhfU461ZOB2adCyaNYRvTVKc6xG5YFmZFRzW/RgE8xJ06wr1aOVtwl5Nme4qto51NQKFQ2YxcglDQhp1UgdjkPdAVQdmrEZKdlWN25VG0BuWpOwb+cj8VkVH9qGt3Ac0JGuplJNvZiMG3bvTwmAUwoTLcIBTwYkHaAQOvVSEFyXZqoqtxK8QZ0HxPUrAgBQCoHDvZjVrVBIiY6dYmNFbRfIBG3P4ySV6AJmSN4GhVrRGzTRW2VUV3b3Ia5dVvi043ncMh1betdlt1WGOO4H2LpxXZpI23I8XtfK0lD2shQ5SlXceEyUyRM1CEClChykkybrrBtRpOk59ByXZa7pzH8efoXT3NOwx+Xx6guw2O1S1pLgDMRmZIOwROhHauHVwbpnsdmZkk4N+ZlWcwQs8vzWA5jssxG/wCB/DnV9mpmZJka+zmC4z28fgLaBnoUvBFZtXaldnHaqPkaOG9jUmkBQW/kgPgdihntOUqyQLADG9IxSKmznQ1QWLFMKA1S5+Wags9+YiUlI2pKA2VYzZIcCrWr0rzc/I2y2601qdqpmoynRxtaKlSn6RqBsk0nteYE5TGei91pfIncpkCykkZEC12sx0/9RkrqDe5w5NXDFLhadmn9epCxcztW5h+Qu5uSO71bPEIHyF3NyQ96tniFPdsyfaGNvk/h9TTYBX0nkaLcI/IXc3JHd6tniFP/ACNubkju9WzxCd2yftDH4P4fU1KZe9QbSnN81N62yHyGXNyR3erZ4hH/ACMubkju9WzxCngZT+sw/pfw+ppVe/lBVa8gOOzbvWE7ylq/WK3YtHm+XG4y6xOJ/wDm7cPZaVUfN1uHkLu+W7xK645IpJM8fJG5NrlZpW3ykrfWKf8AlJV+sVukPN2uHkJ75bvEo4u9w8hPfLd4lW72PgU7tmmlyXlUfWbiMjEI5hlrnvntC+kIWjnyneSVnsV6WihZmllFjqHBsLnVCwPo0qjgHvLnkYnO+kSVvGFhKalJ0dksTx4oX1t/sBWmXyE2llO+LM+o9rGh1oBc9wa0TZ64EkkASSAOchbmlaD3XdNW0VxQoUzVq1HPDKYLQXYQ55zeQ0Q1rnSSNFjkdNHf2dBShkTdKlv7zcOy3k5grgXlYXY3ufZzVbjNEPqF7mVYtreGa1pwMDOBwgCcWi8f85S0M+aXbRFqZaqtIObUqh7XPqFtGmx1V4D3EF7hizJzOpXQz8jt7f8Aw933tl/31wflR5GWyxBhtVndQFTEGEupODi2CRNJ7ogEHOFWUm1yNdNpMUMikppvw2+pw0pHFS0pwFjdHsNWjBtLiBPMcilsjYn185V9sbMjLQrHa/IZc/Mr3scjVSHKV2fMpZSOpk/G5XU2KG0FFyKXDpnpPvUGlt9clXGmpeMlNk92Umod4PUoB368yc052dqG0urmQpwsXClaXT1k7MxBwiPX2K4MTtCMvDYwHW70wyRPRls1z1iclkl7t3q5znr0Zc6S1WVpMkZjdAOs6xOcRkRKspVNmQdAkKHXQzg58T4q8iyk/LPVLUfGZ+M0zvjekfSEEbDJ6CTPaoTN3ZFK0A5aa7tnWndUjM6b/wAOlUUaRGZMxMbPjRWSrPyK26FqvMSBnIAB5yBvSttBkxGZEdBwc+vpexXNZmPeemY/FWO+PUq2N+pg260eg4hp0OWkyDkDHMexdMqWnm258w9LXdpO3KV3+1MJBwnODEkjZlpzwYXSaoMmdZz6dq7tI7To8DtJ7xteJjOtOuR1j2+71q4BSULtSPJk0yITBQoBUkDIKAoJUhguSuG0Q7Dsd157PxHYuMVlCpBB3EHsVZx4otGmHJwTUjtzismmFiESMt8xv2qymHgDTZ2AD8/UvFo+xx1zMkhVNKQSIkyBz9s5ZqltN2/bnrsJy0SjSUldGRUapxxs7FiBri3XZnnzb435wsqzNOp6uhSOGx2mc1YwpDCA2dVBbkSam7NBzEJ8ISQoEiG01LWqSpaVJmz2nzRac2u1DSbMBI1H6UD1L3LyO8mKtCtVqPrPqCo4lrXPxNZIAw0xhGBmU4c9m6T4f5ov9ctWz/p2/wCK1bKUKzHZNqBx1gOaT6l0Y/wnga781+z9jKQq+D5z2/kjg+c9v5K5yFiFXwfOe38kcHznt/JAWIScHzn46kcHzn46kA6EnB85+OpHB85+OpAdY8vvLijYHWc2j0aVeqaJqbKRwOc1zx9SWwTsmdAV2im8EAggg5gjMEHQg7QuifLH8nbbzoNpGs+m6m41KbgGkY8DmDGCM2+lJALTlquzeSdyNs1no2dhIbSY1gGInQCc3SYnegNUvOD/ALatP2rN/l6C3EC0684Ifz1adfpWb/L0FuKFnDmz0NY/7eP0+gFad+b7/bNl+1af8tXW4hWm3yAk/wDGbNhAJxWmASQP6vXnMA+xJ80To3WLL6fU2mvu8alSo6y2Vxp1GhprWjAHCztcMTcDXgtq1nj6LYLWgOc7RrH+SeeOf0Vh/vK3+Gxe6cJV+pT+8d/tLwjzvnO4OxYg0fpK0YXF36jN7GwpyfhMNF+dH/ehrs4oa5Dm7kq5z6WVj1wNqx7HqWzk2OsbFYHKkOwuLthGfNH4ZolWxnJ7p+8zKiT1KC+duXMmcVFF002DUOKBuTYVDZZJ0IkcE6UhWRnJEIClqFJCRBSho/NTKre505CRlu5527oQqTa6mETBPMNqrsjnES4Qdg3BMS7aB7+bXcmdiUJ7UHByld9OQPSzPQFNMHaOpUvqOBI2fgerRSk2RRkdCgv0jPfzD27kWdwIB36qWgBQS+RYx0LqN9t/Sv5zPau2ELh/KhohmWeee3KMuhdOklU68TzO1IJ4r8GdeKAhykL0j5xkwgBSoUgEiZyVCGCJ+Oz3oClqMI7bYasgHZA9n8FlcPplu15zCpu4EtaZOjctmgWeF4knufa4FcUUluaGsHR0BWOclBVS7xq7RS1iS0AgCNJz5laXEFWAqeppHyMexPO+RAzz51fjAUsUVGSIUPmWaB1QbwOtVvqDf61BoCZ+PUkFMGciMwdevcOvXrUmMp06LRVGkpmlY9GiBnOURG7TrOgVzHgoSj2zzR2TarWNpswHbUAXtfkn5IV6NWtWqV3ValQOa2o52LgmCeCpMpimxmGmXOdijE4nOco8T80dxFqtZGosojp4QRkvZPJO/wC2VKld1WmGUmNeKVMkPqVDTBJrOcw4WsqHC1rIxCCTqAOjHyPn9d+c/Z+xm0rovBoIZWpM3B1SrXzw0xic6tTLiDhf6DODDS4OJfm01VrDehfhFZoaGvcHk0yzEYFJpDaLaj3NzJeQ1hy9CR6WXU8qnGoQzg+DFAVsX0y52GqXMY0VGucWcGJDGuOeeFclb7dXbQpuDafDF1BtRnpOa01ajKb4wkGKePFJ1DTpMi5yHFX3cdtqMYG2nA/ga1KqQ9zQTVLS17cDGgVGYABUDWloc+B6RSfMr0xuHDUsJNQsIwQwHBwbSDZsTiPTg6CQSakYDFs8sarAf0BqOn6FNtVzmYXPL2VIYf0nBsLmx6Jc5oMAte7l7+veow0RRax4qkj0sU5ljWQGjSX43EmWsY90OgoDkrnZUFNgrOa6qGgPc3RztpHot16AstdNHldVDpfRwM4EVwz6VV08NFNoxAmp+ib6LGv/AKRoMammz+WFoLmzZnBobhqS14irFf0BiDX4XOpMDCacEVWyWkgEDvCF1G9PKa0U3Fos4cQ6s30XGHYGMc10kAgEOJMB0QRO1XeTHlLVrVSx9A024XOD5EHC5jWnImBVDnPaMxDDDnyYA7QhdKtXljVGPBSbUDXVGtwF8vwFjS0DDILcTnkuAxNpuLQQQ48pcN+vqVcDmANwPdibi1ZUaxpzH0KrTwjDuBzccQaBq55wX9tWnps3+XoLcQLTvzgz/PVp6bN/l6C3ECzhzZ3av8vH6fQCtNfN6eDfVl+1av8ALV/YtyitNfkAZN82WDBxWnMAT/Vq+8EJN7oto1ePJ6fU9g+Wnydvytb7NUu+s9lnawfQqspCk4uioajXOiviZBAc1wGEiBqeM88b+isX95W/w2r2a2XhTY4MqWtjHmIY99BrjJgQ0gEycgvFPPBpkUrFLi79JW1DR/2bfqtCnJ+Ex0X50f8Aehru4qZSOcoBXNaPoHN2OBqpp09+aVxTByMlZN9zGrUmbo2SMtehUCpDgA4lpkekZg6iDrnmIKzSOb43Ki0sEZAbDEDYeyY0VlLxM8qXOK3LxUGvR69FYHqii5p0A2zlnzp2uVaN+NdB4SkoxISiLshSQiUKxFCFS1S4Ksg70KXTGepCQFWAqr5kRd2Kcvj1LHrvbkHYcQiRrHNvKy3uyWNaqpa0kATI2byAtMONzkorm9l7RPZWi8/koIXGPtT/ANnsP+pIbc+f1dNx/wBS9Fdk5/L3mL1MVzOS4DnPwfx3rrvlGDjiTkB65nbv9QC5MW1/7PYfeuFv+s4uBOHTcdh6Vvpuys3FvXvPO7Syp49vFGE1vP1daaVRwh5uw+9GM8y9BdmZfL3ngOReSiVRwh5vX70GoebsU/Zuby944kXOKhUcIeZHCHmT7NzeXvI4kXhM1Y3CHmV1lc4uaMtRsPvUPs3NXT3kxabSO70QQ3XZ7EjKhO1YVW1vj9XsPvV9gOJsnWSMhkvBz6DLhhxyqvXxPs8eWL+6jkCQqq7jhJidw2pgUrtIXF1Ohu1XUpokrIB3KsU0wdCExSHTSlDlgFh0zkznAjXWY3KUrDdGcVICkIVWlRRrcrr0pEdHq3qizUYMkAajLnWSQlccldOlRStz2zzQqkWu1k7LMD2VQV735P8AlxQr1atKmQ7gWzUqMJfTa7MmmXhobwjQJcwElstnVa7eabetGnbLTw1WnTD7OGt4R7WBxFRuIAuIBMGYGcLYS76t2U8WCvZhjx4h85ZDi/6bj6f0nbXa862hyPC1tvK/YcxZ/KSzOE8MxkairNFwyaZLKoa8CHsMkR6Td6k3lZWnFwlBrnGC4OYCfRD/AEnA/VIOe9u8T16rZrqc1zHV6Lg4BribYS5wGEAF/DYoAY0ROxRZrHdLXY21bMHY21J+dD6TC9zTBqxkajstCMIOTGxc5aZ2S0X/AGdrXv4amW0w0vwO4QtDzDCWsxO9I6ZZ7EtkvKzAS19FmLCSCW03emJZia7C4FwMgOAK65d1G7KeMC1USx/BxTdaqZYwUqjqoDPTkTVcXuknEdZzU2+z3TUc97q1nxPILy21BuIhoZmG1QPowI5gdc0FHZ6V+Wcta8VqWF/0SajRiyxZSRnhzjVX2W303mGVGPIAJDXtcQDocicjvXUXUrpzBr2cgtczC62SA11M0XANNaBNP0ctw2gFZV0Wu7KLi+nabM1xbhP/AFTSCJnQ1CJnbE67yhB21V2iztcIc1rhrDgCJ3wVxf8AKqx8rs339L/Wm/lPZOVWf7+l/qQI5YBBXEDynsnKrN9/S/1Kf5T2TlVn+/pf6kJpmp/nCf21aftWb/L0FuMFpZ8vd503XxaajKjH0y6gA9hDmktoUGkBwJBIcHDLb0LdMLOC3Z26uSePGutfQCtN/N6/tqzfatWf/wBtXW5BWm3yBUwb5swM5utOhLT/AFavtaQVE+aLaP8ALyen1PaflS+Rl1vvGlbham0hSbQbwRoGoXcDVfUnHwzYxYo+iYic9FwPnkH9FYv7yt/hsXovlV5dXdZLTSslorvZWq4cIx13NaHnCw1HBxbTDnZAuPOYGa8188GgG0rFGLOpW1e936jfrOKvPkYaP86P+9DXV6WFLkArnPZk7bZEqWOUOKhpKBS3LA5GEQlYVIKho2UiipS6jsP4HmRQM57FfhWIDgMGQNQfwO3LerLdGUnwu+hlNapSUagKZpUUaRknuiUB3UgpZUUS5si0HLLWRzbc/Uqm49vXpu6c+eVeGqXKRu+ZjhrubKYGW0iJ54nmTDF6xpH7PP0p2tAz3+pMFDZSLoCVh3ofQ62/vBZDlj3n9Drb+8F06J/8iH+S/czyO4swQlZT27U0jpSr66zgasZq4e+nenG4D3rlnada4y+KOYdv16R+S107XGcetTeP0ZxygoIULuPHJCCgIKMEIQhCAAXI3LT9KdwjtWA1uwarsFis+FsRntWOomlGvE7tDi48l9EZJCybsb6BE/rH8FjFZFhZLHbM3Ru7F4Paj/4/tXzPo8P4/eXHFOz846EAO35/x5ljUGmRrMiQRlpvAzWaHAHnmMvjRfNNUzqc9tip7XAzO7r9W9PTJynOfjcr2NGyOpK9qi2aJbbFDa2XxulWcNszE5fBVhTEJYtlRtA/hntA7c0ja4OWec9vxKvICQqOYbJe6FRUcToFYNdE8qdzPmYgoGIykdGeu8Tkh9MZD0QZOsCYOQ03HNZjUtSmD8df4JbKuuhj0qRnTdOnqy19SyKdL6wHYNw5t8qY6I7FUHiT6UZZRv3E7BzqyZlNNiuszPqg58+0z1Z5qHUxMNYDv2DRuc6bAMs5Csj0ScU5ZdI+ITWNhwgydJ9Xv7VK5Wc7g5So4a23Q6cWAH7Oca9Z13LGbdx+of8A8fyXa2qQumOsklVI5snZMZy4uJnXbNdZBEtjbMBc4GZfRHYFeElotDWj0iAscuWWV8jq0+lhpoun7yGUWjYEtZ7WiTAHRr0c64O8L6cTDPRG/afcuPfbXnMuJjSc4WmPSN8/5ObL2pBbR3/YurWguqidMYAG4YgvpmF8xLK6Xt+0394L6drozRSSSPJhJyk2wK02+QGqG3zZi4gAOtOZIA/q1calbklac+b6P56sv2rT/lq65J80eppF/byen1Ng/LH5PLrtlqp2yuQatPAIbWDWVBTJcwVWz6QaTsIkZGRkvOvPItjXUrDgc136WtOFwMSxgziV6r5XeXrLLaqVmc1pNTgIxVMFR/D1+AAs9PAeHdTPp1BibhYQc5hea+eQP0Vi/vK37jVafIw0r/uo1qc4icstn/h959SrdV5vy11y5lcaRGiYLmtHsteBTZ6h0Px6svjquQ5K1wKkhy8R4UgKJTAoX4kQAoLB0qxQ1qglswBk+I+kJB6NVlhYlWeFED0cJ9f8AsxoVpLZGWGTtrpYEKJTEKCFU6aAlQErn7lOikrKRJCkFYT7UYmMhzc8fWWW4o01zM1JPkNCw76ZLMt7f3gswFY96H0Otv7wXRon/wAiH+S/ctKnjfocRSpncRzTKsaxPzIA1X1ztnmPZin8kleiHCNhCuDtmX8FS+lrEA5iBMfrduoUR8TKT2aZ1+0U4JG4qorMviicWuuep5/iFx2A/BPb+S9JStJniSjTaLEBBQrGYICE9NkwBqUJRydyUdXRzD8VyzFVZqeFoHMrGledklxSs+j0uHu4V7yQ7f8AxWXds4T9o5LDWXdb/RP2jsXmdqfke1fM68H4/eZjUNb8fgq5KsYvmTuaGASqRvCEaLJkFDWqCpn1fkqkjFV1CmcVKsijKmuz2qGkzp1p3M0ThSmVa3FY1MQpYhxUIckVESsL5oRsB58vdKz2KK7wBJ0VoyaWxSbVWzDtZNOnkZP8fYsyyVgQACMgPUFwV420vy0b9X2rHovjMHMbV6EdLcN+Z4Eu01DK3FXHl/KO1hI2s2YxCd0ifauuVra86uPRoPUsdVWi8WaT7Yr8Efedivi2YG5anIfiepdXrVS4ySSedX260FwbJmJ/JYq2w4VjXmces1bzy25eAIQoJW5xoush9Jv2m+0L6eBfMGyCXtn6zcusL6fLl1HQ6MPUCtJvkhvyjZb1s9e0VBTpMdXDnkEhuOjVYCcIJjE5omMpW7JXz4N3VK1bg6TTUqOLw1gIbMS6Zc5rRAB1K453aPY0Ci4zUuVL5m3tr+Uu4qlSnVfabM+pRLjRqOpvc+kXjC7A7g5biGRjmXlHnP8AlzY7WyyNstdtZzH1nPwh4DQWsaJLmgZnYOdeaWf5P7eBnZ3ZnThaBj/zlgX95OV6GHh6Rp4pwkuY6cMEj9G90HTWFWUpcqNMenwqScZb+w4c1jqYiY1GSse5LUswg8/P8fACZrN/WJyWdnXXiO16YBV8H709NyhtEqJFRvxsSqmpaDJgaGPV0q2i6QDvAKmqIlTJx9Kh1SPyzKsAVPBemI2D25fgVCoiSfQljSZJy3Z6JwUrnQVACmiVPh9Ri9Q56JUJTIeVsZI9ydQ0KtF3bRx9X6Wmka6GeaY1WVSqE68/thPVog6hMtOJMzUKGCxL4HodbP3gsoFYt6n0D0t/eC20f/Yh/kv3Ncm0H6HHBp3+0bRPqlLgM5u+I/hkrQUzY1hfXWeYyng3b8/y2day6dPLM+/4Cpc3csZtYjImInf79qlJspOOxVe9CRIGns19q4dwXYWyQdDu5xC4y22Ej6OfZzbO1dWDJX3WeXqcDviicc5Qshtlcdh/DXeeZZVC6zt9XvWsskY82YwwTm6SMGjSJyGa5mwWINzOZ9nQrKVLCIAHv+OtWNJPR+YHvXLkzOWy5Hq6fRxx/elzLZQ4qrPcmk6fGvTu5lz0zuskuWXddUYTn+sfw96xi1Zd2U/ROQiXbOhcHajX9O/VfM0wN8fIyqbp6un1b08nL8/cpbTT4V8wegolakFS4JULbi1Hbj7k4KSM9TkExH8dyWQtxyEoChVOtI0g5fG5WW/IhsuhNhUUzInfmpJUWOEkNVdZOFXUds6PVmhnkbQrXjSd/VEa7tVxV72iThByHPtO/sK5EUwIET6/w680lS62u2kdkbfet8MoxlbPN1ccmaHBD2nXyIQ4bln26xlpgZrCII1C9aE1JWj5vJjnjdSVMrxLIZZ5Y586ECOxIWAzKpc0gc3P8ZpK3yLY3FbtXsI8qsqSCowoVFk9CZoQoDx/GRu39IUFkX2P6bftN9oX08XzEsh9Jun0m7ecL6dhc+o6G2HqBWjvya/2jR+1X/waq3iK0d+Tef8AiNGPrV+b/saq4p80etpPy8np9T1C+71qtqvY14bDmtayG4nMNNhLqYLS59Q1HOY0g4WlskOjC7rny8fQs32qv7rF6K+0QQ0lgLvogvgujWBEnqXm/wAvJOCzSB9OroZ/VbzBWnyMNK6yo8scoCCUoC50j2J7q0BcppJWjb2Iqg6abZHUlBOuYVaYJzGfTCZxAzVLrJOrien8oR8zG879/wCPT2o/U04X4FrahOzoSMEc53n8Eos3Oefty93QpZRA+OnTtVWkIxfVjhqglWYVW5qlMpkx+BCamEgBVkqXIrjhvuSllQ4qVWzaViuQktLiIga5fGRVVlqGTO4euctApitrKOuJGVKxb1+h1t/eCyWOWJeZ9Hrb+8F1aJ/34f5L9y2b8D9DDClIXfGxFNy+sdnmbFoBQ9umWiCVjtrnLnj19ShRZq0i9yVwT4EoKkpwEMYphMEKKNK4UKAgqSUj1KRSTHamcFW1WFRJmkCVn3V9E/acuOCzbsPon7TvjVef2p/1/avmb4HUzMaU6pfMZROydOvpUtMgesSvmd0dsX0B5zUwoCCELExmhsoAUlEQ2S5UOs0mZIG0b/cr4UBSmyrj1GDQFBahoUEqGl4Ep2I8ZKGN36p4SVtDGsZIik4dR2t1O340T0XLj7PWJIznPMdXwFnh3sUuHCZRS5oZxC4+8rIHZjIjfp/FWWlhmYJGWh0/IqW0MoPP6ytIT4GnZTUYFmi4tHFsoANIcRJjMZxB/FYVsbuJcBps2SRGehK7DSsjRsnZnnKitY2EREc4yXQtWk97o8qfZU3BVwp+06qRzKMK5l10GdRh37ezRZdO7Gbp6TPbsW8tZjXK2cuPsvPLmkvU4GjY3OyDSfUO0qa91vGocdxEGMxuHMO1dnrMMGBnsWG3WJdO6O3Ysf6qUnskdq7MglTbvyOHsl1uxM9Ej0mZmABBjU5Dn6l9NQvntYB9EHe329i+hIVO9eTmjnzaZYa57+IFaO/Jr/aNH7Vf/BqreIrQS7ryfQritTw42OeW4gXNOIOaQQHA6OOhCpN7o6NGnKM0vD6nsvlPclWpaGPawFoDJOJo+i6TILgTlGwrr/y9/Rs326v7rV18fKlbd1m+6qf764Pys8qq9qwCtwYFPEWimxzM3AAk4nvnTmUSmmhh004TUnyOFL1LlDyoxLI9BySJPxuVNN3pGeYfHXKtlVPpyZ0O8bd0qVzIk+qL5QSqqLpE9vSMk8qKo2U00S0KFLQgFUfQ0VElAUKFIZMJg3JIrFJTi3sxrTlt+CmawfEprQREHbl25KKQyjtU9Cr3l7CH0gdQCD61FKiG5AQExCZoRMhNXyK3s3fHtVF5tGHrb+8FmLjb/nDlkJGf/eaurQ76iH+S/crkmlF+hjuAS0DtSWYkzOk5K9oX1lHDxJsmVDaY1jNS5QSo6luIklU2ipAy3/j1pnpYUrmRKfgVUKxJjp9qvJSNYBoITwp26EcbYpClAahR0I6jhDDlITBAUM6EgWZdI9E/acsQLNur6J+072rzu1P+v7V8zfAvvmRE83Vp75UwmcgNXzJ3cNFbeaD0KXH4+OZJ830ExHxlnl7lBpAA7tcugA9setCG6RZTVhasZtHKQTtiR07ebLfonNm5/wA9Nc+ZCilasuKQq0BQQpKSbFphNhTNAUwpJTSEIS4VYQlchZ77lbB600IYmCrexAEJSFLlCmyWyCFBCclLKiiq2IIQFBKCVKRLYOamASvKYOR7ERRNLJzftN9oX0KC+elFkkDe4D1hfQsLTAeZ2p/59vyAr562o+k7pd7SvoUV887R9J32j7SrZEZ6B/i9nzEDkOKUhQqUdrlQ7D1IOaWEEqCJboZ4UOKhqrrSTh2CCefd1ZIuZV7ImzDLm16jKtKhoUTmoe5ZfdRbiUOKgBCq4mymxajimCRwWBTaZ2yInIRkc843K6Vohs5RSTCobWg5/Gg/EIr1wM5HNntUFXsrAOlx5gBPTn7laFRZQN8kySVeQpZVJ1bRhNtTs+vZu61nKoUWzMZ/GzRWEpt0KpyQAqu00Q4RMaeoypJzUqYScZKUeadr1HHapmJ/w/8AbPYFPzD9s9gWVKiV2/aOo/V8F9DPgguhiOsP7R7AobYf2j2BZUpoVftHUfq+C+hZQgzBqWAx9I9gQy7z9Y9gWaSpJU/aWo/V8F9CXigYXzH9s9gUmw/tnsCy3KCUXaOov8XwX0DhGuRiCw/tHsCkXf8AtnsCyZVrAp+0dR+r4L6EwxRb5GELB+0ewI/4d+2ewLOCZV+0tR+r4L6HStPHw+LMAWD9o9gWXZKGERM5kp0zSss2sy5Y8M3t6L5I1x44xdolMUpclaZXIjdkvQ1uqR07lY1CjjZDQnLUFAcoDVbACoUkKGhWso4omFIS1Dt60jq3NKkcKJqvgE7lS20DIRE9O6dytDgZ3aFVUqAG2d3NlHsyRJdRbWyLmhMAhqHqEVYpUqCUSpAEJGt3lOHIcURViOCAlcduxEyotBMkqWsUMMJ2vUeppsh6I9JvS32hfQgL580D6TftN9oX0GC3w9Tye0+cfb8gK+elrHpO6T7SvoWV887T9J32j7VbIY6F/i9nzKUAoLVGFZndQ7VJKppjZ1pKzjlBiTBdrA2dZ0lOpF0i9xHQqqBkk6zkOgJuBG6ec5k9ZzTBCN29x3JQ2VJUAhQXlzJejElKhTQsCVMpSiVI4mMaUwdvv/gqKtEZNidJz3bepXYzGQKZjN6o75k7S2BtMa/w2+8pnFK85HrhVNc7d8T6st6hEui5xVVpcQMuaeYbexPLt3x+CrqVHDIjb+PwVKKSSKrI8k6yM511np3LKBVTXndHxmrFd0YjBKQmUKpZ7iApgVEQhpUpbFU6YJlMKCoZrHzJISFSUhI1nnQMZoVrNJPP7UlM9CdrhvHaqyZ06eLJhSWp4VZJ3fElVs6+EbApwpGvO74+PYnDju+OxC0Ykgqi1CMxrOZ6d+W9ZCUjYc+lExLmUWaqSc90+voWSEjKYGQEJwVLroLvmMlKCVKFWBKGKViNvBk4fSmY026KVFvkYzyRh+JmW8Kqo0naR0K6VDlFhxTEAUA5qZQ1SWSGaUrypaghQiHGysITEFQpK8lVBCqrPiCrise00p0yIzH5oqshoinWB2pqeWSps1mjWCYHYE76Z2JSXIb+Be1SqqToTueoNEtjIs30m9LfaF9BgvnxZ/pN6W+0L6DhbYep5Pan/n2/ICvnnavpO+072lfQwr56WlvpO+0farZDHQr8Xs+ZUQohAQQs6O6xSfUqqzpEDaRltIkT6k71Nm9/qy/NDN+HiOUOUgKJQtyFJQFJKHJQfiVzmmQwJnIIxYpVFTM5Tlr+fPzK6PWnZlzD49alMpLfYlrshHrTSqwUxChlotgSlhDXc4TA9CqtkGuLcklRUfOqgHcQocPiESZL5USEOKQhSFYycvAdQUxCUFR5E9SYQAgBTCmyeEl6FLtFACqbV94lzVSaI58lcEpahZpLcVtAHOPzJ3dm1PwQj+CGJg7Yqs6cOyHUAJQ/49qgVBlmM+dRTNOJFjWqSFAcguUPc1xquQIIQCgqK2NHuCcBKEyvZnwkKSgocospQ0qGhAKlTZDSYSoKjEohQyEJXpAiDmFBOxOUpClsngV2Mwp4VYClrlFhskqsnM/GqYuVFoJ5+rWdilFJstcoVZn9325qXNPPEnTXmRBIZxUFylugnX8lDjvQkphWsPaphI12cJRV7GVZnek37TfaF9CAvnrZPpN+032r6FBbYup5Xaj/AA+35AVpD8k1wUbXedGzVw51Go6vja17mE4KNWo30mEOHpNByIW7xWm3m9j+erL9q1f5aurz5o5dM6hP0+p6pdfyY3FWdWbQslsq/N69SzVS2vaWgVaYaXBpqWhmNvpAY2yJDhORXQPl68h7DY6Fir2KnUpi0F5dwlWrUJbwbXtyqvdhInZ7l6lc9z33Y69u+a2W7q1G1Wyva2vrWytSqRV4MNa5jLK4AhrD+s7ZnAXT/Ogsz2WG6mVGtbUYHNqNY4vY14oUw5rHua0vaHSA4taSIMDRJJUV0+STyJNs8AIVdlGXx1qx5VNmcZIjeerXL2LJHpS5oyISOCAZ+PjnTuUJlpRsgBEKCFJCNlooUhVPrwYEk8ytJS8COnnUx8zObb2iNSp6k6+xQRPaD2GVACshS2RGImAwR0+tDmz2Edv8E8pcSqXk0VMo657o6kzGe0ntTgIJQzbFpU427ur43IqHdn1wpaVAU+pVy22ICTgtvXpn2qwJmpdlVGt2IKUzJO0/GaR9A79+/wB6u4QDaO1TM7VXqaPlbKWMIOvxlqrH1MpjTPpUkpmZqaEGr2MdloPacsubpWQ0padmAzGvX6udWTmol5HTG+pIKCQpclJVdy1JjNCktUhqJUcXidPDRQaM9pPbojg9BI0A7DO9XEJSNvxs9ylEdQfRnLnJ/JK+nMZ7AJ7Z7VBpAQNfg+9O2lHxzQoNVkXEAZnMpyoBUhVs0d35EqWOlQEQVLZVRSYyClCAiJdEhNKUBMhmlYrihqFXUfCmiFKmM4IBSCqSNPzy6FVw5mIzPulKYlJIyJQXAZnJVY3axv501cT1EEdRnNR5sPwGLsp2b0rhM849yq4CTru2erXTbG9UvsoH0jMCBlsyz1PwVZUcuadMyabszzR7FYSsP5p+0OzMbhroNyenQgzO+ct5neexHRfHLYuJSkJoCVRZot2MlcO1MENUh+BFkJDmk7x7QvoeF87qjjLSPrtnolfRELfFyPH7UVOPt+QFaEXddVpe41KDakte4B9NxY5pzBhwcHAwSMth51vutOfISnis9ZkOOKqdGuIyIMHCQc4jXt0Vpczk08uFP2fM4I2G9fr27vVb/eWJbLjvCpHCttFXDMcLVdUwzrhx1DhmBMbgvRGWNwaQHVQcTXYhScJwlx9IT+sHBhIiGtbEQIyrtxMJxGs+QMnMeYIGZEkxJkwN/Mq0dHfeSPH7xuatSANWm5gJIBMZ79Cd64zR0ndken4C9X+Ua76loZTbSpvJa5xMtLYkCNehdFr+RVrIypO7Qq8NGqyqUb2s4dQVm3rcNaiAajSwEwJI1GzVYTSqctjaMlPdCZpjKlQ4qbRZbFTZVoUNUT0pZEEkrCFRWcRvIgnTcCd2nWOtVW4ZyJIyGQmDPNnoVbZAYz5+zZ1wr1tZnKSsY1HbtsaHnz6NFBe6YgDTpiW5+s9ELIaqwc4zjOZ6cvxVDSyrG7dEdO4/GSanJGepnZv5irQglSZSq7KTR259H5IcwagnXbsM9PNCtPMoLk3K8SSEaIyV1MZKpoV7ApZGNW7ZiWykZkSdBAO6fVBVlnYQ0A65+9XPUkKONvYu4KyuFa1KGpw1LLwg0KpKYtSuCqbU1sLBO1PRakBTMOeuUZfioNoL7xcoKQJmgqtHQ2YjaroEjdsM6Nk656nLmUU6rpbIJ0nI7m9mpPUVllWNHvU2jKdmCaz8stu47m8+USewpm1XZGNYzAdp6Ok6RJzOsLIgAzOv47ztjZuzRjHN2o34FcScndGNQqOyBGvMdw/FZUpcY3hGMbx2qu52LwEtNQgT7ssios1UmZziM/wV5I5vUoBaMhA6IU3t5kuLXIJSlykvG8dqKZG8KpRpy5FgKMSVzxvCgVBvHx1okw3XIoNq0MA/A9hKgWnUxkYIz3zv3xkOdW1HjeFXSMDUc2av0OSTalSHY4nXKE7aaUvHwU4cN47VV0axVrcbCoLUF43jtUF43hKRaUgOqh7RlI7digOG8dql7xvCk55xTJLVCC8bwqzVG8dqlpImK2JNMaoe1LwoO0JzVG8dqGsaRSah3BKKhjQJg9u8doUPIH8VJFsusTjibkNW+0L6HBfO+z1fTbpEt284X0QC2xHkdpvePt+QFaTeS3lDZmUa1KrUDXOqExD8wCMiaeYmI9+i6yfPVvrk11/c2vxqp45d78junu9p8YrtWcGLIoppo78zyrswY4fO4Jj0wyoDljM6a+k0QMoptHRm3f5d2NrXYrRilxIJZUkNyAGbZMRqvNOOXe/I7p7vafGI45d78junu9p8Yo4S/fR8H7/4PVKfyh2E6V5/7j/9KZ3l7Yv/AH3/AIH/AOleU8cu9+R3T3e0+MRxy735HdPd7T4xHElZ4+Hx/g7L8pvlLQrsp8DUxFriXDCW5EftALpLLUw6OB3iVyPHLvfkd093tPjEccu9+R3T3e0+MRwsmOp4eS+JhNqt3jtCDUbvHaFm8cu9+R3T3e0+MRxy735HdPd7T4xV7s1eu/8An4/wceysN47QpdWbvHaFn8cu9+R3T3e0+MRxy735HdPd7T4xS8ZVayly+Jx2Nv1h2hS6o0frDtC5Djl3vyO6e72nxiOOXe/I7p7vafGJwEf1ar8PxOO4du8doUcO3PMdoXJccu9+R3T3e0+MRxy735HdPd7T4xO7I/q/I4xlYfWGfOFJqt+sO0LkuOXe/I7p7vafGI45d78junu9p8Yp4CP6rxXxON4du8doUPqDeO0Lk+OXe/I7p7vafGI45d78junu9p8YnAHqb6HFfOG6Fw2HX3K0VW/WHaFyHHLvfkd093tPjEccu9+R3T3e0+MTgJWqrocc6s2dR2hM2sN47Qs/jl3vyO6e72nxiOOXe/I7p7vafGKqxkrWb3XxMJtcbx2pn1gM5GzaNqy+OXe/I7p7vafGI45d78junu9p8Yndmsdelzj8f4MH56zTEN34b9+SrFrZriEZ7QuS45d78junu9p8Yjjl3vyO6e72nxijuvMs+0V+n4/wccbazY4dqZtdkSHDaJWfxy735HdPd7T4xHHLvfkd093tPjFPdhdpV/5+P8GD85aBkR2jPJUU7yBjMQY2jaY+suV45d78junu9p8Yjjl3vyO6e72nxijuvEt9qVyj8f4MOraWjVw6JCZtZsajtCyuOXe/I7p7vafGI45d78junu9p8YoWGiftT/5+P8Hqvmu0W1LVaRgZUc2xvLGua14x8JTw5Oy1yXuVvbVEmnd1B7cDSMVJoeXwC4FsANaTiYDJIIDiC05adM88++BpZLqHRQtQ/wD7VZx1b65Ldf3Nr8atYxpUcGfP3k+JbG3dgsNpxBj7HZS3HTJqcBTBwuqtxhrG5AMp4hJcTnMHCQbb4sFaW8DZKDmn5y100KQLSy0AUXelEg0WPbGcuew6ArT/AI6t9cluv7m1+NRx1b65Ldf3Nr8arUYcT8TcO621HPc193UGwzEAaTGySKuEYyXNBxMZTLRP0y+QAAcRtK0cgoEDhCXfN6YJio4U2hvC5YmFpzMjC6ZxBaj8dW+uS3X9za/Go46t9cluv7m1+NUUOJ+JuS2yu/RTYqDS5lM1AKLHYXHHwgGn0S2m0ScuFLiHBpVdssjhTbUbZKRPBMeWCz08LnQ41Q/LG0hoaWtbq4kZ7NOuOrfXJbr+5tfjUcdW+uTXX9za/Gq0Wk+RWfFJUm0bk07JULj/ANBZg0HI8E3E5oaTMaNLzADZOGc5WNQsNYD+p2d326FNujXkn0Yj0sDQ2HHWHP8ApHT/AI6t9cmuv7m1+NUcdS+eTXZ9za/Gq/Gv0oy7uf65G4VexVzpYbKyDT0pMdObS8EuDQBGMTmRI2hIyjVBAdYKBkvg8DTyzc6m30TEFsMxGILSTMidQeOrfXJrs+5tfjUcdW+uTXZ9zavGqe8j+lEd1O745fA3JvWyva9wp2CzvaD6P6KmJEN/WxbZc6cMNwYcy8EYVssNp9PDY7LkXYSLPTzAwtaRL8w6HPwmCAWidq1D46t9cluv7m1+NRx1b65Ldf3Nr8asqOjifibgPo1sv5voNgtD/wBAxwIdjlzQHg+g0NeW6knBM5rNuWyONQNr2GzsY5pILKTHYXcIWhj3ZgywYsQG3OMp0y46t9cluv7m1+NRx1b65Ldf3Nr8alDiZt/81rNLosFGppkadFrcWJwNNhAEMww4VXY9IIl2FmNXdWxhjbvs5ID3OmzhoLQCKbyZcG43GeBGJ4wanF6OpPHVvrkt1/c2vxqOOrfXJbr+5tfjUHEzcu9LAeCpuZY6QqYf0rW0aRipgBDAXs/oy8lpfE5DNslzcO1NqNBc677OGg5ngWuwtgYnQ0y7giSIH9L+rgWoHHVvrkt1/c2vxqOOrfXJbr+5tfjUocTNu7us1d9OqXWCzsPAVKlE8EzGapbNNhaWloEnDDji9HPVTUsdb6DLFQd+jceGqUKeTxmBhApSD9EDCyMMmQQVqHx1b65Ldf3Nr8ajjq31yW6/ubX41BxM2+fdlU0mYrLQa/hYc5lnpTwRpvdOEsqw4VMDTAOuzMpLfwjXtpiwWclznYYoNMtALs3ZtYWwAS76WMQG4c9ROOrfXJbr+5tfjUcdW+uS3X9za/GoOJm51xWBzqmGtYbKxmAnG2m2S/FkAIcAMOwmZE6GF3ELQDjq31yW6/ubX41HHVvrkt1/c2vxqENmsyEIQAhCEAIQhACEIQAhCEAIQhACEIQAhCEAIQhACEIQAhCEAIQhACEIQAhCEAIQhACEIQAhCEAIQhACEIQAhCEAIQhACEIQAhCEAIQhACEIQAhCEAIQhACEIQAhCEAIQhACEIQAhCEAIQhACEIQAhCEAIQhACEIQAhCEAIQhACEIQAhCEAIQhACEIQAhCEAIQhACEIQAhCEAIQhACEIQAhCEAIQhACEIQAhCEAIQhACEIQAhCEAIQhACEIQAhCEAIQhACEIQAhCEAIQhACEIQAhCEAIQhACEIQAhCEAIQhACEIQAhCEAIQhACEIQAhCEAIQhACEIQAhCEAIQhACEIQAhCEAIQhACEIQAhCEAIQhACEIQAhCEAIQhACEIQAhCEAIQhAf/9k=\n",
         "text/html": "\n        <iframe\n            width=\"800\"\n            height=\"450\"\n            src=\"https://www.youtube.com/embed/_6JOA-iiEGU\"\n            frameborder=\"0\"\n            allowfullscreen\n        ></iframe>\n        ",
         "text/plain": "<IPython.lib.display.YouTubeVideo at 0x7f9dd32358d0>"
        },
        "metadata": {},
        "output_type": "display_data"
       }
      ]
     }
    },
    "78738c65d4774fd48947c426c1071b16": {
     "model_module": "@jupyter-widgets/base",
     "model_module_version": "1.2.0",
     "model_name": "LayoutModel",
     "state": {
      "_model_module": "@jupyter-widgets/base",
      "_model_module_version": "1.2.0",
      "_model_name": "LayoutModel",
      "_view_count": null,
      "_view_module": "@jupyter-widgets/base",
      "_view_module_version": "1.2.0",
      "_view_name": "LayoutView",
      "align_content": null,
      "align_items": null,
      "align_self": null,
      "border": null,
      "bottom": null,
      "display": null,
      "flex": null,
      "flex_flow": null,
      "grid_area": null,
      "grid_auto_columns": null,
      "grid_auto_flow": null,
      "grid_auto_rows": null,
      "grid_column": null,
      "grid_gap": null,
      "grid_row": null,
      "grid_template_areas": null,
      "grid_template_columns": null,
      "grid_template_rows": null,
      "height": null,
      "justify_content": null,
      "justify_items": null,
      "left": null,
      "margin": null,
      "max_height": null,
      "max_width": null,
      "min_height": null,
      "min_width": null,
      "object_fit": null,
      "object_position": null,
      "order": null,
      "overflow": null,
      "overflow_x": null,
      "overflow_y": null,
      "padding": null,
      "right": null,
      "top": null,
      "visibility": null,
      "width": "815px"
     }
    }
   }
  }
 },
 "nbformat": 4,
 "nbformat_minor": 1
}
