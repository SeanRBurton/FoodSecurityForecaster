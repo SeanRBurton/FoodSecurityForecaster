{
 "cells": [
  {
   "cell_type": "code",
   "execution_count": null,
   "id": "8d31457e",
   "metadata": {},
   "outputs": [],
   "source": [
    "!pwd"
   ]
  },
  {
   "cell_type": "code",
   "execution_count": 1,
   "id": "0e90e3d0",
   "metadata": {},
   "outputs": [],
   "source": [
    "#!/usr/bin/env python\n",
    "# coding: utf-8\n",
    "\n",
    "import pandas as pd\n",
    "import numpy as np\n",
    "import os\n",
    "import sys\n",
    "\n",
    "def build_histograms(country_code='SSD', num_bins=10):\n",
    "\n",
    "    data_path = f'../raw_data/raw_pixels/{country_code}'\n",
    "\n",
    "    df_list = []\n",
    "\n",
    "    for file in os.listdir(data_path)[0:1]:\n",
    "        file_path = os.path.join(data_path, file)\n",
    "        print(file_path)\n",
    "        df = pd.read_pickle(file_path)\n",
    "        df_list.append(df)\n",
    "\n",
    "    df_list = sorted(df_list, key = lambda df: df.attrs['state_name'])\n",
    "\n",
    "    stacked_df = pd.concat(df_list)\n",
    "    band_groups = stacked_df.groupby('band')\n",
    "    q = np.linspace(0, 1, num_bins + 1)\n",
    "    band_quantiles = [np.quantile(band_group['value'], q) for band, band_group in band_groups]\n",
    "\n",
    "    for bins in band_quantiles:\n",
    "        bins[0] = -float('inf')\n",
    "        bins[-1] = float('inf')\n",
    "\n",
    "    num_bands = stacked_df['band'].nunique()\n",
    "    num_years = stacked_df['date'].dt.year.nunique()\n",
    "    num_counties = len(df_list)\n",
    "    num_samples = 23\n",
    "\n",
    "    X = np.zeros((num_years, num_counties, num_samples, num_bins, num_bands))\n",
    "\n",
    "    for county_index, df in enumerate(df_list):\n",
    "        for year_index, (year, year_group) in enumerate(df.groupby(df['date'].dt.year)):\n",
    "            for sample_index, (sample_date, sample_group) in enumerate(year_group.groupby('date')):\n",
    "                for band_index, (band_name, band_group) in enumerate(sample_group.groupby('band')):\n",
    "                    hist = np.histogram(band_group['value'], bins=band_quantiles[band_index])[0]\n",
    "                    X[year_index,county_index,sample_index,:,band_index] = hist\n",
    "\n",
    "    county_names = np.array([df.attrs['state_name'] for df in df_list])\n",
    "    np.savez_compressed(f'../data/{country_code}_data_random_state', X=X, county_names=county_names)\n",
    "\n",
    "# if __name__ == \"__main__\":\n",
    "#     build_histograms(sys.argv[1])\n"
   ]
  },
  {
   "cell_type": "code",
   "execution_count": 2,
   "id": "0891c0b4",
   "metadata": {},
   "outputs": [
    {
     "name": "stdout",
     "output_type": "stream",
     "text": [
      "../raw_data/raw_pixels/USA/Colorado.zip\n"
     ]
    }
   ],
   "source": [
    "build_histograms('USA')"
   ]
  },
  {
   "cell_type": "code",
   "execution_count": null,
   "id": "40cd4c87",
   "metadata": {},
   "outputs": [],
   "source": []
  }
 ],
 "metadata": {
  "kernelspec": {
   "display_name": "Python 3 (ipykernel)",
   "language": "python",
   "name": "python3"
  },
  "language_info": {
   "codemirror_mode": {
    "name": "ipython",
    "version": 3
   },
   "file_extension": ".py",
   "mimetype": "text/x-python",
   "name": "python",
   "nbconvert_exporter": "python",
   "pygments_lexer": "ipython3",
   "version": "3.8.12"
  },
  "toc": {
   "base_numbering": 1,
   "nav_menu": {},
   "number_sections": true,
   "sideBar": true,
   "skip_h1_title": false,
   "title_cell": "Table of Contents",
   "title_sidebar": "Contents",
   "toc_cell": false,
   "toc_position": {},
   "toc_section_display": true,
   "toc_window_display": false
  }
 },
 "nbformat": 4,
 "nbformat_minor": 5
}
